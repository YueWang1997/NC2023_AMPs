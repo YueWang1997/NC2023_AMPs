{
 "cells": [
  {
   "cell_type": "code",
   "execution_count": null,
   "id": "balanced-baseline",
   "metadata": {},
   "outputs": [],
   "source": [
    "#!/usr/bin/env python\n",
    "# -*- coding: utf-8 -*-\n",
    "import numpy as np\n",
    "import pandas as pd\n",
    "import scanpy as sc\n",
    "import anndata\n",
    "import bbknn\n",
    "import os\n",
    "from scipy import sparse\n",
    "import matplotlib.pyplot as plt\n",
    "# from scanpy_base_moudle_update2 import *\n",
    "# import scrublet as scr\n",
    "import datetime\n",
    "import harmonypy as hm\n",
    "\n",
    "sc.settings.verbosity = 3\n",
    "#sc.logging.print_versions()\n",
    "# 设置图片的分辨率以及其他样式\n",
    "sc.settings.set_figure_params(dpi=150, figsize = (4, 3), fontsize=12)\n",
    "\n",
    "import matplotlib.font_manager\n",
    "flist = matplotlib.font_manager.get_fontconfig_fonts()\n",
    "names = [matplotlib.font_manager.FontProperties(fname=fname).get_name() for fname in flist]\n",
    "print(names)\n",
    "\n",
    "params={\n",
    "        #'font.style':'italic',\n",
    "        'font.weight':'normal',    #or 'blod'\n",
    "        }\n",
    "plt.rcParams.update(params)\n",
    "\n",
    "plt.rcParams['font.family']='Arial'"
   ]
  },
  {
   "cell_type": "markdown",
   "id": "constitutional-distributor",
   "metadata": {},
   "source": [
    "# Human"
   ]
  },
  {
   "cell_type": "code",
   "execution_count": null,
   "id": "comic-addiction",
   "metadata": {},
   "outputs": [],
   "source": [
    "adata = sc.read('/mnt/data/Project2021/Gut_immune_surveillance/data/h5ad/All_579886_umap.h5ad')\n",
    "adata"
   ]
  },
  {
   "cell_type": "code",
   "execution_count": null,
   "id": "minute-guinea",
   "metadata": {},
   "outputs": [],
   "source": [
    "Groups_tab_1 = pd.crosstab(index=adata.obs['PCW'],  # Make a crosstab\n",
    "                columns=adata.obs['organ'], margins=True)  # Name the count column\n",
    "Groups_tab_1"
   ]
  },
  {
   "cell_type": "code",
   "execution_count": null,
   "id": "compatible-harris",
   "metadata": {},
   "outputs": [],
   "source": [
    "## Prenatal and tHIO\n",
    "\n",
    "#     Proximal SI   Distal SI   Colon  tHIO\n",
    "# 6:   1065           1055       715    0\n",
    "# 7:   1630           938        505    0\n",
    "# 8:   1030           1800       188    1440\n",
    "# 9:   4786           4204       1978   0\n",
    "# 10:  3664           4991       2214   0\n",
    "# 11:  1511           2677       802    0\n",
    "# 12:  551            1168       3148   1724\n",
    "# 13:  0              3020       2983   0\n",
    "# 14:  455            279        295    0\n",
    "# 15:  1757           3775       2789   0\n",
    "# 16:  2884           4328       2426   0\n",
    "# 17:  410            1616       2532   0\n",
    "# 18:  414            655        956    0\n",
    "# 19:  507            475        1368   0\n",
    "# 20:  0              477        753    0\n",
    "# 22:  0              458        1082   0"
   ]
  },
  {
   "cell_type": "code",
   "execution_count": null,
   "id": "parliamentary-publicity",
   "metadata": {},
   "outputs": [],
   "source": [
    "#                   Proximal SI   Duodenum     Jejunum    Distal SI   Appendix   Colon     Rectum               \n",
    "# Postnatal(All):      0           24673       20829      160909      5829      246751    120895\n",
    "# Postnatal(Normal):   0           24673       20829      48664       5829      143053     20611\n",
    "# Postnatal(CD):       0              0          0        112245       0           0         0 \n",
    "# Postnatal(UC):       0              0          0          0          0        103698    100284"
   ]
  },
  {
   "cell_type": "code",
   "execution_count": null,
   "id": "possible-studio",
   "metadata": {},
   "outputs": [],
   "source": [
    "#                   Proximal SI   Duodenum     Jejunum    Distal SI   Appendix   Colon     Rectum\n",
    "# Mouse                0              0          0          64251      0         63605       0"
   ]
  },
  {
   "cell_type": "code",
   "execution_count": null,
   "id": "graphic-documentary",
   "metadata": {},
   "outputs": [],
   "source": [
    "## Prenatal and tHIO\n",
    "plot_df_1 = pd.DataFrame(data=[\n",
    "                   [ 1065, 0, 0, 1055, 0, 715, 0, 0],\n",
    "                   [ 1630, 0, 0, 938, 0, 505, 0, 0],\n",
    "                   [ 1030, 0, 0, 1800, 0, 188, 0, 1440],\n",
    "                   [ 4786, 0, 0, 4204, 0, 1978, 0, 0],\n",
    "                   [ 3664, 0, 0, 4991, 0, 2214, 0, 0],\n",
    "                   [ 1511, 0, 0, 2677, 0, 802, 0, 0],\n",
    "                   [ 551, 0, 0, 1168, 0, 3148, 0, 1724],\n",
    "                   [ 0, 0, 0, 3020, 0, 2983, 0, 0],\n",
    "                   [ 455, 0, 0, 279, 0, 295, 0, 0],\n",
    "                   [ 1757, 0, 0, 3775, 0, 2789, 0, 0],\n",
    "                   [ 2884, 0, 0, 4328, 0, 2426, 0, 0],\n",
    "                   [ 410, 0, 0, 1616, 0, 2532, 0, 0],\n",
    "                   [ 414, 0, 0, 655, 0, 956, 0, 0],\n",
    "                   [ 507, 0, 0, 475, 0, 1368, 0, 0],\n",
    "                   [ 0, 0, 0, 477, 0, 753, 0, 0],\n",
    "                   [ 0, 0, 0, 458, 0, 1082, 0, 0],\n",
    "                   ],\n",
    "     \n",
    "             columns = ['Proximal SI','Duodenum','Jejunum','Ileum','Appendix','Colon','Rectum','tHIO'],\n",
    "                          \n",
    "             index = ['6','7','8','9','10','11','12','13','14','15','16','17','18','19','20','22']\n",
    "                        )"
   ]
  },
  {
   "cell_type": "code",
   "execution_count": null,
   "id": "social-victoria",
   "metadata": {
    "scrolled": true
   },
   "outputs": [],
   "source": [
    "from matplotlib import cm, colors\n",
    "\n",
    "colors2 = plt.cm.viridis(np.linspace(0, 1, 128))\n",
    "colors3 = plt.cm.BuGn(np.linspace(0,0,2))\n",
    "colorsComb = np.vstack([colors3, colors2])\n",
    "mymap = colors.LinearSegmentedColormap.from_list('my_colormap', colorsComb)\n",
    "\n",
    "# Figure test1\n",
    "import seaborn as sns\n",
    "\n",
    "sns.set(style=\"ticks\", font='Arial', font_scale=1.0)\n",
    "ax = sns.heatmap(plot_df_1, linewidths=2.0, cmap=mymap) #gist_yarg  BuGn\n",
    "ax.figure.set_size_inches(10,19)\n",
    "\n",
    "plt.show()"
   ]
  },
  {
   "cell_type": "code",
   "execution_count": null,
   "id": "proud-greece",
   "metadata": {},
   "outputs": [],
   "source": [
    "## Postnatal and Mouse\n",
    "plot_df_2 = pd.DataFrame(data=[\n",
    "                   [ 0, 24673, 20829, 48664, 5829, 143053, 20611, 0],\n",
    "                   [ 0, 0, 0, 112245, 0, 0, 0, 0],\n",
    "                   [ 0, 0, 0, 0, 0, 103698, 100284, 0],\n",
    "                   [ 0, 0, 0, 64251, 0, 63605, 0, 0],\n",
    "                   ],\n",
    "     \n",
    "             columns = ['Proximal SI','Duodenum','Jejunum','Ileum','Appendix','Colon','Rectum','tHIO'],\n",
    "                          \n",
    "             index = ['Postnatal(Normal)','Postnatal(CD)','Postnatal(UC)','Mouse']\n",
    "                        )"
   ]
  },
  {
   "cell_type": "code",
   "execution_count": null,
   "id": "confirmed-cutting",
   "metadata": {},
   "outputs": [],
   "source": [
    "from matplotlib import cm, colors\n",
    "\n",
    "colors2 = plt.cm.viridis(np.linspace(0, 1, 128))\n",
    "colors3 = plt.cm.BuGn(np.linspace(0,0,2))\n",
    "colorsComb = np.vstack([colors3, colors2])\n",
    "mymap = colors.LinearSegmentedColormap.from_list('my_colormap', colorsComb)\n",
    "\n",
    "# Figure test1\n",
    "import seaborn as sns\n",
    "\n",
    "sns.set(style=\"ticks\", font='Arial', font_scale=1.0)\n",
    "ax = sns.heatmap(plot_df_2, linewidths=2.0, cmap=mymap) #gist_yarg  BuGn\n",
    "ax.figure.set_size_inches(10,5)\n",
    "\n",
    "plt.show()"
   ]
  },
  {
   "cell_type": "code",
   "execution_count": null,
   "id": "legislative-nicaragua",
   "metadata": {},
   "outputs": [],
   "source": [
    "obs_index = adata.obs.loc[adata.obs[\"pan_development_state\"].isin(['After_born']), :].index\n",
    "adata_single = adata[obs_index, :]\n",
    "adata_single"
   ]
  },
  {
   "cell_type": "code",
   "execution_count": null,
   "id": "published-burning",
   "metadata": {},
   "outputs": [],
   "source": [
    "# Epithelium\n",
    "obs_index = adata_single.obs.loc[adata.obs[\"Compartment\"].isin(['Epithelium']), :].index\n",
    "adata_com = adata_single[obs_index, :]\n",
    "adata_com"
   ]
  },
  {
   "cell_type": "code",
   "execution_count": null,
   "id": "driving-sucking",
   "metadata": {},
   "outputs": [],
   "source": [
    "sc.settings.set_figure_params(dpi=200, figsize = (4, 3), fontsize=10)\n",
    "ax = sc.pl.correlation_matrix(adata_com, 'organ', figsize=(5,3.5))"
   ]
  },
  {
   "cell_type": "code",
   "execution_count": null,
   "id": "induced-warehouse",
   "metadata": {},
   "outputs": [],
   "source": [
    "# 添加区域信息\n",
    "phenotype = 'pan_organ'\n",
    "annotation = 'ann_for_cpdb'\n",
    "\n",
    "ann_list = adata_com.obs[annotation].to_list()\n",
    "phenotype_list = adata_com.obs[phenotype].to_list()\n",
    "Ann=[phenotype_list[i]+ '_' + ann_list[i] for i in range(min(len(phenotype_list),len(ann_list)))]\n",
    "adata_com.obs['Ann_for_tree'] = Ann"
   ]
  },
  {
   "cell_type": "code",
   "execution_count": null,
   "id": "portable-maria",
   "metadata": {},
   "outputs": [],
   "source": [
    "adata_com.obs['Ann_for_tree'] = pd.Categorical(adata_com.obs['Ann_for_tree'])"
   ]
  },
  {
   "cell_type": "code",
   "execution_count": null,
   "id": "republican-fourth",
   "metadata": {},
   "outputs": [],
   "source": [
    "# Epithelium-Goblet\n",
    "obs_index = adata_com.obs.loc[adata_com.obs[\"ann_for_cpdb\"].isin(['Enteroendocrine cells']), :].index\n",
    "adata_ct = adata_com[obs_index, :]\n",
    "adata_ct"
   ]
  },
  {
   "cell_type": "code",
   "execution_count": null,
   "id": "junior-folder",
   "metadata": {},
   "outputs": [],
   "source": [
    "sc.settings.set_figure_params(dpi=200, figsize = (4, 3), fontsize=5)\n",
    "ax = sc.pl.correlation_matrix(adata_com, 'Ann_for_tree', figsize=(5,3.5))"
   ]
  },
  {
   "cell_type": "code",
   "execution_count": null,
   "id": "finite-senior",
   "metadata": {},
   "outputs": [],
   "source": [
    "Groups_tab_1 = pd.crosstab(index=adata_single.obs['health'],  # Make a crosstab\n",
    "                columns=adata_single.obs['organ'], margins=True)  # Name the count column\n",
    "Groups_tab_1"
   ]
  },
  {
   "cell_type": "markdown",
   "id": "portuguese-english",
   "metadata": {},
   "source": [
    "Postnatal: Duo-Jej (22) Ileum (58) App-Col-Rec (187)-Colon(134)-Rectum(46)-Appendix(7)\n",
    "Prenatal: Duo-Jej(27) Ileum(30) Colon(28)"
   ]
  },
  {
   "cell_type": "code",
   "execution_count": null,
   "id": "interim-landscape",
   "metadata": {},
   "outputs": [],
   "source": [
    "adata_single.obs['organ'].cat.categories"
   ]
  },
  {
   "cell_type": "code",
   "execution_count": null,
   "id": "directed-electric",
   "metadata": {},
   "outputs": [],
   "source": [
    "obs_index = adata_single.obs.loc[adata_single.obs[\"organ\"].isin(['Colon']), :].index\n",
    "adata_organ = adata_single[obs_index, :]"
   ]
  },
  {
   "cell_type": "code",
   "execution_count": null,
   "id": "black-orbit",
   "metadata": {},
   "outputs": [],
   "source": [
    "len(adata_organ.obs['batch_name'].cat.categories)"
   ]
  },
  {
   "cell_type": "code",
   "execution_count": null,
   "id": "local-match",
   "metadata": {},
   "outputs": [],
   "source": [
    "len(adata_single.obs['patient_id'].cat.categories)"
   ]
  },
  {
   "cell_type": "code",
   "execution_count": null,
   "id": "downtown-drive",
   "metadata": {},
   "outputs": [],
   "source": [
    "sc.pl.umap(adata, color=['Compartment'], add_outline=True, palette=\"tab20_r\", frameon=False)"
   ]
  },
  {
   "cell_type": "code",
   "execution_count": null,
   "id": "victorian-trailer",
   "metadata": {},
   "outputs": [],
   "source": [
    "new_colors[[26]] = '#fa324d' \n",
    "\n",
    "adata.uns['cluster_figure1A_colors'] = new_colors\n",
    "sc.settings.set_figure_params(dpi=150, figsize = (4, 3), fontsize=7)\n",
    "sc.pl.umap(adata, color=['cluster_figure1A'], groups = ['C01-E14-PGC+mucous cells'] ,add_outline=True, frameon=False)"
   ]
  },
  {
   "cell_type": "code",
   "execution_count": null,
   "id": "genetic-liquid",
   "metadata": {},
   "outputs": [],
   "source": [
    "sc.settings.set_figure_params(dpi=200, figsize = (4, 3), fontsize=7)\n",
    "sc.pl.umap(adata, color=['cluster_figure1A'], add_outline=True, palette=\"tab20_r\", frameon=False)\n",
    "sc.pl.umap(adata, color=['ann_for_cpdb'], add_outline=True, palette=\"tab20_r\", frameon=False)"
   ]
  },
  {
   "cell_type": "code",
   "execution_count": null,
   "id": "grave-median",
   "metadata": {},
   "outputs": [],
   "source": [
    "len(adata.obs['cluster_figure1A'].cat.categories)"
   ]
  },
  {
   "cell_type": "code",
   "execution_count": null,
   "id": "opened-jersey",
   "metadata": {},
   "outputs": [],
   "source": [
    "adata.obs['cluster_figure1A'].cat.categories"
   ]
  },
  {
   "cell_type": "raw",
   "id": "guided-novelty",
   "metadata": {},
   "source": [
    "00       'C01-E01-Fetal-Stem cells', \n",
    "01       'C01-E01-HIO-Stem cells',\n",
    "02       'C01-E01-Stem cells', \n",
    "03       'C01-E02-Fetal-TA',\n",
    "04       'C01-E02-HIO-Immature enterocytes', \n",
    "05       'C01-E02-TA',\n",
    "06       'C01-E03-Fetal-Immature enterocytes', \n",
    "07       'C01-E03-HIO-Enterocytes',\n",
    "08       'C01-E03-Immature enterocytes', \n",
    "09       'C01-E04-APOA1+Enterocytes',\n",
    "10       'C01-E04-Fetal-APOA1+Enterocytes', \n",
    "11       'C01-E04-HIO-BEST4+enterocytes',\n",
    "12       'C01-E05-CA1+Enterocytes', \n",
    "13       'C01-E05-Fetal-CA1+Enterocytes',\n",
    "14       'C01-E05-HIO-Enteroendocrine cells', \n",
    "15       'C01-E06-BEST4+enterocytes',\n",
    "16       'C01-E06-Fetal-BEST4+enterocytes', \n",
    "17       'C01-E06-HIO-Goblet cells',\n",
    "18       'C01-E07-Fetal-PI3+enterocytes', \n",
    "19       'C01-E07-HIO-PGC+mucous cells',\n",
    "20       'C01-E07-PI3+enterocytes', \n",
    "21       'C01-E08-Fetal-IGKC+Enterocytes',\n",
    "22       'C01-E08-HIO-Basal like cells', \n",
    "23       'C01-E08-IGKC+Enterocytes',\n",
    "24       'C01-E09-Fetal-Microfold cells',\n",
    "25       'C01-E09-HIO-Ciliated like cells',\n",
    "26       'C01-E09-Microfold cells', \n",
    "27       'C01-E10-Enteroendocrine cells',\n",
    "28       'C01-E10-Fetal-Enteroendocrine cells', \n",
    "29       'C01-E11-Fetal-Tuft cells',\n",
    "30       'C01-E11-Tuft cells', \n",
    "31       'C01-E12-Fetal-Goblet cells',\n",
    "32       'C01-E12-Goblet cells', \n",
    "33       'C01-E13-Fetal-Paneth cells',\n",
    "34       'C01-E13-Paneth cells', \n",
    "35       'C01-E14-Fetal-PGC+mucous cells',\n",
    "36       'C01-E14-PGC+mucous cells'"
   ]
  },
  {
   "cell_type": "code",
   "execution_count": null,
   "id": "unavailable-brown",
   "metadata": {},
   "outputs": [],
   "source": [
    "## Epithelium\n",
    "\n",
    "# Stem and TA\n",
    "new_colors[[0,1,2,3,5]] = '#9edae5'\n",
    "# Immature enterocytes\n",
    "new_colors[[4,6,8]] = '#17becf'\n",
    "# Enterocytes\n",
    "new_colors[[7,9,10,12,13]] = '#dbdb8d'\n",
    "# BEST4+Enterocytes\n",
    "new_colors[[11,15,16]] = '#bcbd22'\n",
    "# PI3+/IGKC+Microfold cells/Basal like cells\n",
    "new_colors[[18,20,21,23,24,26,22,25]] = '#c7c7c7'\n",
    "\n",
    "# PGC+mucous cells\n",
    "new_colors[[19,35,36]] = '#db25c6'\n",
    "# Goblet\n",
    "new_colors[[17,31,32]] = '#f7b6d2'#f7b6d2\n",
    "# Paneth\n",
    "new_colors[[33,34]] = '#3b38eb'\n",
    "# Tuft\n",
    "new_colors[[29,30]] = '#34db25'\n",
    "# EECs\n",
    "new_colors[[14,27,28]] = '#db3559'"
   ]
  },
  {
   "cell_type": "raw",
   "id": "visible-brush",
   "metadata": {},
   "source": [
    "37       'C02-T01-NKs and ILC1', \n",
    "38       'C02-T02-ILC2 and 3', \n",
    "39       'C02-T03-γδT', \n",
    "40       'C02-T04-CD4+Naive T/Tcm',\n",
    "41       'C02-T05-CD4+Treg', \n",
    "42       'C02-T06-CD4+Tfh',\n",
    "43       'C02-T07-CD4+Type 1 cytokines Trm', \n",
    "44       'C02-T08-CD4+Type 3 cytokines Trm',\n",
    "45       'C02-T09-CD4+ANXA1+T cells', \n",
    "46       'C02-T10-CD4+Cytokines low Trm',\n",
    "47       'C02-T11-CD8+Naive T/Tcm', \n",
    "48       'C02-T12-CD8+Cytotoxic Trm',\n",
    "49       'C02-T13-CD8+CTL Tem', \n",
    "50       'C02-T14-CD8+IEL', \n",
    "51       'C02-T15-DEFA5+Trm',\n",
    "52       'C02-T16-MT1X+Trm', \n",
    "53       'C02-T17-Cycling T',"
   ]
  },
  {
   "cell_type": "code",
   "execution_count": null,
   "id": "intermediate-compensation",
   "metadata": {},
   "outputs": [],
   "source": [
    "## T/ILCs\n",
    "\n",
    "# NK/ILC1\n",
    "new_colors[[37]] = '#ff19e0'\n",
    "# ILC2/3\n",
    "new_colors[[38]] = '#f6ff00'\n",
    "# gamma_delta T\n",
    "new_colors[[39]] = '#ff0000'\n",
    "# CD4+Naive T/Treg/Tfh\n",
    "new_colors[[40,41,42]] = '#9edae5'\n",
    "# CD4+T helper\n",
    "new_colors[[43,44,45,46]] = '#17becf'\n",
    "# CD8+Naive T/ Cytotoxic T /DEFA5+/MT1X+\n",
    "new_colors[[47,48,49,50,51,52]] = '#4265bd'\n",
    "# Cycling T\n",
    "new_colors[[53]] = '#00f3f7'#fff7b0"
   ]
  },
  {
   "cell_type": "raw",
   "id": "unavailable-exclusive",
   "metadata": {},
   "source": [
    "54       'C03-B01-IgA Plasma',\n",
    "55       'C03-B02-IgG Plasma', \n",
    "56       'C03-B03-Cycling Plamsa cells',\n",
    "57       'C03-B04-Naive B cells', \n",
    "58       'C03-B05-GC B cells',\n",
    "59       'C03-B06-Cycling GC B cells', \n",
    "60       'C03-B07-Memory B cells',\n",
    "61       'C03-B08-FCRL4+Memory B cells'"
   ]
  },
  {
   "cell_type": "code",
   "execution_count": null,
   "id": "accepted-halloween",
   "metadata": {},
   "outputs": [],
   "source": [
    "## B cells\n",
    "\n",
    "# IgA Plasma\n",
    "new_colors[[54]] = '#f7a85b'\n",
    "# IgG Plasma\n",
    "new_colors[[55]] = '#ff0505'\n",
    "# Cycling Plamsa cells\n",
    "new_colors[[56]] = '#00f3f7'\n",
    "# Cycling GC B cells\n",
    "new_colors[[59]] = '#00f3f7'\n",
    "# Naive B cells/GC B cells/Memory B cells/FCRL4+Memory B cells\n",
    "new_colors[[57,58,60,61]] = '#ffa90a'"
   ]
  },
  {
   "cell_type": "raw",
   "id": "proof-venice",
   "metadata": {},
   "source": [
    "62       'C04-M01-CD14+Monocytes',\n",
    "63       'C04-M02-ISG15+Monocytes', \n",
    "64       'C04-M03-Mon-DCs', \n",
    "65       'C04-M04-CD16+Moncytes',\n",
    "66       'C04-M05-Megakaryocytes', \n",
    "67       'C04-M06-cDC1', \n",
    "68       'C04-M07-cDC2',\n",
    "69       'C04-M08-LAMP3+DCs', \n",
    "70       'C04-M09-pDCs', \n",
    "71       'C04-M10-CXCL9+Macrophages',\n",
    "72       'C04-M11-IL1B+Macrophages', \n",
    "73       'C04-M12-SPP1+Macrophages',\n",
    "74       'C04-M13-CCL18+Macrophages', \n",
    "75       'C04-M14-C1QA+Macrophages',\n",
    "76       'C04-M15-CD163+Macrophages', \n",
    "77       'C04-M16-Mon-Macrophages',\n",
    "78       'C04-M17-HSPB1_high Macrophages', \n",
    "79       'C04-M18-DEFA5+Macrophages',\n",
    "80       'C04-M19-IGHA1+Macrophages', \n",
    "81       'C04-M20-MT1X+Macrophages',\n",
    "82       'C04-M21-Cycling+MNPs'\n",
    "83       'C05-Mast cells'"
   ]
  },
  {
   "cell_type": "code",
   "execution_count": null,
   "id": "classical-hollywood",
   "metadata": {},
   "outputs": [],
   "source": [
    "## DCs and MNPs\n",
    "\n",
    "# Monocytes\n",
    "new_colors[[62,63,64,65]] = '#ff9896'\n",
    "# Megakaryocytes\n",
    "new_colors[[66]] = '#fff70a'\n",
    "# DCs\n",
    "new_colors[[67,68,69,70]] = '#d62728'\n",
    "# M1 Macrophages\n",
    "new_colors[[71,72]] = '#98df8a'\n",
    "# M2 Macrophages\n",
    "new_colors[[73,74,75,76]] = '#2ca02c'\n",
    "# Other Macrophages\n",
    "new_colors[[77,78,79,80,81]] = '#008700'\n",
    "# Cycling+MNPs\n",
    "new_colors[[82]] = '#00f3f7'\n",
    "\n",
    "## Mast 'C05-Mast cells'\n",
    "new_colors[[83]] = '#9c1a43'"
   ]
  },
  {
   "cell_type": "raw",
   "id": "rubber-production",
   "metadata": {},
   "source": [
    "84       'C06-S01-Glia',\n",
    "85       'C06-S02-HEY1+arterial endo', \n",
    "86       'C06-S03-ACKR1+venous endo',\n",
    "87       'C06-S04-RGCC+capillary endo', \n",
    "88       'C06-S05-Lymphatic endo',\n",
    "89       'C06-S06-Pericytes', \n",
    "90       'C06-S07-Smooth muscle cells',\n",
    "91       'C06-S08-Follicular dendritic cells', \n",
    "92       'C06-S09-T reticular cells',\n",
    "93       'C06-S10-Immature RSPO3-fibro', \n",
    "94       'C06-S11-RSPO3-Fibro',\n",
    "95       'C06-S12-Activated RSPO3-Fibro', \n",
    "96       'C06-S13-RSPO3+Fibro',\n",
    "97       'C06-S14-Activated RSPO3+Fibro', \n",
    "98       'C06-S15-WNT5B+Fibro',\n",
    "99       'C06-S16-Cycling fibro'"
   ]
  },
  {
   "cell_type": "code",
   "execution_count": null,
   "id": "retained-southeast",
   "metadata": {},
   "outputs": [],
   "source": [
    "## Stromal\n",
    "\n",
    "# Glia\n",
    "new_colors[[84]] = '#fbff00'\n",
    "\n",
    "# HEY1+arterial endo\n",
    "new_colors[[85]] = '#73a041'\n",
    "# ACKR1+venous endo\n",
    "new_colors[[86]] = '#185b30'\n",
    "# RGCC+capillary endo\n",
    "new_colors[[87]] = '#aaccae'\n",
    "# Lym endo\n",
    "new_colors[[88]] = '#e1f0d6'\n",
    "\n",
    "# Pericytes\n",
    "new_colors[[89]] = '#db1dbc'\n",
    "# Smooth muscle cells\n",
    "new_colors[[90]] = '#db1d6f'\n",
    "\n",
    "# Follicular dendritic cells\n",
    "new_colors[[91]] = '#140c38'\n",
    "# T reticular cells\n",
    "new_colors[[92]] = '#140c38'\n",
    "\n",
    "# Immature RSPO3-fibro\n",
    "new_colors[[93]] = '#db1dd5'\n",
    "# RSPO3-Fibro\n",
    "new_colors[[94]] = '#c21ddb'\n",
    "# Activated RSPO3-Fibro\n",
    "new_colors[[95]] = '#a51ddb'\n",
    "\n",
    "# RSPO3+Fibro\n",
    "new_colors[[96]] = '#7f1ddb'\n",
    "# Activated RSPO3+Fibro\n",
    "new_colors[[97]] = '#3f1ddb'\n",
    "\n",
    "# WNT5B+Fibro\n",
    "new_colors[[98]] = '#db1db2'\n",
    "\n",
    "# Cycling Fibro\n",
    "new_colors[[99]] = '#00f3f7'"
   ]
  },
  {
   "cell_type": "code",
   "execution_count": null,
   "id": "thousand-employment",
   "metadata": {},
   "outputs": [],
   "source": [
    "old_colors = np.array(adata.uns['cluster_figure1A_colors'])\n",
    "new_colors = old_colors\n",
    "new_colors"
   ]
  },
  {
   "cell_type": "code",
   "execution_count": null,
   "id": "beneficial-burke",
   "metadata": {
    "code_folding": [
     0
    ]
   },
   "outputs": [],
   "source": [
    "## Epithelium\n",
    "\n",
    "# Fetus\n",
    "new_colors[[0,3,6,10,13,16,18,21,24,28,29,31,33,35]] = '#a4edb2'\n",
    "# HIO\n",
    "new_colors[[1,4,7,11,14,17,19,22,25,]] = '#00cf29'\n",
    "# After_born\n",
    "new_colors[[2,5,8,9,12,15,20,23,26,27,30,32,34,36]] = '#21940c'#21940c #2ca02c\n",
    "\n",
    "## T/ILCs\n",
    "\n",
    "# NK/ILC1\n",
    "new_colors[[37]] = '#2664ff'\n",
    "# ILC2/3\n",
    "new_colors[[38]] = '#00cef7'\n",
    "# gamma_delta T\n",
    "new_colors[[39]] = '#0047f7'\n",
    "# CD4+Naive T/Treg/Tfh\n",
    "new_colors[[40,41,42]] = '#9edae5'\n",
    "# CD4+T helper\n",
    "new_colors[[43,44,45,46]] = '#17becf'\n",
    "# CD8+Naive T/ Cytotoxic T /DEFA5+/MT1X+\n",
    "new_colors[[47,48,49,50,51,52]] = '#4265bd'\n",
    "# Cycling T\n",
    "new_colors[[53]] = '#fff7b0'#00f3f7\n",
    "\n",
    "## B cells\n",
    "\n",
    "# IgA Plasma\n",
    "new_colors[[54]] = '#fcb66a'\n",
    "# IgG Plasma\n",
    "new_colors[[55]] = '#ff500a'\n",
    "# Cycling Plamsa cells\n",
    "new_colors[[56]] = '#fff7b0'\n",
    "# Cycling GC B cells\n",
    "new_colors[[59]] = '#fff7b0'\n",
    "# Naive B cells/GC B cells/Memory B cells/FCRL4+Memory B cells\n",
    "new_colors[[57,58,60,61]] = '#ffa90a'\n",
    "\n",
    "## DCs and MNPs\n",
    "\n",
    "# Monocytes\n",
    "new_colors[[62,63,64,65]] = '#ff7575'\n",
    "# Megakaryocytes\n",
    "new_colors[[66]] = '#fff70a'\n",
    "# DCs\n",
    "new_colors[[67,68,69,70]] = '#f20000'\n",
    "# Macrophages\n",
    "new_colors[[71,72,73,74,75,76,77,78,79,80,81]] = '#e85151'\n",
    "# Cycling+MNPs\n",
    "new_colors[[82]] = '#fff7b0'\n",
    "\n",
    "## Mast 'C05-Mast cells'\n",
    "new_colors[[83]] = '#912f19'\n",
    "\n",
    "## Stromal\n",
    "\n",
    "# Glia\n",
    "new_colors[[84]] = '#fbff00'\n",
    "# Endo\n",
    "new_colors[[85,86,87]] = '#1d2fb5'\n",
    "# Lym endo\n",
    "new_colors[[88]] = '#101a69'\n",
    "# Pericytes/Smooth muscle cells\n",
    "new_colors[[89,90]] = '#9400d4'\n",
    "# Fibro\n",
    "new_colors[[91,92,93,94,95,96,97,98]] = '#ee02fa'\n",
    "# Cycling Fibro\n",
    "new_colors[[99]] = '#ffb0fe'"
   ]
  },
  {
   "cell_type": "code",
   "execution_count": null,
   "id": "least-chorus",
   "metadata": {},
   "outputs": [],
   "source": [
    "adata.obs['patient_id'].cat.categories"
   ]
  },
  {
   "cell_type": "code",
   "execution_count": null,
   "id": "perceived-shadow",
   "metadata": {},
   "outputs": [],
   "source": [
    "adata.obs['batch_name'].cat.categories"
   ]
  },
  {
   "cell_type": "code",
   "execution_count": null,
   "id": "adopted-sweet",
   "metadata": {},
   "outputs": [],
   "source": [
    "# 论文里的图片\n",
    "adata.uns['cluster_figure1A_colors'] = new_colors\n",
    "\n",
    "# Figure 1a 按细胞类型划分颜色\n",
    "sc.settings.set_figure_params(dpi=600, figsize = (4, 3), fontsize=7)\n",
    "sc.pl.umap(adata, color=['cluster_figure1A'], add_outline=True, frameon=False, title='')"
   ]
  },
  {
   "cell_type": "code",
   "execution_count": null,
   "id": "acknowledged-wealth",
   "metadata": {},
   "outputs": [],
   "source": [
    "# 论文里的图片\n",
    "adata.uns['cluster_figure1A_colors'] = new_colors\n",
    "\n",
    "# Figure 1a 按细胞类型划分颜色\n",
    "sc.settings.set_figure_params(dpi=300, figsize = (4, 3), fontsize=7)\n",
    "sc.pl.umap(adata, color=['cluster_figure1A'], add_outline=True, frameon=False, title='')"
   ]
  },
  {
   "cell_type": "code",
   "execution_count": null,
   "id": "selective-globe",
   "metadata": {},
   "outputs": [],
   "source": [
    "sc.pl.umap(adata, color=['cluster_figure1A'], groups = ['C06-S06-Pericytes'] ,add_outline=True, palette=\"tab20_r\", frameon=False)\n",
    "sc.pl.umap(adata, color=['cluster_figure1A'], groups = ['C06-S07-Smooth muscle cells'] ,add_outline=True, palette=\"tab20_r\", frameon=False)\n",
    "sc.pl.umap(adata, color=['cluster_figure1A'], groups = ['C06-S11-RSPO3-Fibro'] ,add_outline=True, palette=\"tab20_r\", frameon=False)"
   ]
  },
  {
   "cell_type": "code",
   "execution_count": null,
   "id": "silver-grill",
   "metadata": {},
   "outputs": [],
   "source": [
    "sc.pl.umap(adata, color=['cluster_figure1A'], groups = ['C06-S14-Activated RSPO3+Fibro'] ,add_outline=True, palette=\"tab20_r\", frameon=False)\n",
    "sc.pl.umap(adata, color=['cluster_figure1A'], groups = ['C06-S13-RSPO3+Fibro'] ,add_outline=True, palette=\"tab20_r\", frameon=False)"
   ]
  },
  {
   "cell_type": "code",
   "execution_count": null,
   "id": "certain-campbell",
   "metadata": {},
   "outputs": [],
   "source": [
    "sc.pl.umap(adata, color=['cluster_figure1A'], groups = ['C02-T01-NKs and ILC1'] ,add_outline=True, palette=\"tab20_r\", frameon=False)\n",
    "sc.pl.umap(adata, color=['cluster_figure1A'], groups = ['C02-T02-ILC2 and 3'] ,add_outline=True, palette=\"tab20_r\", frameon=False)\n",
    "sc.pl.umap(adata, color=['cluster_figure1A'], groups = ['C02-T03-γδT'] ,add_outline=True, palette=\"tab20_r\", frameon=False)"
   ]
  },
  {
   "cell_type": "code",
   "execution_count": null,
   "id": "later-fight",
   "metadata": {},
   "outputs": [],
   "source": [
    "adata.obs['organ'].cat.categories"
   ]
  },
  {
   "cell_type": "code",
   "execution_count": null,
   "id": "constitutional-mounting",
   "metadata": {},
   "outputs": [],
   "source": [
    "old_colors = np.array(adata.uns['organ_colors'])\n",
    "new_colors = old_colors\n",
    "new_colors"
   ]
  },
  {
   "cell_type": "code",
   "execution_count": null,
   "id": "gothic-mambo",
   "metadata": {},
   "outputs": [],
   "source": [
    "# Appendix\n",
    "new_colors[[0]] = '#9edae5'\n",
    "# Colon\n",
    "new_colors[[1]] = '#e6ffea'\n",
    "# Duo-Jej (fetal)\n",
    "new_colors[[2]] = '#ff0000'\n",
    "# Duodenum\n",
    "new_colors[[3]] = '#ff0000'\n",
    "# Ileum\n",
    "new_colors[[4]] = '#0077b2'\n",
    "# Jejunum\n",
    "new_colors[[5]] = '#ff0000'\n",
    "# Rectum\n",
    "new_colors[[6]] = '#60b55c'\n",
    "# tHIO\n",
    "new_colors[[7]] = '#89552b'"
   ]
  },
  {
   "cell_type": "code",
   "execution_count": null,
   "id": "light-twist",
   "metadata": {},
   "outputs": [],
   "source": [
    "adata.uns['organ_colors'] = new_colors\n",
    "sc.pl.umap(adata, color=['organ'], add_outline=True, frameon=False, title='')"
   ]
  },
  {
   "cell_type": "code",
   "execution_count": null,
   "id": "generic-password",
   "metadata": {
    "scrolled": false
   },
   "outputs": [],
   "source": [
    "sc.settings.set_figure_params(dpi=200, figsize = (4, 3), fontsize=7)\n",
    "sc.pl.umap(adata, color=['organ'], groups = ['Duodenum'] ,add_outline=True, frameon=False, title='')\n",
    "sc.pl.umap(adata, color=['organ'], groups = ['Jejunum'] ,add_outline=True, frameon=False, title='')\n",
    "sc.pl.umap(adata, color=['organ'], groups = ['Ileum'] ,add_outline=True, frameon=False, title='')\n",
    "sc.pl.umap(adata, color=['organ'], groups = ['Appendix'] ,add_outline=True, frameon=False, title='')\n",
    "sc.pl.umap(adata, color=['organ'], groups = ['Colon'] ,add_outline=True, frameon=False, title='')\n",
    "sc.pl.umap(adata, color=['organ'], groups = ['Rectum'] ,add_outline=True, frameon=False, title='')"
   ]
  },
  {
   "cell_type": "code",
   "execution_count": null,
   "id": "cathedral-croatia",
   "metadata": {},
   "outputs": [],
   "source": [
    "adata.obs['PCW'].astype(\"category\").cat.categories"
   ]
  },
  {
   "cell_type": "code",
   "execution_count": null,
   "id": "colonial-amateur",
   "metadata": {},
   "outputs": [],
   "source": [
    "sc.pl.umap(adata, color=['PCW'], add_outline=True, palette=\"tab20_r\", frameon=False, title='')"
   ]
  },
  {
   "cell_type": "code",
   "execution_count": null,
   "id": "fitted-sphere",
   "metadata": {},
   "outputs": [],
   "source": [
    "adata.obs['health'].cat.categories"
   ]
  },
  {
   "cell_type": "code",
   "execution_count": null,
   "id": "appreciated-blocking",
   "metadata": {},
   "outputs": [],
   "source": [
    "old_colors = np.array(adata.uns['health_colors'])\n",
    "new_colors = old_colors\n",
    "new_colors"
   ]
  },
  {
   "cell_type": "code",
   "execution_count": null,
   "id": "medieval-hungary",
   "metadata": {},
   "outputs": [],
   "source": [
    "# CD\n",
    "new_colors[[0]] = '#f5ea55'\n",
    "# Fetal\n",
    "new_colors[[1]] = '#e1e5e6'\n",
    "# Normal\n",
    "new_colors[[2]] = '#70508f ' #f70707  #9c1a43\n",
    "# UC\n",
    "new_colors[[3]] = '#4eb53c'#62e1fa #0077b2\n",
    "# tHIO\n",
    "new_colors[[4]] = '#e1e5e6'"
   ]
  },
  {
   "cell_type": "code",
   "execution_count": null,
   "id": "peripheral-recording",
   "metadata": {},
   "outputs": [],
   "source": [
    "adata.uns['health_colors'] = new_colors\n",
    "sc.pl.umap(adata, color=['health'], add_outline=True, frameon=False, title='')"
   ]
  },
  {
   "cell_type": "code",
   "execution_count": null,
   "id": "otherwise-budget",
   "metadata": {},
   "outputs": [],
   "source": [
    "sc.pl.umap(adata, color=['BEST4','OTOP2'], add_outline=True, palette=\"tab20_r\", frameon=False)\n",
    "sc.pl.umap(adata, color=['PI3','SLPI'], add_outline=True, palette=\"tab20_r\", frameon=False)"
   ]
  },
  {
   "cell_type": "code",
   "execution_count": null,
   "id": "infectious-alfred",
   "metadata": {},
   "outputs": [],
   "source": [
    "sc.pl.umap(adata, color=['DEFA5','REG3A'], add_outline=True, palette=\"tab20_r\", frameon=False)\n",
    "sc.pl.umap(adata, color=['LGR5','EPCAM'], add_outline=True, palette=\"tab20_r\", frameon=False)"
   ]
  },
  {
   "cell_type": "code",
   "execution_count": null,
   "id": "saving-course",
   "metadata": {},
   "outputs": [],
   "source": [
    "sc.pl.umap(adata, color=['CD4','CD8A'], add_outline=True, palette=\"tab20_r\", frameon=False)\n",
    "sc.pl.umap(adata, color=['FOXP3','CCR7'], add_outline=True, palette=\"tab20_r\", frameon=False)"
   ]
  },
  {
   "cell_type": "code",
   "execution_count": null,
   "id": "unlimited-cursor",
   "metadata": {},
   "outputs": [],
   "source": [
    "sc.pl.umap(adata, color=['AREG','IL22'], add_outline=True, palette=\"tab20_r\", frameon=False)\n",
    "sc.pl.umap(adata, color=['IL23R','NKG7'], add_outline=True, palette=\"tab20_r\", frameon=False)"
   ]
  },
  {
   "cell_type": "code",
   "execution_count": null,
   "id": "irish-scanning",
   "metadata": {},
   "outputs": [],
   "source": [
    "sc.pl.umap(adata, color=['MKI67'], add_outline=True, palette=\"tab20_r\", frameon=False)"
   ]
  },
  {
   "cell_type": "code",
   "execution_count": null,
   "id": "several-threshold",
   "metadata": {},
   "outputs": [],
   "source": [
    "sc.pl.umap(adata, color=['IGHA1','IGHG1'], add_outline=True, palette=\"tab20_r\", frameon=False)"
   ]
  },
  {
   "cell_type": "markdown",
   "id": "collective-commission",
   "metadata": {},
   "source": [
    "# CellTypist"
   ]
  },
  {
   "cell_type": "code",
   "execution_count": null,
   "id": "eastern-vulnerability",
   "metadata": {},
   "outputs": [],
   "source": [
    "adata = sc.read('/mnt/data/Project2021/Gut_immune_surveillance/data/h5ad/All_579886_umap.h5ad')\n",
    "\n",
    "obs_index = adata.obs.loc[adata.obs[\"pan_development_state\"].isin(['After_born']), :].index\n",
    "adata = adata[obs_index, :]\n",
    "\n",
    "adata = sc.AnnData(X=adata.raw.X, var=adata.raw.var, obs = adata.obs)\n",
    "adata"
   ]
  },
  {
   "cell_type": "code",
   "execution_count": null,
   "id": "sharing-moral",
   "metadata": {},
   "outputs": [],
   "source": [
    "adata.obs['Compartment'].cat.categories"
   ]
  },
  {
   "cell_type": "code",
   "execution_count": null,
   "id": "hungarian-minority",
   "metadata": {},
   "outputs": [],
   "source": [
    "adata.obs['pan_organ'].cat.categories"
   ]
  },
  {
   "cell_type": "code",
   "execution_count": null,
   "id": "absent-precipitation",
   "metadata": {},
   "outputs": [],
   "source": [
    "Groups_tab_1 = pd.crosstab(index=adata.obs['cluster_figure1A'],  # Make a crosstab\n",
    "                columns=adata.obs['Compartment'], margins=True)  # Name the count column\n",
    "Groups_tab_1"
   ]
  },
  {
   "cell_type": "code",
   "execution_count": null,
   "id": "confused-requirement",
   "metadata": {},
   "outputs": [],
   "source": [
    "adata_list = []"
   ]
  },
  {
   "cell_type": "code",
   "execution_count": null,
   "id": "applicable-married",
   "metadata": {},
   "outputs": [],
   "source": [
    "    for j in list(adata.obs['cluster_figure1A'].cat.categories):\n",
    "        \n",
    "        print(j + ' is being processed ...')\n",
    "        single_index = adata.obs.loc[adata.obs['cluster_figure1A'].isin([j]), :].index\n",
    "        adata_single = adata[single_index,:]\n",
    "\n",
    "        print('The number of '+ j + ' is '+ str(len(adata_single.obs.index)))\n",
    "        if len(adata_single.obs.index) > 1000:\n",
    "            # 设置随机筛选200个细胞，设置随机种子为1\n",
    "            sc.pp.subsample(adata_single, n_obs=1000, random_state=1, copy=False)\n",
    "        else:\n",
    "            adata_single = adata_single\n",
    "            \n",
    "        adata_list.append(adata_single)"
   ]
  },
  {
   "cell_type": "code",
   "execution_count": null,
   "id": "contemporary-ending",
   "metadata": {},
   "outputs": [],
   "source": [
    "def change_obs_index_v2(x):\n",
    "    \"\"\"\n",
    "    该函数用于修正concatenate样本或数据集后变更的barcodes名。\n",
    "    \"\"\"  \n",
    "    x = x[:-4]\n",
    "    return x\n",
    "\n",
    "\n",
    "# batch_list单个数据集的样本数限制在999以下时适用，此步骤是因为Anndata的concatenate函数会自动在barcode name尾部一个批次编号，\n",
    "# 在这里设置格式化的编号以便删除。\n",
    "batch_list = []\n",
    "for i in range(len(adata_list)):\n",
    "    if i+1 < 10:\n",
    "        j = '00'+ str(i+1)\n",
    "    elif i+1 < 100:\n",
    "        j = '0'+ str(i+1)\n",
    "    else: \n",
    "        j = str(i+1)\n",
    "    batch_list.append(j)\n",
    "    \n",
    "adata = adata_list[0].concatenate(adata_list[1:len(batch_list)],join='outer', batch_categories=batch_list)\n",
    "# 删除barcode name的尾部编号\n",
    "adata.obs.rename(index=change_obs_index_v2,inplace=True)\n",
    "adata"
   ]
  },
  {
   "cell_type": "code",
   "execution_count": null,
   "id": "engaging-complex",
   "metadata": {},
   "outputs": [],
   "source": [
    "import celltypist\n",
    "from celltypist import models\n",
    "# 区室\n",
    "new_model = celltypist.train(adata, labels = 'Compartment', n_jobs = 8, feature_selection = True)"
   ]
  },
  {
   "cell_type": "code",
   "execution_count": null,
   "id": "excellent-journal",
   "metadata": {},
   "outputs": [],
   "source": [
    "# Save the model.\n",
    "new_model.write('/mnt/data3/project_outputs/HGA_2022/others/model_65218_compartments.pkl')"
   ]
  },
  {
   "cell_type": "code",
   "execution_count": null,
   "id": "fitted-partnership",
   "metadata": {},
   "outputs": [],
   "source": [
    "# 细胞亚群\n",
    "new_model = celltypist.train(adata, labels = 'cluster_figure1A', n_jobs = 8, feature_selection = True)"
   ]
  },
  {
   "cell_type": "code",
   "execution_count": null,
   "id": "parallel-ottawa",
   "metadata": {},
   "outputs": [],
   "source": [
    "# Save the model.\n",
    "new_model.write('/mnt/data3/project_outputs/HGA_2022/others/model_65218_cell_types.pkl')"
   ]
  },
  {
   "cell_type": "markdown",
   "id": "unable-throw",
   "metadata": {},
   "source": [
    "# Mouse"
   ]
  },
  {
   "cell_type": "code",
   "execution_count": null,
   "id": "controlled-killer",
   "metadata": {},
   "outputs": [],
   "source": [
    "adata_ileum = sc.read('/mnt/data2/Datasets/Non_human_datasets/SCP1038_Mouse_ileum_colon/h5ad/Mouse_ileum_ann.h5ad')\n",
    "adata_ileum = sc.AnnData(X=adata_ileum.raw.X, var=adata_ileum.raw.var, obs = adata_ileum.obs)\n",
    "adata_ileum"
   ]
  },
  {
   "cell_type": "code",
   "execution_count": null,
   "id": "center-implementation",
   "metadata": {},
   "outputs": [],
   "source": [
    "adata_colon = sc.read('/mnt/data2/Datasets/Non_human_datasets/SCP1038_Mouse_ileum_colon/h5ad/Mouse_colon_ann.h5ad')\n",
    "adata_colon = sc.AnnData(X=adata_colon.raw.X, var=adata_colon.raw.var, obs = adata_colon.obs)\n",
    "adata_colon"
   ]
  },
  {
   "cell_type": "code",
   "execution_count": null,
   "id": "polyphonic-victim",
   "metadata": {},
   "outputs": [],
   "source": [
    "adata = adata_ileum.concatenate(adata_colon, batch_categories=['1','2'], join=\"outer\")\n",
    "adata.var = adata.var[[]]\n",
    "\n",
    "def change_obs_index_v2(x):\n",
    "    \"\"\"\n",
    "    该函数用于修正concatenate样本或数据集后变更的barcodes名。\n",
    "    \"\"\"  \n",
    "    x = x[:-2]\n",
    "    return x\n",
    "\n",
    "adata.obs.rename(index=change_obs_index_v2,inplace=True)\n",
    "adata"
   ]
  },
  {
   "cell_type": "code",
   "execution_count": null,
   "id": "exciting-mineral",
   "metadata": {},
   "outputs": [],
   "source": [
    "adata.raw = adata"
   ]
  },
  {
   "cell_type": "code",
   "execution_count": null,
   "id": "tough-harrison",
   "metadata": {},
   "outputs": [],
   "source": [
    "sc.pp.highly_variable_genes(adata, min_mean=0.0125, max_mean=3, min_disp=0.5)\n",
    "adata = adata[:, adata.var.highly_variable]\n",
    "\n",
    "sc.pp.scale(adata, zero_center=False)\n",
    "\n",
    "def progress_pca_bbknn_umap_tsne(adata, n_pcs=20, batch_key='batch_name'):\n",
    "    ## 主成分分析降维\n",
    "    sc.tl.pca(adata, svd_solver='arpack')\n",
    "    # 在PCA坐标中绘制散点图\n",
    "    sc.pl.pca(adata)\n",
    "    # 可视化每个PC对数据总方差的贡献, 这为我们提供了有关为计算单元的邻域关系应考虑的PC数量的信息sc.tl.tsne()\n",
    "    sc.pl.pca_variance_ratio(adata, log=True)\n",
    "\n",
    "    # 使用bbknn算法处理批次效应(代替了neighbors)\n",
    "    # bbknn要求数据已经过标准化和主成分分析\n",
    "\n",
    "    # adata.obs['bbknn_batch'] = [str(i)+'-'+str(j) for i,j in zip(adata.obs['dataset'], adata.obs['batch_name'])]\n",
    "    sc.external.pp.bbknn(adata, batch_key=batch_key, n_pcs=n_pcs)\n",
    "    \n",
    "    # 计算UMAP\n",
    "    sc.tl.umap(adata)\n",
    "    # sc.tl.tsne(adata, n_jobs=6)\n",
    "\n",
    "    return adata\n",
    "\n",
    "adata = progress_pca_bbknn_umap_tsne(adata)"
   ]
  },
  {
   "cell_type": "code",
   "execution_count": null,
   "id": "legislative-amber",
   "metadata": {},
   "outputs": [],
   "source": [
    "sc.settings.set_figure_params(dpi=200, figsize = (4, 3), fontsize=7)\n",
    "sc.pl.umap(adata, color=['organ'], add_outline=True, palette=\"tab20_r\", frameon=False)"
   ]
  },
  {
   "cell_type": "code",
   "execution_count": null,
   "id": "japanese-locking",
   "metadata": {},
   "outputs": [],
   "source": [
    "sc.settings.set_figure_params(dpi=200, figsize = (4, 3), fontsize=7)\n",
    "sc.pl.umap(adata, color=['cluster_figure1A'], add_outline=True, palette=\"tab20_r\", frameon=False)"
   ]
  },
  {
   "cell_type": "code",
   "execution_count": null,
   "id": "nominated-basics",
   "metadata": {},
   "outputs": [],
   "source": [
    "sc.settings.set_figure_params(dpi=200, figsize = (4, 3), fontsize=7)\n",
    "sc.pl.umap(adata, color=['ann_for_cpdb'], add_outline=True, palette=\"tab20_r\", frameon=False)"
   ]
  },
  {
   "cell_type": "code",
   "execution_count": null,
   "id": "significant-writer",
   "metadata": {},
   "outputs": [],
   "source": [
    "adata.write('/mnt/data/Project2021/Gut_immune_surveillance/data/h5ad/Mouse/All_epi_umap.h5ad')\n",
    "adata"
   ]
  },
  {
   "cell_type": "code",
   "execution_count": null,
   "id": "injured-silence",
   "metadata": {},
   "outputs": [],
   "source": [
    "adata = sc.read('/mnt/data/Project2021/Gut_immune_surveillance/data/h5ad/Mouse/All_epi_umap.h5ad')"
   ]
  },
  {
   "cell_type": "code",
   "execution_count": null,
   "id": "anticipated-undergraduate",
   "metadata": {},
   "outputs": [],
   "source": [
    "sc.settings.set_figure_params(dpi=200, figsize = (4, 3), fontsize=7)\n",
    "sc.pl.umap(adata, color=['Pgc','Muc6','Tff2','Muc5ac'])"
   ]
  },
  {
   "cell_type": "code",
   "execution_count": null,
   "id": "adaptive-occurrence",
   "metadata": {},
   "outputs": [],
   "source": [
    "sc.settings.set_figure_params(dpi=200, figsize = (4, 3), fontsize=7)\n",
    "sc.pl.umap(adata, color=['Cdx2'])"
   ]
  },
  {
   "cell_type": "code",
   "execution_count": null,
   "id": "suspended-washer",
   "metadata": {},
   "outputs": [],
   "source": [
    "from matplotlib import cm, colors\n",
    "sc.settings.set_figure_params(dpi=400, figsize = (4, 3), fontsize=15)\n",
    "\n",
    "colors2 = plt.cm.plasma(np.linspace(0, 1, 128))\n",
    "colors3 = plt.cm.Greys_r(np.linspace(0.7,0.8,10))\n",
    "colorsComb = np.vstack([colors3, colors2])\n",
    "mymap = colors.LinearSegmentedColormap.from_list('my_colormap', colorsComb)\n",
    "\n",
    "sc.pl.umap(adata, color=['Cdx2'], add_outline=False, frameon=False,size = 1.8, color_map = mymap,vmin=0,vmax=3.5)"
   ]
  },
  {
   "cell_type": "code",
   "execution_count": null,
   "id": "spiritual-clark",
   "metadata": {},
   "outputs": [],
   "source": [
    "adata.obs.to_csv('/mnt/data/Project2021/Gut_immune_surveillance/outputs/mouse_epi.csv')"
   ]
  },
  {
   "cell_type": "code",
   "execution_count": null,
   "id": "satisfactory-influence",
   "metadata": {},
   "outputs": [],
   "source": [
    "obs_index = adata.obs.loc[adata.obs[\"organ\"].isin(['Ileum']), :].index\n",
    "adata_single = adata[obs_index, :]\n",
    "len(adata_single.obs['batch_name'].cat.categories)"
   ]
  },
  {
   "cell_type": "code",
   "execution_count": null,
   "id": "entire-zealand",
   "metadata": {},
   "outputs": [],
   "source": [
    "Groups_tab_1 = pd.crosstab(index=adata.obs['batch_name'],  # Make a crosstab\n",
    "                columns=adata.obs['organ'], margins=True)  # Name the count column\n",
    "Groups_tab_1"
   ]
  },
  {
   "cell_type": "code",
   "execution_count": null,
   "id": "homeless-applicant",
   "metadata": {},
   "outputs": [],
   "source": [
    "adata_single.obs['batch_name'].cat.categories"
   ]
  }
 ],
 "metadata": {
  "kernelspec": {
   "display_name": "Python [conda env:singlecell] *",
   "language": "python",
   "name": "conda-env-singlecell-py"
  },
  "language_info": {
   "codemirror_mode": {
    "name": "ipython",
    "version": 3
   },
   "file_extension": ".py",
   "mimetype": "text/x-python",
   "name": "python",
   "nbconvert_exporter": "python",
   "pygments_lexer": "ipython3",
   "version": "3.7.10"
  },
  "toc": {
   "base_numbering": 1,
   "nav_menu": {},
   "number_sections": true,
   "sideBar": true,
   "skip_h1_title": false,
   "title_cell": "Table of Contents",
   "title_sidebar": "Contents",
   "toc_cell": false,
   "toc_position": {
    "height": "calc(100% - 180px)",
    "left": "10px",
    "top": "150px",
    "width": "165px"
   },
   "toc_section_display": true,
   "toc_window_display": false
  }
 },
 "nbformat": 4,
 "nbformat_minor": 5
}
