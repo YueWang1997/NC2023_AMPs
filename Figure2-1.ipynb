{
 "cells": [
  {
   "cell_type": "code",
   "execution_count": null,
   "id": "prescription-steal",
   "metadata": {},
   "outputs": [],
   "source": [
    "#!/usr/bin/env python\n",
    "# -*- coding: utf-8 -*-\n",
    "import numpy as np\n",
    "import pandas as pd\n",
    "import scanpy as sc\n",
    "import anndata\n",
    "import bbknn\n",
    "import os\n",
    "from scipy import sparse\n",
    "import matplotlib.pyplot as plt\n",
    "# from scanpy_base_moudle_update2 import *\n",
    "# import scrublet as scr\n",
    "import datetime\n",
    "import harmonypy as hm\n",
    "\n",
    "sc.settings.verbosity = 3\n",
    "#sc.logging.print_versions()\n",
    "# 设置图片的分辨率以及其他样式\n",
    "sc.settings.set_figure_params(dpi=150, figsize = (4, 3), fontsize=12)\n",
    "\n",
    "import matplotlib.font_manager\n",
    "flist = matplotlib.font_manager.get_fontconfig_fonts()\n",
    "names = [matplotlib.font_manager.FontProperties(fname=fname).get_name() for fname in flist]\n",
    "print(names)\n",
    "\n",
    "params={\n",
    "        #'font.style':'italic',\n",
    "        'font.weight':'normal',    #or 'blod'\n",
    "        }\n",
    "plt.rcParams.update(params)\n",
    "\n",
    "plt.rcParams['font.family']='Arial'"
   ]
  },
  {
   "cell_type": "markdown",
   "id": "communist-diameter",
   "metadata": {},
   "source": [
    "# 数据整理"
   ]
  },
  {
   "cell_type": "code",
   "execution_count": null,
   "id": "contemporary-mapping",
   "metadata": {},
   "outputs": [],
   "source": [
    "# 读取人类肠道全部数据\n",
    "adata = sc.read('/mnt/data/Project2021/Gut_immune_surveillance/data/h5ad/All_579886_umap.h5ad')\n",
    "adata"
   ]
  },
  {
   "cell_type": "code",
   "execution_count": null,
   "id": "overhead-power",
   "metadata": {},
   "outputs": [],
   "source": [
    "# 提取上皮，并拆分为Postnatal、Prenatal和HIO\n",
    "\n",
    "# Epithelium\n",
    "obs_index = adata.obs.loc[adata.obs[\"Compartment\"].isin(['Epithelium']), :].index\n",
    "adata_com = adata[obs_index, :]\n",
    "adata_com"
   ]
  },
  {
   "cell_type": "code",
   "execution_count": null,
   "id": "injured-ethernet",
   "metadata": {},
   "outputs": [],
   "source": [
    "adata_com.obs.to_csv('/mnt/data/Project2021/Gut_immune_surveillance/outputs/human_epi.csv')"
   ]
  },
  {
   "cell_type": "code",
   "execution_count": null,
   "id": "limited-survival",
   "metadata": {},
   "outputs": [],
   "source": [
    "Groups_tab_1 = pd.crosstab(index=adata_com.obs['pan_development_state'],  # Make a crosstab\n",
    "                columns=adata_com.obs['pan_development_state'], margins=True)  # Name the count column\n",
    "Groups_tab_1"
   ]
  },
  {
   "cell_type": "code",
   "execution_count": null,
   "id": "developing-chart",
   "metadata": {},
   "outputs": [],
   "source": [
    "# Postnatal\n",
    "obs_index = adata_com.obs.loc[adata_com.obs[\"pan_development_state\"].isin(['After_born']), :].index\n",
    "adata_post = adata_com[obs_index, :]\n",
    "print(adata_post)\n",
    "\n",
    "# Prenatal\n",
    "obs_index = adata_com.obs.loc[adata_com.obs[\"pan_development_state\"].isin(['Fetal']), :].index\n",
    "adata_pre = adata_com[obs_index, :]\n",
    "print(adata_pre)\n",
    "\n",
    "# HIO\n",
    "obs_index = adata_com.obs.loc[adata_com.obs[\"pan_development_state\"].isin(['tHIO']), :].index\n",
    "adata_HIO = adata_com[obs_index, :]\n",
    "print(adata_HIO)"
   ]
  },
  {
   "cell_type": "code",
   "execution_count": null,
   "id": "impossible-pledge",
   "metadata": {},
   "outputs": [],
   "source": [
    "# Save\n",
    "adata_post.write('/mnt/data/Project2021/Gut_immune_surveillance/data/h5ad_Figure/Human/Epithelium/Postnatal/human_postnatal_epi.h5ad')\n",
    "\n",
    "adata_pre.write('/mnt/data/Project2021/Gut_immune_surveillance/data/h5ad_Figure/Human/Epithelium/Postnatal/human_prenatal_epi.h5ad')\n",
    "\n",
    "adata_HIO.write('/mnt/data/Project2021/Gut_immune_surveillance/data/h5ad_Figure/Human/Epithelium/Postnatal/human_HIO_epi.h5ad')"
   ]
  },
  {
   "cell_type": "markdown",
   "id": "requested-drive",
   "metadata": {},
   "source": [
    "# postnatal UMAP"
   ]
  },
  {
   "cell_type": "markdown",
   "id": "concerned-smart",
   "metadata": {},
   "source": [
    "## 数据处理"
   ]
  },
  {
   "cell_type": "code",
   "execution_count": null,
   "id": "initial-cooler",
   "metadata": {},
   "outputs": [],
   "source": [
    "adata = sc.read('/mnt/data/Project2021/Gut_immune_surveillance/data/h5ad_Figure/Human/Epithelium/Postnatal/human_postnatal_epi_ann.h5ad')\n",
    "adata"
   ]
  },
  {
   "cell_type": "code",
   "execution_count": null,
   "id": "exotic-radius",
   "metadata": {},
   "outputs": [],
   "source": [
    "adata.obs.to_csv('/mnt/data/Project2021/Gut_immune_surveillance/outputs/postnatal_epi.csv')"
   ]
  },
  {
   "cell_type": "code",
   "execution_count": null,
   "id": "guilty-civilian",
   "metadata": {},
   "outputs": [],
   "source": [
    "adata = sc.AnnData(X=adata.raw.X, var=adata.raw.var, obs = adata.obs)\n",
    "adata"
   ]
  },
  {
   "cell_type": "code",
   "execution_count": null,
   "id": "recorded-phenomenon",
   "metadata": {
    "scrolled": false
   },
   "outputs": [],
   "source": [
    "adata.raw = adata\n",
    "\n",
    "sc.pp.highly_variable_genes(adata, min_mean=0.0125, max_mean=3, min_disp=0.5,batch_key='pan_organ')\n",
    "adata = adata[:, adata.var.highly_variable]\n",
    "\n",
    "sc.pp.scale(adata, zero_center=False)\n",
    "\n",
    "def progress_pca_bbknn_umap_tsne(adata, n_pcs=20, batch_key='bbknn_batch'):\n",
    "    ## 主成分分析降维\n",
    "    sc.tl.pca(adata, svd_solver='arpack')\n",
    "    # 在PCA坐标中绘制散点图\n",
    "    sc.pl.pca(adata)\n",
    "    # 可视化每个PC对数据总方差的贡献, 这为我们提供了有关为计算单元的邻域关系应考虑的PC数量的信息sc.tl.tsne()\n",
    "    sc.pl.pca_variance_ratio(adata, log=True)\n",
    "\n",
    "    # 使用bbknn算法处理批次效应(代替了neighbors)\n",
    "    # bbknn要求数据已经过标准化和主成分分析\n",
    "\n",
    "    adata.obs['bbknn_batch'] = [str(i)+'-'+str(j) for i,j in zip(adata.obs['dataset'], adata.obs['batch_name'])]\n",
    "    sc.external.pp.bbknn(adata, batch_key=batch_key, n_pcs=n_pcs, neighbors_within_batch=1)\n",
    "    \n",
    "    # 计算UMAP\n",
    "    sc.tl.umap(adata)\n",
    "    # sc.tl.tsne(adata, n_jobs=6)\n",
    "\n",
    "    return adata\n",
    "\n",
    "adata = progress_pca_bbknn_umap_tsne(adata)"
   ]
  },
  {
   "cell_type": "code",
   "execution_count": null,
   "id": "approved-protocol",
   "metadata": {},
   "outputs": [],
   "source": [
    "adata"
   ]
  },
  {
   "cell_type": "code",
   "execution_count": null,
   "id": "running-costs",
   "metadata": {},
   "outputs": [],
   "source": [
    "sc.settings.set_figure_params(dpi=200, figsize = (4, 4), fontsize=10)\n",
    "sc.pl.umap(adata, color=['organ'], add_outline=True, palette=\"tab20\", frameon=False, title='')"
   ]
  },
  {
   "cell_type": "code",
   "execution_count": null,
   "id": "advised-transparency",
   "metadata": {},
   "outputs": [],
   "source": [
    "from matplotlib import cm, colors\n",
    "sc.settings.set_figure_params(dpi=400, figsize = (4, 3.5), fontsize=15)\n",
    "\n",
    "colors2 = plt.cm.plasma(np.linspace(0, 1, 128))\n",
    "colors3 = plt.cm.Greys_r(np.linspace(0.7,0.8,10))\n",
    "colorsComb = np.vstack([colors3, colors2])\n",
    "mymap = colors.LinearSegmentedColormap.from_list('my_colormap', colorsComb)\n",
    "\n",
    "sc.pl.umap(adata, color=['CDX2'], add_outline=False, frameon=False,size = 1.8, color_map = mymap,vmin=0,vmax=5)"
   ]
  },
  {
   "cell_type": "code",
   "execution_count": null,
   "id": "increased-extreme",
   "metadata": {},
   "outputs": [],
   "source": [
    "sc.pl.umap(adata, color=['cluster_figure1A'], add_outline=True, palette=\"tab20\", frameon=False, title='')"
   ]
  },
  {
   "cell_type": "code",
   "execution_count": null,
   "id": "unexpected-earthquake",
   "metadata": {},
   "outputs": [],
   "source": [
    "sc.pl.umap(adata, color=['cluster_figure1A'], groups = ['C01-E07-PI3+enterocytes'] ,add_outline=True, palette=\"tab20_r\", frameon=False)"
   ]
  },
  {
   "cell_type": "code",
   "execution_count": null,
   "id": "severe-allah",
   "metadata": {},
   "outputs": [],
   "source": [
    "# Harmony处理批次效应\n",
    "import harmonypy as hm\n",
    "\n",
    "harmony_out = hm.run_harmony(adata.obsm['X_pca'], adata.obs, vars_use = ['dataset', 'batch_name'],max_iter_harmony=30)\n",
    "adata.obsm['X_pca_harmony'] = harmony_out.Z_corr.T\n",
    "\n",
    "sc.tl.tsne(adata, n_jobs=7, use_rep='X_pca_harmony')"
   ]
  },
  {
   "cell_type": "code",
   "execution_count": null,
   "id": "comfortable-pocket",
   "metadata": {},
   "outputs": [],
   "source": [
    "sc.settings.set_figure_params(dpi=150, figsize = (4, 4), fontsize=15)\n",
    "sc.pl.tsne(adata, color=['organ'], add_outline=True, palette=\"tab20\", frameon=False, title='')"
   ]
  },
  {
   "cell_type": "code",
   "execution_count": null,
   "id": "norman-elevation",
   "metadata": {},
   "outputs": [],
   "source": [
    "sc.pl.tsne(adata, color=['cluster_figure1A'], add_outline=True, palette=\"tab20\", frameon=False, title='')"
   ]
  },
  {
   "cell_type": "code",
   "execution_count": null,
   "id": "premium-ability",
   "metadata": {},
   "outputs": [],
   "source": [
    "sc.pl.tsne(adata, color=['PI3','SLPI','PLA2G2A','DEFA5'], add_outline=True, frameon=False)"
   ]
  },
  {
   "cell_type": "code",
   "execution_count": null,
   "id": "collect-subject",
   "metadata": {},
   "outputs": [],
   "source": [
    "adata.write('/mnt/data/Project2021/Gut_immune_surveillance/data/h5ad_Figure/Human/Epithelium/Postnatal/human_postnatal_epi_ann.h5ad')\n",
    "adata"
   ]
  },
  {
   "cell_type": "markdown",
   "id": "parliamentary-product",
   "metadata": {},
   "source": [
    "## 绘图"
   ]
  },
  {
   "cell_type": "code",
   "execution_count": null,
   "id": "homeless-retreat",
   "metadata": {},
   "outputs": [],
   "source": [
    "adata = sc.read('/mnt/data/Project2021/Gut_immune_surveillance/data/h5ad_Figure/Human/Epithelium/Postnatal/human_postnatal_epi_ann.h5ad')\n",
    "adata "
   ]
  },
  {
   "cell_type": "code",
   "execution_count": null,
   "id": "retired-ethiopia",
   "metadata": {},
   "outputs": [],
   "source": [
    "sc.pl.umap(adata, color=['cluster_figure1A'], groups = ['C01-E09-Microfold cells'] ,add_outline=True, palette=\"tab20_r\", frameon=False)"
   ]
  },
  {
   "cell_type": "code",
   "execution_count": null,
   "id": "turned-damages",
   "metadata": {},
   "outputs": [],
   "source": [
    "sc.settings.set_figure_params(dpi=150, figsize = (4, 4), fontsize=15)\n",
    "sc.pl.umap(adata, color=['cluster_figure1A'], add_outline=True, palette=\"Spectral\", frameon=False, title='')"
   ]
  },
  {
   "cell_type": "code",
   "execution_count": null,
   "id": "violent-pitch",
   "metadata": {},
   "outputs": [],
   "source": [
    "adata.obs['cluster_figure1A'].cat.categories"
   ]
  },
  {
   "cell_type": "code",
   "execution_count": null,
   "id": "considerable-editor",
   "metadata": {},
   "outputs": [],
   "source": [
    "old_colors = np.array(adata.uns['cluster_figure1A_colors'])\n",
    "new_colors = old_colors\n",
    "# reset colors\n",
    "new_colors[[0]] = '#439bb5'\n",
    "new_colors[[1]] = '#4175b4'\n",
    "new_colors[[2]] = '#f7fcb2'\n",
    "new_colors[[3]] = '#9e0142'\n",
    "new_colors[[4]] = '#e06d43'\n",
    "new_colors[[5]] = '#c32a4b'\n",
    "new_colors[[6]] = '#94d4a4'\n",
    "new_colors[[7]] = '#fff5ae'\n",
    "new_colors[[8]] = '#e6f598'\n",
    "new_colors[[9]] = '#fdbf6f'\n",
    "new_colors[[10]] = '#5e4fa2'\n",
    "new_colors[[11]] = '#fee08b'\n",
    "new_colors[[12]] = '#66c2a5'\n",
    "new_colors[[13]] = '#bfe5a0'"
   ]
  },
  {
   "cell_type": "code",
   "execution_count": null,
   "id": "finite-moses",
   "metadata": {},
   "outputs": [],
   "source": [
    "# 论文里的图片\n",
    "adata.uns['cluster_figure1A_colors'] = new_colors\n",
    "\n",
    "# Figure 1a 按细胞类型划分颜色\n",
    "sc.settings.set_figure_params(dpi=400, figsize = (4, 4), fontsize=7)\n",
    "sc.pl.umap(adata, color=['cluster_figure1A'], add_outline=False, frameon=False, title='',\n",
    "           size = 1.8\n",
    "          )"
   ]
  },
  {
   "cell_type": "code",
   "execution_count": null,
   "id": "configured-weekly",
   "metadata": {},
   "outputs": [],
   "source": [
    "sc.settings.set_figure_params(dpi=150, figsize = (4, 4), fontsize=15)\n",
    "sc.pl.umap(adata, color=['pan_organ'], palette=\"Spectral\", frameon=False, title='')"
   ]
  },
  {
   "cell_type": "code",
   "execution_count": null,
   "id": "higher-leave",
   "metadata": {},
   "outputs": [],
   "source": [
    "adata.obs['pan_organ'].cat.categories"
   ]
  },
  {
   "cell_type": "code",
   "execution_count": null,
   "id": "cosmetic-anniversary",
   "metadata": {},
   "outputs": [],
   "source": [
    "old_colors = np.array(adata.uns['pan_organ_colors'])\n",
    "new_colors = old_colors\n",
    "new_colors"
   ]
  },
  {
   "cell_type": "code",
   "execution_count": null,
   "id": "destroyed-elements",
   "metadata": {},
   "outputs": [],
   "source": [
    "# Proximal SI\n",
    "new_colors[[1]] = '#ff0000'\n",
    "# Ileum\n",
    "new_colors[[2]] = '#0077b2'\n",
    "# App-Col-Rec\n",
    "new_colors[[0]] = '#60b55c'"
   ]
  },
  {
   "cell_type": "code",
   "execution_count": null,
   "id": "satisfied-hazard",
   "metadata": {},
   "outputs": [],
   "source": [
    "# 论文里的图片\n",
    "adata.uns['pan_organ_colors'] = new_colors\n",
    "\n",
    "# Figure 1a 按细胞类型划分颜色\n",
    "sc.settings.set_figure_params(dpi=400, figsize = (4, 4), fontsize=7)\n",
    "sc.pl.umap(adata, color=['pan_organ'], add_outline=False, frameon=False, title='',\n",
    "           size = 1.8\n",
    "          )"
   ]
  },
  {
   "cell_type": "code",
   "execution_count": null,
   "id": "marked-costs",
   "metadata": {},
   "outputs": [],
   "source": [
    "sc.settings.set_figure_params(dpi=400, figsize = (4, 4), fontsize=15)\n",
    "sc.pl.umap(adata, color=['SLC46A1','FABP6','AQP8'], add_outline=False, frameon=False,size = 1.8)"
   ]
  },
  {
   "cell_type": "code",
   "execution_count": null,
   "id": "loving-thesis",
   "metadata": {},
   "outputs": [],
   "source": [
    "sc.settings.set_figure_params(dpi=150, figsize = (4, 4), fontsize=15)\n",
    "sc.pl.umap(adata, color=['SLC46A1','FABP6','AQP8'], add_outline=False, frameon=False,size = 1.0, color_map = 'rainbow')"
   ]
  },
  {
   "cell_type": "code",
   "execution_count": null,
   "id": "hungarian-entrepreneur",
   "metadata": {},
   "outputs": [],
   "source": [
    "sc.settings.set_figure_params(dpi=400, figsize = (4, 4), fontsize=15)\n",
    "\n",
    "colors2 = plt.cm.Spectral_r(np.linspace(0, 1, 128))\n",
    "colors3 = plt.cm.Greys_r(np.linspace(0.7,0.8,10))\n",
    "colorsComb = np.vstack([colors3, colors2])\n",
    "mymap = colors.LinearSegmentedColormap.from_list('my_colormap', colorsComb)\n",
    "\n",
    "sc.pl.umap(adata, color=['SLC46A1','FABP6','AQP8'], add_outline=False, frameon=False,size = 1.8, color_map = mymap)"
   ]
  },
  {
   "cell_type": "code",
   "execution_count": null,
   "id": "virgin-cooling",
   "metadata": {},
   "outputs": [],
   "source": [
    "adata_1 = sc.AnnData(X=adata.raw.X, var=adata.raw.var, obs = adata.obs)\n",
    "\n",
    "print(np.max(list(adata_1.to_df()['SLC46A1'])))\n",
    "print(np.max(list(adata_1.to_df()['FABP6'])))\n",
    "print(np.max(list(adata_1.to_df()['AQP8'])))"
   ]
  },
  {
   "cell_type": "markdown",
   "id": "hidden-booth",
   "metadata": {},
   "source": [
    "# Prenatal UMAP"
   ]
  },
  {
   "cell_type": "code",
   "execution_count": null,
   "id": "turned-madrid",
   "metadata": {},
   "outputs": [],
   "source": [
    "adata = sc.read('/mnt/data/Project2021/Gut_immune_surveillance/data/h5ad_Figure/Human/Epithelium/Postnatal/human_prenatal_epi.h5ad')\n",
    "adata"
   ]
  },
  {
   "cell_type": "code",
   "execution_count": null,
   "id": "constitutional-aerospace",
   "metadata": {},
   "outputs": [],
   "source": [
    "adata = sc.AnnData(X=adata.raw.X, var=adata.raw.var, obs = adata.obs)\n",
    "adata"
   ]
  },
  {
   "cell_type": "code",
   "execution_count": null,
   "id": "presidential-feeling",
   "metadata": {},
   "outputs": [],
   "source": [
    "adata.raw = adata\n",
    "\n",
    "sc.pp.highly_variable_genes(adata, min_mean=0.0125, max_mean=3, min_disp=0.5,batch_key='pan_organ')\n",
    "adata = adata[:, adata.var.highly_variable]\n",
    "\n",
    "sc.pp.scale(adata, zero_center=False)\n",
    "\n",
    "def progress_pca_bbknn_umap_tsne(adata, n_pcs=20, batch_key='bbknn_batch'):\n",
    "    ## 主成分分析降维\n",
    "    sc.tl.pca(adata, svd_solver='arpack')\n",
    "    # 在PCA坐标中绘制散点图\n",
    "    sc.pl.pca(adata)\n",
    "    # 可视化每个PC对数据总方差的贡献, 这为我们提供了有关为计算单元的邻域关系应考虑的PC数量的信息sc.tl.tsne()\n",
    "    sc.pl.pca_variance_ratio(adata, log=True)\n",
    "\n",
    "    # 使用bbknn算法处理批次效应(代替了neighbors)\n",
    "    # bbknn要求数据已经过标准化和主成分分析\n",
    "\n",
    "    adata.obs['bbknn_batch'] = [str(i)+'-'+str(j) for i,j in zip(adata.obs['dataset'], adata.obs['batch_name'])]\n",
    "    sc.external.pp.bbknn(adata, batch_key=batch_key, n_pcs=n_pcs, neighbors_within_batch=1)\n",
    "    \n",
    "    # 计算UMAP\n",
    "    sc.tl.umap(adata)\n",
    "    # sc.tl.tsne(adata, n_jobs=6)\n",
    "\n",
    "    return adata\n",
    "\n",
    "adata = progress_pca_bbknn_umap_tsne(adata)"
   ]
  },
  {
   "cell_type": "code",
   "execution_count": null,
   "id": "express-veteran",
   "metadata": {},
   "outputs": [],
   "source": [
    "sc.settings.set_figure_params(dpi=200, figsize = (4, 4), fontsize=10)\n",
    "sc.pl.umap(adata, color=['organ'], add_outline=True, frameon=False, title='')\n",
    "sc.pl.umap(adata, color=['PCW'], add_outline=True, frameon=False, title='')"
   ]
  },
  {
   "cell_type": "code",
   "execution_count": null,
   "id": "obvious-pasta",
   "metadata": {},
   "outputs": [],
   "source": [
    "sc.pl.umap(adata, color=['cluster_figure1A'], add_outline=True, palette=\"tab20\", frameon=False, title='')"
   ]
  },
  {
   "cell_type": "code",
   "execution_count": null,
   "id": "premier-register",
   "metadata": {},
   "outputs": [],
   "source": [
    "sc.pl.umap(adata, color=['DEFA5','DEFA6','REG3A','REG3G','ITLN2','NR1H4','NR1H3','VDR'], add_outline=True, frameon=False)"
   ]
  },
  {
   "cell_type": "code",
   "execution_count": null,
   "id": "applicable-score",
   "metadata": {},
   "outputs": [],
   "source": [
    "adata.write('/mnt/data/Project2021/Gut_immune_surveillance/data/h5ad_Figure/Human/Epithelium/Postnatal/human_prenatal_epi_ann.h5ad')\n",
    "adata"
   ]
  },
  {
   "cell_type": "markdown",
   "id": "surface-illustration",
   "metadata": {},
   "source": [
    "## 绘图"
   ]
  },
  {
   "cell_type": "code",
   "execution_count": null,
   "id": "knowing-ability",
   "metadata": {},
   "outputs": [],
   "source": [
    "adata=sc.read('/mnt/data/Project2021/Gut_immune_surveillance/data/h5ad_Figure/Human/Epithelium/Postnatal/human_prenatal_epi_ann.h5ad')\n",
    "adata"
   ]
  },
  {
   "cell_type": "code",
   "execution_count": null,
   "id": "happy-crack",
   "metadata": {},
   "outputs": [],
   "source": [
    "adata.obs.to_csv('/mnt/data/Project2021/Gut_immune_surveillance/outputs/prenatal_epi.csv')"
   ]
  },
  {
   "cell_type": "code",
   "execution_count": null,
   "id": "numerous-connectivity",
   "metadata": {},
   "outputs": [],
   "source": [
    "from matplotlib import cm, colors\n",
    "sc.settings.set_figure_params(dpi=200, figsize = (4, 4), fontsize=12)\n",
    "\n",
    "# 上皮\n",
    "colors2 = plt.cm.Oranges(np.linspace(0, 1, 128))\n",
    "colors3 = plt.cm.Greys_r(np.linspace(0.7,0.8,10))\n",
    "colorsComb = np.vstack([colors3, colors2])\n",
    "mymap = colors.LinearSegmentedColormap.from_list('my_colormap', colorsComb)\n",
    "sc.pl.umap(adata, color=['DEFA5','DEFA6','REG3A','REG3G','ITLN2','NR1H4','NR1H3','VDR'], frameon=False, color_map=mymap)"
   ]
  },
  {
   "cell_type": "code",
   "execution_count": null,
   "id": "human-plain",
   "metadata": {},
   "outputs": [],
   "source": [
    "sc.settings.set_figure_params(dpi=300, figsize = (4, 4), fontsize=10)\n",
    "sc.pl.umap(adata, color=['cluster_figure1A'], palette=\"tab20\", frameon=False, title='', size = 3.0)"
   ]
  },
  {
   "cell_type": "code",
   "execution_count": null,
   "id": "mighty-lancaster",
   "metadata": {},
   "outputs": [],
   "source": [
    "adata.obs['cluster_figure1A'].cat.categories"
   ]
  },
  {
   "cell_type": "code",
   "execution_count": null,
   "id": "labeled-devices",
   "metadata": {},
   "outputs": [],
   "source": [
    "old_colors = np.array(adata.uns['cluster_figure1A_colors'])\n",
    "new_colors = old_colors\n",
    "new_colors"
   ]
  },
  {
   "cell_type": "code",
   "execution_count": null,
   "id": "critical-facility",
   "metadata": {},
   "outputs": [],
   "source": [
    "# Stem and TA\n",
    "new_colors[[0]] = '#439bb5'\n",
    "new_colors[[1]] = '#4175b4'\n",
    "new_colors[[2]] = '#f7fcb2'\n",
    "new_colors[[3]] = '#9e0142'\n",
    "new_colors[[4]] = '#e06d43'\n",
    "new_colors[[5]] = '#c32a4b'\n",
    "new_colors[[6]] = '#94d4a4'\n",
    "new_colors[[7]] = '#fff5ae'\n",
    "new_colors[[8]] = '#e6f598'\n",
    "new_colors[[9]] = '#fdbf6f'\n",
    "new_colors[[10]] = '#5e4fa2'\n",
    "new_colors[[11]] = '#fee08b'\n",
    "new_colors[[12]] = '#66c2a5'\n",
    "new_colors[[13]] = '#bfe5a0'"
   ]
  },
  {
   "cell_type": "code",
   "execution_count": null,
   "id": "delayed-housing",
   "metadata": {},
   "outputs": [],
   "source": [
    "# 论文里的图片\n",
    "adata.uns['cluster_figure1A_colors'] = new_colors\n",
    "\n",
    "# Figure 1a 按细胞类型划分颜色\n",
    "sc.settings.set_figure_params(dpi=400, figsize = (4, 4), fontsize=7)\n",
    "sc.pl.umap(adata, color=['cluster_figure1A'], add_outline=False, frameon=False, title='', size = 3.0)"
   ]
  },
  {
   "cell_type": "code",
   "execution_count": null,
   "id": "casual-hebrew",
   "metadata": {},
   "outputs": [],
   "source": [
    "sc.settings.set_figure_params(dpi=150, figsize = (4, 4), fontsize=15)\n",
    "sc.pl.umap(adata, color=['pan_organ'], palette=\"Spectral\", frameon=False, title='')"
   ]
  },
  {
   "cell_type": "code",
   "execution_count": null,
   "id": "prerequisite-ending",
   "metadata": {},
   "outputs": [],
   "source": [
    "print(adata.obs['pan_organ'].cat.categories)\n",
    "\n",
    "old_colors = np.array(adata.uns['pan_organ_colors'])\n",
    "new_colors = old_colors\n",
    "\n",
    "# Proximal SI\n",
    "new_colors[[1]] = '#ff0000'\n",
    "# Ileum\n",
    "new_colors[[2]] = '#0077b2'\n",
    "# App-Col-Rec\n",
    "new_colors[[0]] = '#60b55c'\n",
    "\n",
    "# 论文里的图片\n",
    "adata.uns['pan_organ_colors'] = new_colors\n",
    "\n",
    "# Figure 1a 按细胞类型划分颜色\n",
    "sc.settings.set_figure_params(dpi=400, figsize = (4, 4), fontsize=7)\n",
    "sc.pl.umap(adata, color=['pan_organ'], add_outline=False, frameon=False, title='',\n",
    "           size = 3.0\n",
    "          )"
   ]
  },
  {
   "cell_type": "code",
   "execution_count": null,
   "id": "sonic-fiction",
   "metadata": {},
   "outputs": [],
   "source": [
    "sc.settings.set_figure_params(dpi=400, figsize = (4, 4), fontsize=15)\n",
    "\n",
    "colors2 = plt.cm.plasma(np.linspace(0, 1, 128))\n",
    "colors3 = plt.cm.Greys_r(np.linspace(0.7,0.8,10))\n",
    "colorsComb = np.vstack([colors3, colors2])\n",
    "mymap = colors.LinearSegmentedColormap.from_list('my_colormap', colorsComb)\n",
    "\n",
    "sc.pl.umap(adata, color=['SLC46A1','FABP6','AQP8'], add_outline=False, frameon=False,size = 3.0, color_map = mymap)"
   ]
  },
  {
   "cell_type": "code",
   "execution_count": null,
   "id": "systematic-oriental",
   "metadata": {},
   "outputs": [],
   "source": [
    "adata_1 = sc.AnnData(X=adata.raw.X, var=adata.raw.var, obs = adata.obs)"
   ]
  },
  {
   "cell_type": "code",
   "execution_count": null,
   "id": "rotary-closure",
   "metadata": {},
   "outputs": [],
   "source": [
    "np.max(list(adata_1.to_df()['SLC46A1']))"
   ]
  },
  {
   "cell_type": "code",
   "execution_count": null,
   "id": "painted-armenia",
   "metadata": {
    "scrolled": true
   },
   "outputs": [],
   "source": [
    "np.max(list(adata_1.to_df()['FABP6']))"
   ]
  },
  {
   "cell_type": "code",
   "execution_count": null,
   "id": "documented-oracle",
   "metadata": {},
   "outputs": [],
   "source": [
    "np.max(list(adata_1.to_df()['AQP8']))"
   ]
  },
  {
   "cell_type": "markdown",
   "id": "handed-discipline",
   "metadata": {},
   "source": [
    "# HIO"
   ]
  },
  {
   "cell_type": "code",
   "execution_count": null,
   "id": "alpine-broadway",
   "metadata": {},
   "outputs": [],
   "source": [
    "adata = sc.read('/mnt/data/Project2021/Gut_immune_surveillance/data/h5ad_Figure/Human/Epithelium/Postnatal/human_HIO_epi.h5ad')\n",
    "adata = sc.AnnData(X=adata.raw.X, var=adata.raw.var, obs = adata.obs)\n",
    "adata"
   ]
  },
  {
   "cell_type": "code",
   "execution_count": null,
   "id": "raising-supervisor",
   "metadata": {
    "scrolled": false
   },
   "outputs": [],
   "source": [
    "adata.raw = adata\n",
    "\n",
    "sc.pp.highly_variable_genes(adata, min_mean=0.0125, max_mean=3, min_disp=0.5,batch_key='pan_organ')\n",
    "adata = adata[:, adata.var.highly_variable]\n",
    "\n",
    "sc.pp.scale(adata, zero_center=False)\n",
    "\n",
    "def progress_pca_bbknn_umap_tsne(adata, n_pcs=20, batch_key='bbknn_batch'):\n",
    "    ## 主成分分析降维\n",
    "    sc.tl.pca(adata, svd_solver='arpack')\n",
    "    # 在PCA坐标中绘制散点图\n",
    "    sc.pl.pca(adata)\n",
    "    # 可视化每个PC对数据总方差的贡献, 这为我们提供了有关为计算单元的邻域关系应考虑的PC数量的信息sc.tl.tsne()\n",
    "    sc.pl.pca_variance_ratio(adata, log=True)\n",
    "\n",
    "    # 使用bbknn算法处理批次效应(代替了neighbors)\n",
    "    # bbknn要求数据已经过标准化和主成分分析\n",
    "\n",
    "    adata.obs['bbknn_batch'] = [str(i)+'-'+str(j) for i,j in zip(adata.obs['dataset'], adata.obs['batch_name'])]\n",
    "    sc.external.pp.bbknn(adata, batch_key=batch_key, n_pcs=n_pcs, neighbors_within_batch=3)\n",
    "    \n",
    "    # 计算UMAP\n",
    "    sc.tl.umap(adata)\n",
    "    # sc.tl.tsne(adata, n_jobs=6)\n",
    "\n",
    "    return adata\n",
    "\n",
    "adata = progress_pca_bbknn_umap_tsne(adata)"
   ]
  },
  {
   "cell_type": "code",
   "execution_count": null,
   "id": "medical-windows",
   "metadata": {},
   "outputs": [],
   "source": [
    "sc.settings.set_figure_params(dpi=200, figsize = (4, 4), fontsize=10)\n",
    "sc.pl.umap(adata, color=['cluster_figure1A'], add_outline=True, palette=\"tab20\", frameon=False, title='')\n",
    "sc.pl.umap(adata, color=['PCW'], add_outline=True, frameon=False, title='')"
   ]
  },
  {
   "cell_type": "code",
   "execution_count": null,
   "id": "normal-discipline",
   "metadata": {},
   "outputs": [],
   "source": [
    "sc.pl.umap(adata, color=['DEFA5','DEFA6','REG3A','REG3G','ITLN2','NR1H4','NR1H3','VDR'], add_outline=True, frameon=False)"
   ]
  },
  {
   "cell_type": "code",
   "execution_count": null,
   "id": "ready-vietnam",
   "metadata": {},
   "outputs": [],
   "source": [
    "adata.write('/mnt/data/Project2021/Gut_immune_surveillance/data/h5ad_Figure/Human/Epithelium/Postnatal/human_HIO_epi_ann.h5ad')\n",
    "adata"
   ]
  },
  {
   "cell_type": "markdown",
   "id": "described-moscow",
   "metadata": {},
   "source": [
    "## 绘图"
   ]
  },
  {
   "cell_type": "code",
   "execution_count": null,
   "id": "considerable-block",
   "metadata": {},
   "outputs": [],
   "source": [
    "adata = sc.read('/mnt/data/Project2021/Gut_immune_surveillance/data/h5ad_Figure/Human/Epithelium/Postnatal/human_HIO_epi_ann.h5ad')\n",
    "adata"
   ]
  },
  {
   "cell_type": "code",
   "execution_count": null,
   "id": "systematic-bulgarian",
   "metadata": {},
   "outputs": [],
   "source": [
    "adata.obs.to_csv('/mnt/data/Project2021/Gut_immune_surveillance/outputs/HIO_epi.csv')"
   ]
  },
  {
   "cell_type": "code",
   "execution_count": null,
   "id": "finite-league",
   "metadata": {},
   "outputs": [],
   "source": [
    "sc.settings.set_figure_params(dpi=400, figsize = (4, 4), fontsize=10)\n",
    "sc.pl.umap(adata, color=['cluster_figure1A'], palette=\"tab20\", frameon=False, title='')"
   ]
  },
  {
   "cell_type": "code",
   "execution_count": null,
   "id": "progressive-memory",
   "metadata": {},
   "outputs": [],
   "source": [
    "adata.obs['cluster_figure1A'].cat.categories"
   ]
  },
  {
   "cell_type": "code",
   "execution_count": null,
   "id": "toxic-retirement",
   "metadata": {},
   "outputs": [],
   "source": [
    "old_colors = np.array(adata.uns['cluster_figure1A_colors'])\n",
    "new_colors = old_colors\n",
    "new_colors"
   ]
  },
  {
   "cell_type": "code",
   "execution_count": null,
   "id": "appropriate-donna",
   "metadata": {},
   "outputs": [],
   "source": [
    "# Stem and TA\n",
    "new_colors[[0]] = '#439bb5'\n",
    "new_colors[[1]] = '#f7fcb2'\n",
    "new_colors[[2]] = '#9e0142'\n",
    "new_colors[[3]] = '#c32a4b'\n",
    "new_colors[[4]] = '#fdbf6f'\n",
    "new_colors[[5]] = '#fee08b'\n",
    "new_colors[[6]] = '#bfe5a0'\n",
    "new_colors[[7]] = '#df4e4b'\n",
    "new_colors[[8]] = '#fa9857'"
   ]
  },
  {
   "cell_type": "code",
   "execution_count": null,
   "id": "exterior-century",
   "metadata": {},
   "outputs": [],
   "source": [
    "# 论文里的图片\n",
    "adata.uns['cluster_figure1A_colors'] = new_colors\n",
    "\n",
    "# Figure 1a 按细胞类型划分颜色\n",
    "sc.settings.set_figure_params(dpi=400, figsize = (4, 4), fontsize=7)\n",
    "sc.pl.umap(adata, color=['cluster_figure1A'], add_outline=False, frameon=False, title='')"
   ]
  },
  {
   "cell_type": "code",
   "execution_count": null,
   "id": "delayed-neutral",
   "metadata": {},
   "outputs": [],
   "source": [
    "from matplotlib import cm, colors\n",
    "\n",
    "colors1 = plt.cm.Greys(np.linspace(0, 1, 128))\n",
    "colors2 = plt.cm.Greys_r(np.linspace(0.7,0.8,10))\n",
    "colorsComb = np.vstack([colors2, colors1])\n",
    "mymap = colors.LinearSegmentedColormap.from_list('my_colormap', colorsComb)\n",
    "\n",
    "sc.settings.set_figure_params(dpi=400, figsize = (4, 4), fontsize=10)\n",
    "sc.pl.umap(adata, color=['PCW'], palette=\"tab20\", color_map = mymap, frameon=False, title='')"
   ]
  },
  {
   "cell_type": "code",
   "execution_count": null,
   "id": "therapeutic-habitat",
   "metadata": {},
   "outputs": [],
   "source": [
    "from matplotlib import cm, colors\n",
    "\n",
    "colors2 = plt.cm.viridis(np.linspace(0, 1, 128))\n",
    "colors3 = plt.cm.viridis(np.linspace(0.2,1,5))\n",
    "colorsComb = np.vstack([colors3, colors2])\n",
    "mymap = colors.LinearSegmentedColormap.from_list('my_colormap', colorsComb)\n",
    "\n",
    "sc.settings.set_figure_params(dpi=400, figsize = (4, 4), fontsize=10)\n",
    "sc.pl.umap(adata, color=['PCW'], palette=\"tab20\", color_map = mymap, frameon=False, title='')"
   ]
  },
  {
   "cell_type": "code",
   "execution_count": null,
   "id": "civil-cambodia",
   "metadata": {},
   "outputs": [],
   "source": [
    "sc.settings.set_figure_params(dpi=400, figsize = (4, 4), fontsize=15)\n",
    "\n",
    "colors2 = plt.cm.plasma(np.linspace(0, 1, 128))\n",
    "colors3 = plt.cm.Greys_r(np.linspace(0.7,0.8,10))\n",
    "colorsComb = np.vstack([colors3, colors2])\n",
    "mymap = colors.LinearSegmentedColormap.from_list('my_colormap', colorsComb)\n",
    "\n",
    "sc.pl.umap(adata, color=['SLC46A1','FABP6','AQP8'], add_outline=False, frameon=False,color_map = mymap)"
   ]
  },
  {
   "cell_type": "code",
   "execution_count": null,
   "id": "rotary-disabled",
   "metadata": {},
   "outputs": [],
   "source": [
    "adata_1 = sc.AnnData(X=adata.raw.X, var=adata.raw.var, obs = adata.obs)\n",
    "\n",
    "print(np.max(list(adata_1.to_df()['SLC46A1'])))\n",
    "print(np.max(list(adata_1.to_df()['FABP6'])))\n",
    "print(np.max(list(adata_1.to_df()['AQP8'])))"
   ]
  },
  {
   "cell_type": "markdown",
   "id": "great-collect",
   "metadata": {},
   "source": [
    "# All"
   ]
  },
  {
   "cell_type": "markdown",
   "id": "comic-herald",
   "metadata": {},
   "source": [
    "## 1"
   ]
  },
  {
   "cell_type": "code",
   "execution_count": null,
   "id": "julian-tracker",
   "metadata": {},
   "outputs": [],
   "source": [
    "# 读取人类肠道全部数据\n",
    "adata = sc.read('/mnt/data/Project2021/Gut_immune_surveillance/data/h5ad/All_579886_umap.h5ad')\n",
    "adata"
   ]
  },
  {
   "cell_type": "code",
   "execution_count": null,
   "id": "soviet-caribbean",
   "metadata": {},
   "outputs": [],
   "source": [
    "# 提取上皮\n",
    "\n",
    "# Epithelium\n",
    "obs_index = adata.obs.loc[adata.obs[\"Compartment\"].isin(['Epithelium']), :].index\n",
    "adata = adata[obs_index, :]\n",
    "adata"
   ]
  },
  {
   "cell_type": "code",
   "execution_count": null,
   "id": "bizarre-crossing",
   "metadata": {
    "scrolled": false
   },
   "outputs": [],
   "source": [
    "import harmonypy as hm\n",
    "\n",
    "def progress_pca_harmony_umap(adata):\n",
    "    sc.tl.pca(adata, svd_solver='arpack')\n",
    "    sc.pl.pca(adata)\n",
    "    sc.pl.pca_variance_ratio(adata, log=True)\n",
    "\n",
    "    # Harmony处理批次效应\n",
    "    harmony_out = hm.run_harmony(adata.obsm['X_pca'], adata.obs, vars_use = ['dataset', 'batch_name'],max_iter_harmony=30)\n",
    "    adata.obsm['X_pca_harmony'] = harmony_out.Z_corr.T\n",
    "    sc.pp.neighbors(adata, n_neighbors=10, use_rep='X_pca_harmony', n_pcs=20)\n",
    "    \n",
    "    # 计算UMAP\n",
    "    sc.tl.umap(adata)\n",
    "    # sc.tl.tsne(adata, n_jobs=6)\n",
    "\n",
    "    return adata\n",
    "\n",
    "adata = progress_pca_harmony_umap(adata)"
   ]
  },
  {
   "cell_type": "code",
   "execution_count": null,
   "id": "sufficient-spanking",
   "metadata": {
    "scrolled": false
   },
   "outputs": [],
   "source": [
    "sc.settings.set_figure_params(dpi=200, figsize = (4, 4), fontsize=10)\n",
    "sc.pl.umap(adata, color=['ann_for_cpdb'], add_outline=True, palette=\"tab20\", frameon=False, title='')\n",
    "sc.pl.umap(adata, color=['pan_organ'], add_outline=True, palette=\"tab20\", frameon=False, title='')\n",
    "sc.pl.umap(adata, color=['pan_development_state'], add_outline=True, palette=\"tab20\", frameon=False, title='')"
   ]
  },
  {
   "cell_type": "markdown",
   "id": "serial-spokesman",
   "metadata": {},
   "source": [
    "## 2"
   ]
  },
  {
   "cell_type": "code",
   "execution_count": null,
   "id": "color-purpose",
   "metadata": {},
   "outputs": [],
   "source": [
    "adata = sc.read('/mnt/data/Project2021/Gut_immune_surveillance/data/h5ad/adata_epi_scenic_24846.h5ad')\n",
    "adata"
   ]
  },
  {
   "cell_type": "code",
   "execution_count": null,
   "id": "nominated-shark",
   "metadata": {},
   "outputs": [],
   "source": [
    "adata.raw = adata\n",
    "\n",
    "sc.pp.highly_variable_genes(adata, min_mean=0.0125, max_mean=3, min_disp=0.5,batch_key='pan_organ')\n",
    "adata = adata[:, adata.var.highly_variable]\n",
    "\n",
    "sc.pp.scale(adata, zero_center=False)\n",
    "\n",
    "def progress_pca_bbknn_umap_tsne(adata, n_pcs=20, batch_key='bbknn_batch'):\n",
    "    ## 主成分分析降维\n",
    "    sc.tl.pca(adata, svd_solver='arpack')\n",
    "    # 在PCA坐标中绘制散点图\n",
    "    sc.pl.pca(adata)\n",
    "    # 可视化每个PC对数据总方差的贡献, 这为我们提供了有关为计算单元的邻域关系应考虑的PC数量的信息sc.tl.tsne()\n",
    "    sc.pl.pca_variance_ratio(adata, log=True)\n",
    "\n",
    "    # 使用bbknn算法处理批次效应(代替了neighbors)\n",
    "    # bbknn要求数据已经过标准化和主成分分析\n",
    "\n",
    "    adata.obs['bbknn_batch'] = [str(i)+'-'+str(j) for i,j in zip(adata.obs['dataset'], adata.obs['batch_name'])]\n",
    "    sc.external.pp.bbknn(adata, batch_key=batch_key, n_pcs=n_pcs, neighbors_within_batch=3)\n",
    "    \n",
    "    # 计算UMAP\n",
    "    sc.tl.umap(adata)\n",
    "    # sc.tl.tsne(adata, n_jobs=6)\n",
    "\n",
    "    return adata\n",
    "\n",
    "adata = progress_pca_bbknn_umap_tsne(adata)"
   ]
  },
  {
   "cell_type": "markdown",
   "id": "naughty-manhattan",
   "metadata": {},
   "source": []
  }
 ],
 "metadata": {
  "kernelspec": {
   "display_name": "Python [conda env:singlecell] *",
   "language": "python",
   "name": "conda-env-singlecell-py"
  },
  "language_info": {
   "codemirror_mode": {
    "name": "ipython",
    "version": 3
   },
   "file_extension": ".py",
   "mimetype": "text/x-python",
   "name": "python",
   "nbconvert_exporter": "python",
   "pygments_lexer": "ipython3",
   "version": "3.7.10"
  },
  "toc": {
   "base_numbering": 1,
   "nav_menu": {},
   "number_sections": true,
   "sideBar": true,
   "skip_h1_title": false,
   "title_cell": "Table of Contents",
   "title_sidebar": "Contents",
   "toc_cell": false,
   "toc_position": {
    "height": "calc(100% - 180px)",
    "left": "10px",
    "top": "150px",
    "width": "165px"
   },
   "toc_section_display": true,
   "toc_window_display": true
  }
 },
 "nbformat": 4,
 "nbformat_minor": 5
}
