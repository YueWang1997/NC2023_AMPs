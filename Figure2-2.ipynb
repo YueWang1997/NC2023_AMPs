{
 "cells": [
  {
   "cell_type": "code",
   "execution_count": null,
   "id": "cordless-finland",
   "metadata": {},
   "outputs": [],
   "source": [
    "#!/usr/bin/env python\n",
    "# -*- coding: utf-8 -*-\n",
    "import numpy as np\n",
    "import pandas as pd\n",
    "import scanpy as sc\n",
    "import anndata\n",
    "import bbknn\n",
    "import os\n",
    "from scipy import sparse\n",
    "import matplotlib.pyplot as plt\n",
    "# from scanpy_base_moudle_update2 import *\n",
    "# import scrublet as scr\n",
    "import datetime\n",
    "import harmonypy as hm\n",
    "\n",
    "sc.settings.verbosity = 3\n",
    "#sc.logging.print_versions()\n",
    "# 设置图片的分辨率以及其他样式\n",
    "sc.settings.set_figure_params(dpi=150, figsize = (4, 3), fontsize=12)\n",
    "\n",
    "import matplotlib.font_manager\n",
    "flist = matplotlib.font_manager.get_fontconfig_fonts()\n",
    "names = [matplotlib.font_manager.FontProperties(fname=fname).get_name() for fname in flist]\n",
    "print(names)\n",
    "\n",
    "params={\n",
    "        #'font.style':'italic',\n",
    "        'font.weight':'normal',    #or 'blod'\n",
    "        }\n",
    "plt.rcParams.update(params)\n",
    "\n",
    "plt.rcParams['font.family']='Arial'"
   ]
  },
  {
   "cell_type": "code",
   "execution_count": null,
   "id": "searching-advisory",
   "metadata": {},
   "outputs": [],
   "source": [
    "adata = sc.read('/mnt/data/Project2021/Gut_immune_surveillance/data/h5ad/All_579886_umap.h5ad')\n",
    "adata"
   ]
  },
  {
   "cell_type": "code",
   "execution_count": null,
   "id": "seasonal-quest",
   "metadata": {},
   "outputs": [],
   "source": [
    "from matplotlib import cm, colors\n",
    "\n",
    "sc.settings.set_figure_params(dpi=400, figsize = (4, 3), fontsize=12)\n",
    "\n",
    "colors2 = plt.cm.jet(np.linspace(0, 1, 128))\n",
    "colors3 = plt.cm.Greys_r(np.linspace(0.7,0.8,20))\n",
    "colorsComb = np.vstack([colors3, colors2])\n",
    "mymap = colors.LinearSegmentedColormap.from_list('my_colormap', colorsComb)\n",
    "\n",
    "sc.pl.umap(adata, color=['DEFA5','DEFA6','ITLN2','PLA2G2A'], add_outline=False, frameon=False,size = 1.8, color_map = mymap,)\n",
    "sc.pl.umap(adata, color=['REG3A','PRSS2','REG3G','LYZ'], add_outline=False, frameon=False,size = 1.8, color_map = mymap,)\n",
    "sc.pl.umap(adata, color=['NR1H4','NR1H3','VDR','NR1I3'], add_outline=False, frameon=False,size = 1.8, color_map = mymap,)"
   ]
  },
  {
   "cell_type": "markdown",
   "id": "green-court",
   "metadata": {},
   "source": [
    "# Immune cells"
   ]
  },
  {
   "cell_type": "code",
   "execution_count": null,
   "id": "printable-recipe",
   "metadata": {},
   "outputs": [],
   "source": [
    "adata.obs['Compartment'].cat.categories"
   ]
  },
  {
   "cell_type": "code",
   "execution_count": null,
   "id": "mighty-yacht",
   "metadata": {},
   "outputs": [],
   "source": [
    "obs_index = adata.obs.loc[adata.obs[\"Compartment\"].isin(['T/ILCs','B cells','MNPs','Mast cells']), :].index\n",
    "adata = adata[obs_index, :]\n",
    "adata"
   ]
  },
  {
   "cell_type": "code",
   "execution_count": null,
   "id": "catholic-apartment",
   "metadata": {},
   "outputs": [],
   "source": [
    "sc.pl.umap(adata, color = ['Compartment'])"
   ]
  },
  {
   "cell_type": "code",
   "execution_count": null,
   "id": "democratic-chicken",
   "metadata": {},
   "outputs": [],
   "source": [
    "def progress_pca_bbknn_umap_tsne(adata, n_pcs=20, batch_key='bbknn_batch'):\n",
    "    ## 主成分分析降维\n",
    "    sc.tl.pca(adata, svd_solver='arpack')\n",
    "    # 在PCA坐标中绘制散点图\n",
    "    sc.pl.pca(adata)\n",
    "    # 可视化每个PC对数据总方差的贡献, 这为我们提供了有关为计算单元的邻域关系应考虑的PC数量的信息sc.tl.tsne()\n",
    "    sc.pl.pca_variance_ratio(adata, log=True)\n",
    "\n",
    "    # 使用bbknn算法处理批次效应(代替了neighbors)\n",
    "    # bbknn要求数据已经过标准化和主成分分析\n",
    "    starttime = datetime.datetime.now()\n",
    "    adata.obs['bbknn_batch'] = [str(i)+'-'+str(j) for i,j in zip(adata.obs['dataset'], adata.obs['batch_name'])]\n",
    "    sc.external.pp.bbknn(adata, batch_key=batch_key, n_pcs=n_pcs, neighbors_within_batch=1)\n",
    "    endtime = datetime.datetime.now()\n",
    "    print((endtime-starttime).seconds)\n",
    "    \n",
    "    # 计算UMAP\n",
    "    sc.tl.umap(adata)\n",
    "    # sc.tl.tsne(adata, n_jobs=6)\n",
    "\n",
    "    return adata\n",
    "\n",
    "adata = progress_pca_bbknn_umap_tsne(adata)"
   ]
  },
  {
   "cell_type": "code",
   "execution_count": null,
   "id": "sitting-factor",
   "metadata": {},
   "outputs": [],
   "source": [
    "sc.settings.set_figure_params(dpi=300, figsize = (4, 3), fontsize=10)\n",
    "sc.pl.umap(adata, color=['Compartment'], add_outline=True,\n",
    "           palette=sc.pl.palettes.vega_20_scanpy, outline_width = (0.2, 0.05), frameon=False)"
   ]
  },
  {
   "cell_type": "code",
   "execution_count": null,
   "id": "excess-lighting",
   "metadata": {},
   "outputs": [],
   "source": [
    "sc.settings.set_figure_params(dpi=300, figsize = (4, 3), fontsize=10)\n",
    "sc.pl.umap(adata, color=['cluster_figure1A'], add_outline=True,\n",
    "           palette=\"tab20_r\", outline_width = (0.2, 0.05), frameon=False)"
   ]
  },
  {
   "cell_type": "code",
   "execution_count": null,
   "id": "complimentary-sacramento",
   "metadata": {},
   "outputs": [],
   "source": [
    "old_colors = np.array(adata.uns['cluster_figure1A_colors'])\n",
    "new_colors = old_colors"
   ]
  },
  {
   "cell_type": "code",
   "execution_count": null,
   "id": "affecting-strike",
   "metadata": {},
   "outputs": [],
   "source": [
    "## T/ILCs\n",
    "\n",
    "# NK/ILC1\n",
    "new_colors[[0]] = '#ff19e0'\n",
    "# ILC2/3\n",
    "new_colors[[1]] = '#f6ff00'\n",
    "# gamma_delta T\n",
    "new_colors[[2]] = '#ff0000'\n",
    "# CD4+Naive T/Treg/Tfh\n",
    "new_colors[[3,4,5]] = '#9edae5'\n",
    "# CD4+T helper\n",
    "new_colors[[6,7,8,9]] = '#17becf'\n",
    "# CD8+Naive T/ Cytotoxic T /DEFA5+/MT1X+\n",
    "new_colors[[10,11,12,13,14,15]] = '#4265bd'\n",
    "# Cycling T\n",
    "new_colors[[16]] = '#00f3f7'#fff7b0\n",
    "\n",
    "## B cells\n",
    "\n",
    "# IgA Plasma\n",
    "new_colors[[17]] = '#f7a85b'\n",
    "# IgG Plasma\n",
    "new_colors[[18]] = '#ff0505'\n",
    "# Cycling Plamsa cells\n",
    "new_colors[[19]] = '#00f3f7'\n",
    "# GC B cells/Cycling GC B cells\n",
    "new_colors[[21,22]] = '#00f3f7'\n",
    "# Naive B cells\n",
    "new_colors[[20]] = '#fff70a'\n",
    "# Memory B cells/FCRL4+Memory B cells\n",
    "new_colors[[23,24]] = '#ffa90a'\n",
    "\n",
    "## DCs and MNPs\n",
    "\n",
    "# Monocytes\n",
    "new_colors[[25,26,27,28]] = '#ff9896'\n",
    "# Megakaryocytes\n",
    "new_colors[[29]] = '#fff70a'\n",
    "# DCs\n",
    "new_colors[[30,31,32,33]] = '#d62728'\n",
    "# M1 Macrophages\n",
    "new_colors[[34,35]] = '#98df8a'\n",
    "# M2 Macrophages\n",
    "new_colors[[36,37,38,39]] = '#2ca02c'\n",
    "# Other Macrophages\n",
    "new_colors[[40,41,42,43,44]] = '#008700'\n",
    "# Cycling+MNPs\n",
    "new_colors[[45]] = '#00f3f7'\n",
    "\n",
    "## Mast 'C05-Mast cells'\n",
    "new_colors[[46]] = '#9c1a43'"
   ]
  },
  {
   "cell_type": "code",
   "execution_count": null,
   "id": "invisible-despite",
   "metadata": {},
   "outputs": [],
   "source": [
    "# 论文里的图片\n",
    "adata.uns['cluster_figure1A_colors'] = new_colors\n",
    "\n",
    "# Figure 1a 按细胞类型划分颜色\n",
    "sc.settings.set_figure_params(dpi=400, figsize = (4, 3), fontsize=7)\n",
    "sc.pl.umap(adata, color=['cluster_figure1A'], add_outline=True, frameon=False, title='')"
   ]
  },
  {
   "cell_type": "code",
   "execution_count": null,
   "id": "binding-tragedy",
   "metadata": {},
   "outputs": [],
   "source": [
    "sc.settings.set_figure_params(dpi=150, figsize = (4, 3), fontsize=7)\n",
    "sc.pl.umap(adata, color=['cluster_figure1A'], groups = ['C03-B05-GC B cells'] ,add_outline=True, frameon=False)"
   ]
  },
  {
   "cell_type": "code",
   "execution_count": null,
   "id": "ruled-competition",
   "metadata": {},
   "outputs": [],
   "source": [
    "from matplotlib import cm, colors\n",
    "sc.settings.set_figure_params(dpi=400, figsize = (4, 3), fontsize=7)\n",
    "\n",
    "colors2 = plt.cm.plasma(np.linspace(0, 1, 128))\n",
    "colors3 = plt.cm.Greys_r(np.linspace(0.7,0.8,10))\n",
    "colorsComb = np.vstack([colors3, colors2])\n",
    "mymap = colors.LinearSegmentedColormap.from_list('my_colormap', colorsComb)\n",
    "\n",
    "sc.pl.umap(adata, color=['DEFA5','DEFA6','PRSS2'], add_outline=False, frameon=False,size = 1.8, color_map = mymap,vmin=0,vmax=6)\n",
    "sc.pl.umap(adata, color=['REG3A','ITLN2','PLA2G2A'], add_outline=False, frameon=False,size = 1.8, color_map = mymap,vmin=0,vmax=6)\n",
    "sc.pl.umap(adata, color=['CAMP','FCRL4','CD79A'], add_outline=False, frameon=False,size = 1.8, color_map = mymap)\n",
    "sc.pl.umap(adata, color=['FPR2','P2RX7'], add_outline=False, frameon=False,size = 1.8, color_map = mymap)"
   ]
  },
  {
   "cell_type": "code",
   "execution_count": null,
   "id": "natural-kidney",
   "metadata": {},
   "outputs": [],
   "source": [
    "sc.pl.umap(adata, color=['CAMP','FCRL3','FCRL5'], add_outline=False, frameon=False,size = 1.8, color_map = mymap)"
   ]
  },
  {
   "cell_type": "code",
   "execution_count": null,
   "id": "isolated-subsection",
   "metadata": {},
   "outputs": [],
   "source": [
    "adata.obs['cluster_figure1A'].cat.categories"
   ]
  },
  {
   "cell_type": "code",
   "execution_count": null,
   "id": "collectible-installation",
   "metadata": {},
   "outputs": [],
   "source": [
    "sc.settings.set_figure_params(dpi=150, figsize = (4, 3), fontsize=7)\n",
    "sc.pl.umap(adata, color=['cluster_figure1A'], groups = ['C02-T01-NKs and ILC1'] ,add_outline=True, frameon=False)"
   ]
  },
  {
   "cell_type": "code",
   "execution_count": null,
   "id": "found-hopkins",
   "metadata": {},
   "outputs": [],
   "source": [
    "# NK\n",
    "sc.pl.umap(adata, color=['GNLY','GZMA','GZMB','GZMK'], add_outline=False, frameon=False,size = 1.8, color_map = mymap,)\n",
    "sc.pl.umap(adata, color=['IFNG','PRF1','NKG7','EOMES'], add_outline=False, frameon=False,size = 1.8, color_map = mymap,)\n",
    "# ILC1\n",
    "sc.pl.umap(adata, color=['CCL3','CCL4','CCL5','FCRL3'], add_outline=False, frameon=False,size = 1.8, color_map = mymap,)\n",
    "sc.pl.umap(adata, color=['XCL1','XCL1','FCRL1','FCRL2'], add_outline=False, frameon=False,size = 1.8, color_map = mymap,)"
   ]
  },
  {
   "cell_type": "code",
   "execution_count": null,
   "id": "persistent-theta",
   "metadata": {},
   "outputs": [],
   "source": [
    "adata.write('/mnt/data2/Project_outputs/Project2021_22/Gut_immune_surveillance/h5ad/Immune_cells.h5ad')"
   ]
  },
  {
   "cell_type": "code",
   "execution_count": null,
   "id": "personalized-japanese",
   "metadata": {},
   "outputs": [],
   "source": [
    "adata = sc.read('/mnt/data2/Project_outputs/Project2021_22/Gut_immune_surveillance/h5ad/Immune_cells.h5ad')"
   ]
  },
  {
   "cell_type": "markdown",
   "id": "legendary-baseball",
   "metadata": {},
   "source": [
    "**计算DEFA5+cells占各区室各器官的比例**"
   ]
  },
  {
   "cell_type": "code",
   "execution_count": null,
   "id": "wireless-exhibition",
   "metadata": {},
   "outputs": [],
   "source": [
    "adata"
   ]
  },
  {
   "cell_type": "code",
   "execution_count": null,
   "id": "acting-average",
   "metadata": {},
   "outputs": [],
   "source": [
    "obs_index = adata.obs.loc[adata.obs[\"health\"].isin(['Normal']), :].index\n",
    "adata = adata[obs_index, :]\n",
    "adata"
   ]
  },
  {
   "cell_type": "code",
   "execution_count": null,
   "id": "sitting-office",
   "metadata": {},
   "outputs": [],
   "source": [
    "obs_index = adata.obs.loc[~adata.obs[\"organ\"].isin(['Appendix']), :].index\n",
    "adata = adata[obs_index, :]\n",
    "adata"
   ]
  },
  {
   "cell_type": "code",
   "execution_count": null,
   "id": "moderate-panama",
   "metadata": {
    "scrolled": false
   },
   "outputs": [],
   "source": [
    "Groups_tab_1 = pd.crosstab(index=adata.obs['cluster_figure1A'],  # Make a crosstab\n",
    "                columns=adata.obs['organ'], margins=True)  # Name the count column\n",
    "Groups_tab_1"
   ]
  },
  {
   "cell_type": "code",
   "execution_count": null,
   "id": "existing-absolute",
   "metadata": {},
   "outputs": [],
   "source": [
    "adata_raw = sc.AnnData(X=adata.raw.X, var=adata.raw.var, obs = adata.obs)\n",
    "adata_raw"
   ]
  },
  {
   "cell_type": "code",
   "execution_count": null,
   "id": "unable-motion",
   "metadata": {},
   "outputs": [],
   "source": [
    "DEFA5_genes_index = adata.var_names.isin(['DEFA5'])\n",
    "\n",
    "adata.obs['count_DEFA5'] = np.sum(adata[:, DEFA5_genes_index].X, axis=1)\n",
    "\n",
    "# 获取每个细胞的得分\n",
    "compartments_values_list_except = adata.obs.loc[:,['count_DEFA5']].values.tolist()\n",
    "cell_compartments_list = []\n",
    "\n",
    "for i in compartments_values_list_except:\n",
    "\n",
    "    if ((i[0]>0.1)):\n",
    "        j = 'DEFA5+'   \n",
    "    else:\n",
    "        j = 'DEFA5-'\n",
    "        \n",
    "    cell_compartments_list.append(j)\n",
    "    \n",
    "adata.obs['Compartments'] = cell_compartments_list\n",
    "adata.obs['Compartments']"
   ]
  },
  {
   "cell_type": "code",
   "execution_count": null,
   "id": "double-scanner",
   "metadata": {},
   "outputs": [],
   "source": [
    "Groups_tab_1 = pd.crosstab(index=adata.obs['Compartment'],  # Make a crosstab\n",
    "                columns=adata.obs['Compartments'], margins=True)  # Name the count column\n",
    "Groups_tab_1"
   ]
  },
  {
   "cell_type": "code",
   "execution_count": null,
   "id": "parallel-bahrain",
   "metadata": {},
   "outputs": [],
   "source": [
    "Groups_tab_1 = pd.crosstab(index=adata.obs['Compartment'],  # Make a crosstab\n",
    "                columns=adata.obs['pan_organ'], margins=True)  # Name the count column\n",
    "Groups_tab_1"
   ]
  },
  {
   "cell_type": "code",
   "execution_count": null,
   "id": "addressed-museum",
   "metadata": {},
   "outputs": [],
   "source": [
    "Groups_tab_1 = pd.crosstab(index=adata.obs['Compartment'],  # Make a crosstab\n",
    "                columns=adata.obs['organ'], margins=True)  # Name the count column\n",
    "Groups_tab_1"
   ]
  },
  {
   "cell_type": "code",
   "execution_count": null,
   "id": "unavailable-salem",
   "metadata": {},
   "outputs": [],
   "source": [
    "obs_index = adata.obs.loc[adata.obs[\"pan_organ\"].isin(['Duo-Jej']), :].index\n",
    "adata_pro = adata[obs_index, :]\n",
    "adata_pro"
   ]
  },
  {
   "cell_type": "code",
   "execution_count": null,
   "id": "preceding-cocktail",
   "metadata": {},
   "outputs": [],
   "source": [
    "Groups_tab_1 = pd.crosstab(index=adata_pro.obs['Compartment'],  # Make a crosstab\n",
    "                columns=adata_pro.obs['Compartments'], margins=True)  # Name the count column\n",
    "Groups_tab_1\n",
    "\n",
    "# 0.0964, 0.0865, 0.0337, 0.1663,"
   ]
  },
  {
   "cell_type": "code",
   "execution_count": null,
   "id": "suburban-apparel",
   "metadata": {},
   "outputs": [],
   "source": [
    "obs_index = adata.obs.loc[adata.obs[\"pan_organ\"].isin(['Ileum']), :].index\n",
    "adata_ile = adata[obs_index, :]\n",
    "adata_ile"
   ]
  },
  {
   "cell_type": "code",
   "execution_count": null,
   "id": "disciplinary-services",
   "metadata": {},
   "outputs": [],
   "source": [
    "Groups_tab_1 = pd.crosstab(index=adata_ile.obs['Compartment'],  # Make a crosstab\n",
    "                columns=adata_ile.obs['Compartments'], margins=True)  # Name the count column\n",
    "Groups_tab_1\n",
    "# 0.1886, 0.3811, 0.1538, 0.2634,"
   ]
  },
  {
   "cell_type": "code",
   "execution_count": null,
   "id": "relevant-policy",
   "metadata": {},
   "outputs": [],
   "source": [
    "obs_index = adata.obs.loc[adata.obs[\"pan_organ\"].isin(['App-Col-Rec']), :].index\n",
    "adata_LI = adata[obs_index, :]\n",
    "adata_LI"
   ]
  },
  {
   "cell_type": "code",
   "execution_count": null,
   "id": "hybrid-section",
   "metadata": {},
   "outputs": [],
   "source": [
    "Groups_tab_1 = pd.crosstab(index=adata_LI.obs['Compartment'],  # Make a crosstab\n",
    "                columns=adata_LI.obs['Compartments'], margins=True)  # Name the count column\n",
    "Groups_tab_1\n",
    "# 0.0005, 0, 0, 0"
   ]
  },
  {
   "cell_type": "code",
   "execution_count": null,
   "id": "colored-contact",
   "metadata": {},
   "outputs": [],
   "source": [
    "sc.settings.set_figure_params(dpi=300, fontsize=17)\n",
    "# create a dataset\n",
    "height = [0.1663, 0.0964, 0.0865, 0.0337,0, 0.2634, 0.1886, 0.3811, 0.1538, 0, 0, 0.0005, 0, 0] # Duo-Stem, Paneth, Jej-Stem, Paneth, Ile-Stem, Paneth\n",
    "bars = (' ', ' ', ' ',' ', ' ', ' ', ' ', ' ', ' ', ' ', ' ', ' ', ' ', ' ')\n",
    "x_pos = np.arange(len(bars))\n",
    "\n",
    "fig, ax = plt.subplots(figsize=(8, 4))\n",
    "# Create bars with different colors\n",
    "plt.bar(x_pos, height, color=['#427637', '#cc2028', '#224de6', '#f2a51f',\n",
    "                              'green', \n",
    "                              '#427637', '#cc2028', '#224de6', '#f2a51f',\n",
    "                              'green',\n",
    "                              '#427637', '#cc2028', '#224de6', '#f2a51f',],\n",
    "            edgecolor = '#000000',\n",
    "            linewidth=0.4,\n",
    "            width=0.8,)\n",
    "\n",
    "# Create names on the x-axis\n",
    "plt.xticks(x_pos, bars, fontsize = 30)\n",
    "plt.xticks([])\n",
    "plt.yticks([0.0, 0.100, 0.200, 0.300, 0.400], fontsize = 19)\n",
    "\n",
    "plt.grid(False)\n",
    "\n",
    "print(ax.axis())\n",
    "# ax.axis([-0.54, 2.5400000000000005, 0.0, 1])\n",
    "\n",
    "ax.spines['top'].set_visible(False)\n",
    "ax.spines['right'].set_visible(False)\n",
    "\n",
    "plt.show()"
   ]
  },
  {
   "cell_type": "code",
   "execution_count": null,
   "id": "suburban-nature",
   "metadata": {
    "scrolled": false
   },
   "outputs": [],
   "source": [
    "help(plt.bar)"
   ]
  },
  {
   "cell_type": "markdown",
   "id": "outside-factory",
   "metadata": {},
   "source": [
    "# T and ILCs"
   ]
  },
  {
   "cell_type": "code",
   "execution_count": null,
   "id": "studied-delivery",
   "metadata": {},
   "outputs": [],
   "source": [
    "adata = sc.read('/mnt/data/Project2021/Gut_immune_surveillance/data/h5ad/T_ILCs_after_born_harmony_annoation.h5ad')\n",
    "adata"
   ]
  },
  {
   "cell_type": "code",
   "execution_count": null,
   "id": "systematic-platinum",
   "metadata": {},
   "outputs": [],
   "source": [
    "tf_GENES = '/mnt/data/project/scenic/auxilliaries/lambert2018_c.txt'\n",
    "amps_pd = pd.read_table(tf_GENES)\n",
    "amps_pd.head(5)"
   ]
  },
  {
   "cell_type": "code",
   "execution_count": null,
   "id": "olympic-crisis",
   "metadata": {},
   "outputs": [],
   "source": [
    "# 141\n",
    "amps_list = list(amps_pd['Gene_name'])\n",
    "amps_list = [x for x in amps_list if x in adata.raw.var_names]\n",
    "len(amps_list)"
   ]
  },
  {
   "cell_type": "code",
   "execution_count": null,
   "id": "modern-fault",
   "metadata": {},
   "outputs": [],
   "source": [
    "adata_raw = sc.AnnData(X=adata.raw.X, var=adata.raw.var, obs = adata.obs)\n",
    "adata_c = adata_raw[:,amps_list]\n",
    "adata_c"
   ]
  },
  {
   "cell_type": "code",
   "execution_count": null,
   "id": "ignored-swing",
   "metadata": {},
   "outputs": [],
   "source": [
    "sc.tl.rank_genes_groups(adata_c, 'cluster_figure1A', method='wilcoxon')"
   ]
  },
  {
   "cell_type": "code",
   "execution_count": null,
   "id": "needed-italian",
   "metadata": {},
   "outputs": [],
   "source": [
    "sc.settings.set_figure_params(dpi=150, figsize = (4, 3), fontsize=20)\n",
    "sc.pl.rank_genes_groups_dotplot(adata_c, \n",
    "                                n_genes=4,\n",
    "                                use_raw=False,\n",
    "                                values_to_plot='logfoldchanges', \n",
    "                                min_logfoldchange=0.5, \n",
    "                                vmax=3, \n",
    "                                vmin=-3, \n",
    "                                cmap='bwr')"
   ]
  },
  {
   "cell_type": "code",
   "execution_count": null,
   "id": "injured-refrigerator",
   "metadata": {},
   "outputs": [],
   "source": [
    "sc.settings.set_figure_params(dpi=300, figsize = (4, 3), fontsize=10)\n",
    "sc.pl.umap(adata, color=['cluster_figure1A'], add_outline=True,\n",
    "           palette=sc.pl.palettes.vega_20_scanpy, outline_width = (0.2, 0.05), frameon=False, title='')\n",
    "\n",
    "sc.pl.umap(adata, color=['cluster_figure1A'], add_outline=True, outline_width = (0.2, 0.05), \n",
    "           palette=sc.pl.palettes.vega_20_scanpy, frameon=False, title='', size=0.5)"
   ]
  },
  {
   "cell_type": "code",
   "execution_count": null,
   "id": "gross-second",
   "metadata": {},
   "outputs": [],
   "source": [
    "sc.settings.set_figure_params(dpi=300, figsize = (4, 3), fontsize=20)\n",
    "# sc.tl.rank_genes_groups(adata, 'cluster_figure1A', method='wilcoxon')\n",
    "sc.pl.rank_genes_groups_dotplot(adata, \n",
    "                                n_genes=8,\n",
    "                                use_raw=True,\n",
    "                                values_to_plot='logfoldchanges', \n",
    "                                min_logfoldchange=1, \n",
    "                                vmax=3, \n",
    "                                vmin=-3, \n",
    "                                cmap='bwr')"
   ]
  },
  {
   "cell_type": "code",
   "execution_count": null,
   "id": "former-blogger",
   "metadata": {},
   "outputs": [],
   "source": [
    "marker_genes_dict = {'Pan-marker': ['PTPRC','CD3D','CD3E'],\n",
    "    'CD4/CD8': ['CD4','CD8A','CD8B'],\n",
    "    'non_alpha_beta T': ['TYROBP','FCER1G','TRDC'],\n",
    "    'NK and ILC1': ['GNLY','GZMA','GZMB','GZMK','IFNG','PRF1','NKG7','EOMES','CCL3','CCL4','CCL5','XCL1','XCL1'],\n",
    "    'ILC2 and 3': ['AREG','DLL1','IL2RA','KIT','IL7R','IL22','IL23R','CCR6','LTB','LST1','IL4I1','CCL20'],\n",
    "    'gamma_delta T': ['GFI1','MYBL1','TRDC','CCL5','ITGA1','TRAC','ENTPD1','ABI3','CD247','CD7','CDH17'],                     \n",
    "    'Naive/Tcm': ['TCF7','LEF1','RBAK','CCR7','KLF2','SELL','NOSIP','CD27'], \n",
    "    'CD4+Treg': ['FOXP3','BATF','TIGIT','CTLA4','TNFRSF4','TNFRSF18','ICA1'],\n",
    "    'CD4+Type 1 cytokines Trm': ['IFNG','IL2','TNF','CXCR3','CCR9','CCL5'],\n",
    "    'CD4+Type 3 cytokines Trm': ['IL17A','IL17F','IL22','CCR6','DPP4','IL23R','CCL20'], \n",
    "    'CD8+Cytotoxic Trm': ['IL7R','KLRB1','S100A4','MGAT4A','FKBP11','CD9','SPINK2'],\n",
    "    'CD8+CTL Tem': ['GZMK','GZMB','GZMH','KLRG1','NKG7','CD44','CCL3','CCL4','CCL5','CST7'],\n",
    "    'CD8+IEL': ['KLRD1','CD7','CCL5','HOPX','ENTPD1','KLRC1','KLRC2','KLRC3','NR4A1','NR4A2','NR4A3'],\n",
    "}\n",
    "sc.settings.set_figure_params(dpi=150, figsize = (4, 3), fontsize=18)\n",
    "mp = sc.pl.dotplot(adata, \n",
    "              marker_genes_dict, \n",
    "              'cluster_figure1A', \n",
    "              dendrogram=False, \n",
    "              #figsize=(3, 4),\n",
    "              use_raw=True,\n",
    "              cmap = 'Reds',\n",
    "              var_group_rotation=45,\n",
    "              #swap_axes=True,\n",
    "              standard_scale='var',\n",
    "              colorbar_title=None,\n",
    "              return_fig=True\n",
    "              # , save='_' + sample_name + '_fig11.png'\n",
    "             ) \n",
    "mp.style(grid=True,cmap = 'Reds').show() # RdYlBu_r"
   ]
  },
  {
   "cell_type": "code",
   "execution_count": null,
   "id": "compatible-exercise",
   "metadata": {},
   "outputs": [],
   "source": [
    "list(adata.obs['cluster_figure1A'].cat.categories)"
   ]
  },
  {
   "cell_type": "code",
   "execution_count": null,
   "id": "foster-least",
   "metadata": {},
   "outputs": [],
   "source": [
    "markers = ['CD3D','CD4','CD8A', # pan-T\n",
    "           #'TYROBP','TRDC', # non-alphabelta-T\n",
    "           'GNLY','CCL3', # NK-ILC1\n",
    "           'AREG','KIT',  # ILC2-3\n",
    "           'ENTPD1','ABI3',# gammadelta-T\n",
    "           'SELL','CCR7', # Naive\n",
    "           'FOXP3','BATF', # Treg\n",
    "           'PASK','CXCR3',# Tfh\n",
    "           'IL2','TNF', # Th1\n",
    "           'IL17A','IL22',# Th17\n",
    "           'ANXA1','RGCC', # CD4+ANXA1+T cells\n",
    "           'KLRD1','CD9', # CD8+\n",
    "           'GZMK','GZMB', # CD8+CTL\n",
    "           'KLRC2','KLRC3', # CD8+IEL\n",
    "           'DEFA5','DEFA6','REG3A','PLA2G2A',\n",
    "           'MT1X','MT1E',\n",
    "           'MKI67','UBE2C'\n",
    "          \n",
    "          ]\n",
    "categories_order = list(adata.obs['cluster_figure1A'].cat.categories)"
   ]
  },
  {
   "cell_type": "code",
   "execution_count": null,
   "id": "precise-complement",
   "metadata": {},
   "outputs": [],
   "source": [
    "    mp = sc.pl.matrixplot(adata, \n",
    "                     markers, \n",
    "                     groupby='cluster_figure1A', \n",
    "                     dendrogram=False, \n",
    "                     return_fig=True,\n",
    "                     cmap='RdYlBu_r',\n",
    "                     categories_order = categories_order,\n",
    "                     standard_scale='var'\n",
    "                    )\n",
    "    mp.style(edge_color='white',cmap = 'RdYlBu_r',edge_lw=0.7).show()"
   ]
  },
  {
   "cell_type": "code",
   "execution_count": null,
   "id": "significant-cheat",
   "metadata": {},
   "outputs": [],
   "source": [
    "markers = ['CD3D','CD4','CD8A', # pan-T\n",
    "           #'TYROBP','TRDC', # non-alphabelta-T\n",
    "           'CCL3', # NK-ILC1\n",
    "           'KIT',  # ILC2-3\n",
    "           'ENTPD1',# gammadelta-T\n",
    "           'CCR7', # CD4+Naive\n",
    "           'FOXP3', # Treg\n",
    "           'PASK',# Tfh\n",
    "           'IL2', # Th1\n",
    "           'IL17A',# Th17\n",
    "           'ANXA1',# CD4+ANXA1+T cells\n",
    "           'SELL', # CD8+Naive\n",
    "           'CD9', # CD8+\n",
    "           'GZMK',# CD8+CTL\n",
    "           'KLRC3', # CD8+IEL\n",
    "           'DEFA5','DEFA6','REG3A','PLA2G2A',\n",
    "           'MT1X',\n",
    "           'MKI67'\n",
    "          \n",
    "          ]\n",
    "categories_order = list(adata.obs['cluster_figure1A'].cat.categories)\n",
    "\n",
    "mp = sc.pl.matrixplot(adata, \n",
    "                     markers, \n",
    "                     groupby='cluster_figure1A', \n",
    "                     dendrogram=False, \n",
    "                     return_fig=True,\n",
    "                     cmap='RdYlBu_r',\n",
    "                     categories_order = categories_order,\n",
    "                     standard_scale='var'\n",
    "                    )\n",
    "mp.style(edge_color='white',cmap = 'RdYlBu_r',edge_lw=0.7).show()"
   ]
  },
  {
   "cell_type": "code",
   "execution_count": null,
   "id": "european-belfast",
   "metadata": {},
   "outputs": [],
   "source": [
    "sc.settings.set_figure_params(dpi=300,fontsize=18)\n",
    "mp = sc.pl.dotplot(adata, \n",
    "              markers, \n",
    "              'cluster_figure1A', \n",
    "              dendrogram=False, \n",
    "              #figsize=(3, 4),\n",
    "              use_raw=True,\n",
    "              cmap = 'Reds',\n",
    "              var_group_rotation=45,\n",
    "              #swap_axes=True,\n",
    "              categories_order = categories_order,\n",
    "              standard_scale='var',\n",
    "              colorbar_title=None,\n",
    "              return_fig=True\n",
    "              # , save='_' + sample_name + '_fig11.png'\n",
    "             ) \n",
    "mp.style(grid=True,cmap = 'Spectral_r').show() # RdYlBu_r"
   ]
  },
  {
   "cell_type": "code",
   "execution_count": null,
   "id": "paperback-shopper",
   "metadata": {},
   "outputs": [],
   "source": [
    "from matplotlib import cm, colors\n",
    "\n",
    "sc.settings.set_figure_params(dpi=400, figsize = (4, 3), fontsize=12)\n",
    "\n",
    "colors2 = plt.cm.jet(np.linspace(0, 1, 128))\n",
    "colors3 = plt.cm.Greys_r(np.linspace(0.7,0.8,20))\n",
    "colorsComb = np.vstack([colors3, colors2])\n",
    "mymap = colors.LinearSegmentedColormap.from_list('my_colormap', colorsComb)\n",
    "\n",
    "sc.pl.umap(adata, color=['DEFA5','DEFA6','REG3A','PLA2G2A'], add_outline=False, frameon=False,size = 1.8, color_map = mymap,)\n",
    "sc.pl.umap(adata, color=['ITLN2','PRSS2','REG3G','LYZ'], add_outline=False, frameon=False,size = 1.8, color_map = mymap,)\n",
    "sc.pl.umap(adata, color=['NR1H4','NR1H3','VDR','NR1I3'], add_outline=False, frameon=False,size = 1.8, color_map = mymap,)"
   ]
  },
  {
   "cell_type": "code",
   "execution_count": null,
   "id": "third-headquarters",
   "metadata": {},
   "outputs": [],
   "source": [
    "sc.pl.umap(adata, color=['CD4','CD8A'], add_outline=False, frameon=False,size = 1.8, color_map = mymap,)"
   ]
  },
  {
   "cell_type": "code",
   "execution_count": null,
   "id": "chronic-reform",
   "metadata": {},
   "outputs": [],
   "source": [
    "plt.cm"
   ]
  },
  {
   "cell_type": "code",
   "execution_count": null,
   "id": "competitive-mistake",
   "metadata": {},
   "outputs": [],
   "source": [
    "colors2 = plt.cm.Greys_r(np.linspace(0.7,0.8, 128))\n",
    "colors3 = plt.cm.Greys_r(np.linspace(0.7,0.8,30))\n",
    "colorsComb = np.vstack([colors3, colors2])\n",
    "mymap = colors.LinearSegmentedColormap.from_list('my_colormap', colorsComb)\n",
    "sc.pl.umap(adata, color=['EPCAM','KRT8'], add_outline=False, frameon=False,size = 1.8, color_map = mymap,)"
   ]
  },
  {
   "cell_type": "code",
   "execution_count": null,
   "id": "similar-still",
   "metadata": {},
   "outputs": [],
   "source": [
    "colors2 = plt.cm.jet(np.linspace(0, 1, 128))\n",
    "colors3 = plt.cm.Greys_r(np.linspace(0.7,0.8,30))\n",
    "colorsComb = np.vstack([colors3, colors2])\n",
    "mymap = colors.LinearSegmentedColormap.from_list('my_colormap', colorsComb)\n",
    "sc.pl.umap(adata, color=['CD3D','KRT18','KRT19'], add_outline=False, frameon=False,size = 1.8, color_map = mymap,)"
   ]
  },
  {
   "cell_type": "code",
   "execution_count": null,
   "id": "illegal-morris",
   "metadata": {},
   "outputs": [],
   "source": [
    "obs_index = adata.obs.loc[adata.obs[\"health\"].isin(['Normal']), :].index\n",
    "adata = adata[obs_index, :]\n",
    "adata"
   ]
  },
  {
   "cell_type": "code",
   "execution_count": null,
   "id": "blank-basics",
   "metadata": {},
   "outputs": [],
   "source": [
    "obs_index = adata.obs.loc[~adata.obs[\"organ\"].isin(['Appendix']), :].index\n",
    "adata = adata[obs_index, :]\n",
    "adata"
   ]
  },
  {
   "cell_type": "code",
   "execution_count": null,
   "id": "growing-circus",
   "metadata": {},
   "outputs": [],
   "source": [
    "adata_raw = sc.AnnData(X=adata.raw.X, var=adata.raw.var, obs = adata.obs)\n",
    "adata_raw"
   ]
  },
  {
   "cell_type": "code",
   "execution_count": null,
   "id": "honey-assault",
   "metadata": {},
   "outputs": [],
   "source": [
    "# 修改器官名，以使绘制bar图时按正确顺序排列。\n",
    "organ_list = []\n",
    "\n",
    "for i in adata.obs['pan_organ'].to_list():\n",
    "    \n",
    "    if i == 'Duo-Jej':\n",
    "        j = '1-Pro_SI'\n",
    "    elif i == 'Ileum':\n",
    "        j = '2-Ileum'\n",
    "    elif i == 'App-Col-Rec':\n",
    "        j = '3-LI'        \n",
    "    organ_list.append(j)\n",
    "\n",
    "adata.obs['organ_name'] = organ_list"
   ]
  },
  {
   "cell_type": "code",
   "execution_count": null,
   "id": "referenced-stewart",
   "metadata": {},
   "outputs": [],
   "source": [
    "Groups_tab_1 = pd.crosstab(index=adata.obs['organ_name'],  # Make a crosstab\n",
    "                        columns=adata.obs['cluster_figure1A'], margins=True)               # Name the count column\n",
    "MyTab_1= Groups_tab_1.div(Groups_tab_1[\"All\"], axis=0)\n",
    "MyTab2_1 = MyTab_1.drop(columns=\"All\")\n",
    "MyTab2_1 = MyTab2_1.drop(index=\"All\")\n",
    "MyTab2_1.T"
   ]
  },
  {
   "cell_type": "code",
   "execution_count": null,
   "id": "anonymous-friday",
   "metadata": {},
   "outputs": [],
   "source": [
    "            color={\"C01-E01-Mouse-Stem cells\": \"#1f76b4\",\n",
    "                   \"C01-E02-Mouse-TA\": \"#2bc6ed\",\n",
    "                   \"C01-E03-Mouse-Immature colonocytes\": \"#279e68\", \n",
    "                   \"C01-E03-Mouse-Immature enterocytes\": \"#279e68\", \n",
    "                   \"C01-E04-Mouse-APOA1+Enterocytes\": \"#d62727\",\n",
    "                   \"C01-E04-Mouse-Aqp8+colonocytes\": \"#ab40fc\", \n",
    "                   \"C01-E05-Mouse-Fcgbp+colonocytes\": \"#fc40f6\", \n",
    "                   \"C01-E09-Mouse-Microfold cells\": \"#17bdcf\",                  \n",
    "                   \"C01-E10-Mouse-Enteroendocrine cells\": \"#aec7e8\", \n",
    "                   \"C01-E11-Mouse-Tuft cells\": \"#ffbc78\", \n",
    "                   \"C01-E12-Mouse-Goblet cells\": \"#98df8a\",                   \n",
    "                   \"C01-E12-Mouse-Immature goblet cells\": \"#d3fac5\", \n",
    "                   \"C01-E13-Mouse-Goblet\": \"#98df8a\", \n",
    "                   \"C01-E13-Mouse-Paneth cells\": \"#ff9896\",                   }"
   ]
  },
  {
   "cell_type": "code",
   "execution_count": null,
   "id": "relevant-vessel",
   "metadata": {},
   "outputs": [],
   "source": [
    "#categories = IMM_group[::-1]\n",
    "\n",
    "MyTab2_1.columns = pd.CategoricalIndex(MyTab2_1.columns.values)\n",
    "\n",
    "# Sort the columns (axis=1) by the new categorical ordering\n",
    "MyTab2_1 = MyTab2_1.sort_index(axis=1)\n",
    "\n",
    "ax = MyTab2_1.plot.bar(\n",
    "            figsize=(2,5),\n",
    "            stacked=True,\n",
    "            edgecolor = '#000000',\n",
    "            linewidth=0.4,\n",
    "            width=0.8, \n",
    "            fontsize=15,\n",
    "\n",
    "             )\n",
    "\n",
    "\n",
    "plt.title(\"\", fontsize=12)\n",
    "plt.ylabel(\"Fraction of cells\", fontsize=14)\n",
    "plt.xlabel(\"\", fontsize=12)\n",
    "plt.ylim=1.0\n",
    "\n",
    "#plt.gca().get_legend().remove() #remove legend\n",
    "# plt.legend(categories, loc='center left', bbox_to_anchor=(1, 0.6), fontsize=12)\n",
    "# plt.savefig('Proportion of clusters accross organs.png')\n",
    "# 去除刻度\n",
    "#plt.xticks([])\n",
    "#plt.yticks([])\n",
    "# ax.tick_params(bottom=False, top=False, left=False, right=False)\n",
    "handles, labels = ax.get_legend_handles_labels()\n",
    "ax.legend(reversed(handles), reversed(labels), loc='center left', bbox_to_anchor=(1, 0.6), fontsize=8)\n",
    "plt.grid(False)\n",
    "\n",
    "plt.show()"
   ]
  },
  {
   "cell_type": "code",
   "execution_count": null,
   "id": "spiritual-tracker",
   "metadata": {},
   "outputs": [],
   "source": [
    "MyTab2_EPI"
   ]
  },
  {
   "cell_type": "code",
   "execution_count": null,
   "id": "angry-devices",
   "metadata": {
    "scrolled": false
   },
   "outputs": [],
   "source": [
    "Groups_tab_1 = pd.crosstab(index=adata.obs['cluster_figure1A'],  # Make a crosstab\n",
    "                        columns=adata.obs['organ_name'], margins=True)               # Name the count column\n",
    "\n",
    "MyTab_1= Groups_tab_1.div(Groups_tab_1.iloc[-1], axis=1)\n",
    "MyTab2_1 = MyTab_1.drop(columns=\"All\")\n",
    "MyTab2_1 = MyTab2_1.drop(index=\"All\")\n",
    "MyTab2_1['All'] = MyTab2_1.apply(lambda x: x.sum(), axis=1)\n",
    "MyTab2_1= MyTab2_1.div(MyTab2_1[\"All\"], axis=0)\n",
    "MyTab2_EPI = MyTab2_1.drop(columns=\"All\")\n",
    "MyTab2_EPI\n",
    "\n",
    "categories = ['3-LI','2-Ileum','1-Pro_SI']\n",
    "\n",
    "MyTab2_EPI.columns = pd.CategoricalIndex(MyTab2_EPI.columns.values, \n",
    "                                 ordered=True, \n",
    "                                 categories=categories)\n",
    "\n",
    "# Sort the columns (axis=1) by the new categorical ordering\n",
    "MyTab2_EPI = MyTab2_EPI.sort_index(axis=1)\n",
    "\n",
    "ax = MyTab2_EPI.plot.bar(\n",
    "            figsize=(10,6),\n",
    "            stacked=True, \n",
    "            edgecolor = '#000000',\n",
    "            linewidth=0.5,\n",
    "            width=0.8, \n",
    "            fontsize=15,\n",
    "            color={\"1-Pro_SI\": \"#393b79\",\"2-Ileum\": \"#8ca252\",\"3-LI\": \"#e7ba52\"}\n",
    "             )\n",
    "\n",
    "\n",
    "plt.title(\"\", fontsize=12)\n",
    "plt.ylabel(\"Fraction of cells\", fontsize=15)\n",
    "plt.xlabel(\"\", fontsize=15)\n",
    "plt.ylim=1.0\n",
    "\n",
    "#plt.gca().get_legend().remove() #remove legend\n",
    "# plt.legend(categories, loc='center left', bbox_to_anchor=(1, 0.6), fontsize=12)\n",
    "# plt.savefig('Proportion of clusters accross organs.png')\n",
    "# 去除刻度\n",
    "plt.xticks([])\n",
    "plt.yticks([])\n",
    "# ax.tick_params(bottom=False, top=False, left=False, right=False)\n",
    "handles, labels = ax.get_legend_handles_labels()\n",
    "ax.legend(reversed(handles), reversed(labels), loc='center left', bbox_to_anchor=(1, 0.6), fontsize=12)\n",
    "\n",
    "plt.show()"
   ]
  },
  {
   "cell_type": "code",
   "execution_count": null,
   "id": "stuffed-provider",
   "metadata": {},
   "outputs": [],
   "source": [
    "Groups_tab_1 = pd.crosstab(index=adata.obs['cluster_figure1A'],  # Make a crosstab\n",
    "                        columns=adata.obs['organ_name'], margins=True)               # Name the count column\n",
    "\n",
    "MyTab_1= Groups_tab_1.div(Groups_tab_1.iloc[-1], axis=1)\n",
    "MyTab2_1 = MyTab_1.drop(columns=\"All\")\n",
    "MyTab2_1 = MyTab2_1.drop(index=\"All\")\n",
    "MyTab2_1['All'] = MyTab2_1.apply(lambda x: x.sum(), axis=1)\n",
    "MyTab2_1= MyTab2_1.div(MyTab2_1[\"All\"], axis=0)\n",
    "MyTab2_EPI = MyTab2_1.drop(columns=\"All\")\n",
    "MyTab2_EPI\n",
    "\n",
    "categories = ['3-LI','2-Ileum','1-Pro_SI']\n",
    "\n",
    "MyTab2_EPI.columns = pd.CategoricalIndex(MyTab2_EPI.columns.values, \n",
    "                                 ordered=True, \n",
    "                                 categories=categories)\n",
    "\n",
    "# Sort the columns (axis=1) by the new categorical ordering\n",
    "MyTab2_EPI = MyTab2_EPI.sort_index(axis=1)\n",
    "\n",
    "ax = MyTab2_EPI.plot.bar(\n",
    "            figsize=(10,6),\n",
    "            stacked=True, \n",
    "            edgecolor = '#000000',\n",
    "            linewidth=0.5,\n",
    "            width=0.8, \n",
    "            fontsize=15,\n",
    "            # color={\"1-Pro_SI\": \"#393b79\",\"2-Ileum\": \"#8ca252\",\"3-LI\": \"#e7ba52\"}\n",
    "             )\n",
    "\n",
    "\n",
    "plt.title(\"\", fontsize=12)\n",
    "plt.ylabel(\"Fraction of cells\", fontsize=15)\n",
    "plt.xlabel(\"\", fontsize=15)\n",
    "plt.ylim=1.0\n",
    "\n",
    "#plt.gca().get_legend().remove() #remove legend\n",
    "# plt.legend(categories, loc='center left', bbox_to_anchor=(1, 0.6), fontsize=12)\n",
    "# plt.savefig('Proportion of clusters accross organs.png')\n",
    "# 去除刻度\n",
    "# plt.xticks([])\n",
    "#plt.yticks([])\n",
    "# ax.tick_params(bottom=False, top=False, left=False, right=False)\n",
    "handles, labels = ax.get_legend_handles_labels()\n",
    "ax.legend(reversed(handles), reversed(labels), loc='center left', bbox_to_anchor=(1, 0.6), fontsize=12)\n",
    "\n",
    "plt.show()"
   ]
  },
  {
   "cell_type": "code",
   "execution_count": null,
   "id": "going-delight",
   "metadata": {},
   "outputs": [],
   "source": [
    "markers = ['DEFA5','DEFA6','PLA2G2A','ITLN2','REG3G','REG3A','NR1H4','NR1H3','VDR']\n",
    "categories_order = ['Duodenum','Jejunum','Ileum','Colon']"
   ]
  },
  {
   "cell_type": "code",
   "execution_count": null,
   "id": "mediterranean-attention",
   "metadata": {},
   "outputs": [],
   "source": [
    "    mp = sc.pl.matrixplot(adata, \n",
    "                     markers, \n",
    "                     groupby='organ', \n",
    "                     dendrogram=False, \n",
    "                     return_fig=True,\n",
    "                     cmap='bwr',\n",
    "                     categories_order = categories_order,\n",
    "                     standard_scale='var'\n",
    "                    )\n",
    "    mp.style(edge_color='white',cmap = 'RdYlBu_r',edge_lw=1.0).show()"
   ]
  },
  {
   "cell_type": "code",
   "execution_count": null,
   "id": "becoming-appeal",
   "metadata": {},
   "outputs": [],
   "source": [
    "adata = sc.read('/mnt/data/Project2021/Gut_immune_surveillance/data/h5ad/T_ILCs_after_born_harmony_annoation.h5ad')\n",
    "obs_index = adata.obs.loc[adata.obs[\"organ\"].isin(['Ileum']), :].index\n",
    "adata = adata[obs_index, :]\n",
    "adata"
   ]
  },
  {
   "cell_type": "code",
   "execution_count": null,
   "id": "together-hanging",
   "metadata": {},
   "outputs": [],
   "source": [
    "adata = sc.AnnData(X=adata.raw.X, var=adata.raw.var, obs = adata.obs)\n",
    "adata"
   ]
  },
  {
   "cell_type": "code",
   "execution_count": null,
   "id": "starting-republic",
   "metadata": {},
   "outputs": [],
   "source": [
    "adata_pre_matrix = adata.to_df()\n",
    "adata_pre_matrix.head()"
   ]
  },
  {
   "cell_type": "code",
   "execution_count": null,
   "id": "destroyed-playing",
   "metadata": {},
   "outputs": [],
   "source": [
    "adata_pre_matrix_1 = adata_pre_matrix.loc[:,['DEFA5','DEFA6','REG3A','PLA2G2A','NR1H4','NR1H3','VDR']]\n",
    "adata_pre_matrix_1[\"disease_state\"] = adata.obs[\"disease_state\"]\n",
    "\n",
    "adata_pre_matrix_1 = pd.melt(adata_pre_matrix_1, value_vars=['DEFA5','DEFA6','REG3A','PLA2G2A','NR1H4','NR1H3','VDR'],id_vars = ['disease_state'],\n",
    "             var_name='AMPs', value_name='log2(TP10k+1)')\n",
    "\n",
    "adata_pre_matrix_1"
   ]
  },
  {
   "cell_type": "code",
   "execution_count": null,
   "id": "comfortable-literacy",
   "metadata": {},
   "outputs": [],
   "source": [
    "import seaborn as sns\n",
    "\n",
    "sns.set(style=\"ticks\", \n",
    "        font='Arial', \n",
    "        font_scale=1.0, \n",
    "        rc={'figure.figsize':(3,6)}\n",
    "       )\n",
    "\n",
    "ax = sns.pointplot(x=\"disease_state\", y=\"log2(TP10k+1)\", hue=\"AMPs\",\n",
    "                   data=adata_pre_matrix_1,\n",
    "                   markers=[\"o\", \"o\", \"o\", \"o\", \"s\", \"s\", \"s\"],\n",
    "                   linestyles=[\"-\", \"-\", \"-\", \"-\", \"-\", \"-\", \"-\", \"-\", \"-\"],\n",
    "                   palette = [\"#ff0000\", \"#ff00c3\", \"#ff4d00\", \"#ffd000\",\"#00c3ff\",\"#001aff\",\"#00b359\"],\n",
    "                   order = [\"Healthy\",\"Uninflamed\",\"Inflamed\"],\n",
    "                   capsize=.1,     # 误差帽的粗细\n",
    "                   errwidth = 1.5,  # 误差棒的粗细\n",
    "                   scale = 1.0     # 连线的簇细，默认值为1\n",
    "                  )     \n",
    "\n",
    "## 删除坐标轴标记\n",
    "ax.set(ylabel=\"\")\n",
    "ax.set(xlabel=\"\")\n",
    "\n",
    "# 移除图例\n",
    "# plt.legend([],[], frameon=False)\n",
    "\n",
    "# 删除坐标轴上线和右线，当Trim为真时，删除数据数值范围外的坐标轴\n",
    "sns.despine() # trim=True\n",
    "\n",
    "print(ax.axis())\n",
    "\n",
    "# ax.axis([-0.2, 2.2, 0.023832513266243038, 0.6])"
   ]
  },
  {
   "cell_type": "code",
   "execution_count": null,
   "id": "hawaiian-leonard",
   "metadata": {},
   "outputs": [],
   "source": [
    "adata_pre_matrix_1 = adata_pre_matrix.loc[:,['DEFA5','DEFA6','REG3A','PLA2G2A']]\n",
    "adata_pre_matrix_1[\"disease_state\"] = adata.obs[\"disease_state\"]\n",
    "\n",
    "adata_pre_matrix_1 = pd.melt(adata_pre_matrix_1, value_vars=['DEFA5','DEFA6','REG3A','PLA2G2A'],id_vars = ['disease_state'],\n",
    "             var_name='AMPs', value_name='log2(TP10k+1)')\n",
    "\n",
    "import seaborn as sns\n",
    "\n",
    "sns.set(style=\"ticks\", \n",
    "        font='Arial', \n",
    "        font_scale=1.0, \n",
    "        rc={'figure.figsize':(3,6)}\n",
    "       )\n",
    "\n",
    "ax = sns.pointplot(x=\"disease_state\", y=\"log2(TP10k+1)\", hue=\"AMPs\",\n",
    "                   data=adata_pre_matrix_1,\n",
    "                   markers=[\"o\", \"o\", \"o\", \"o\"],\n",
    "                   linestyles=[\"-\", \"-\", \"-\", \"-\", \"-\"],\n",
    "                   palette = [\"#ff0000\", \"#088722\", \"#001aff\", \"#ffd000\"],\n",
    "                   order = [\"Healthy\",\"Uninflamed\",\"Inflamed\"],\n",
    "                   capsize=.1,     # 误差帽的粗细\n",
    "                   errwidth = 1.5,  # 误差棒的粗细\n",
    "                   scale = 1.0     # 连线的簇细，默认值为1\n",
    "                  )     \n",
    "\n",
    "## 删除坐标轴标记\n",
    "ax.set(ylabel=\"\")\n",
    "ax.set(xlabel=\"\")\n",
    "\n",
    "# 移除图例\n",
    "# plt.legend([],[], frameon=False)\n",
    "\n",
    "# 删除坐标轴上线和右线，当Trim为真时，删除数据数值范围外的坐标轴\n",
    "sns.despine() # trim=True\n",
    "\n",
    "print(ax.axis())\n",
    "\n",
    "# ax.axis([-0.2, 2.2, 0.023832513266243038, 0.6])"
   ]
  },
  {
   "cell_type": "code",
   "execution_count": null,
   "id": "swedish-visiting",
   "metadata": {},
   "outputs": [],
   "source": [
    "adata_pre_matrix_1 = adata_pre_matrix.loc[:,['DEFA5','DEFA6','REG3A','PLA2G2A']]\n",
    "adata_pre_matrix_1[\"disease_state\"] = adata.obs[\"disease_state\"]\n",
    "\n",
    "adata_pre_matrix_1 = pd.melt(adata_pre_matrix_1, value_vars=['DEFA5','DEFA6','REG3A','PLA2G2A'],id_vars = ['disease_state'],\n",
    "             var_name='AMPs', value_name='log2(TP10k+1)')\n",
    "\n",
    "import seaborn as sns\n",
    "\n",
    "sns.set(style=\"ticks\", \n",
    "        font='Arial', \n",
    "        font_scale=1.5, \n",
    "        rc={'figure.figsize':(4.5,6)}\n",
    "       )\n",
    "\n",
    "ax = sns.pointplot(x=\"disease_state\", y=\"log2(TP10k+1)\", hue=\"AMPs\",\n",
    "                   data=adata_pre_matrix_1,\n",
    "                   markers=[\"o\", \"o\", \"o\", \"o\"],\n",
    "                   linestyles=[\"-\", \"-\", \"-\", \"-\", \"-\"],\n",
    "                   palette = [\"#ff0000\", \"#088722\", \"#001aff\", \"#ffd000\"],\n",
    "                   order = [\"Healthy\",\"Uninflamed\",\"Inflamed\"],\n",
    "                   capsize=.1,     # 误差帽的粗细\n",
    "                   errwidth = 1.5,  # 误差棒的粗细\n",
    "                   scale = 1.0     # 连线的簇细，默认值为1\n",
    "                  )     \n",
    "\n",
    "## 删除坐标轴标记\n",
    "ax.set(ylabel=\"\")\n",
    "ax.set(xlabel=\"\")\n",
    "\n",
    "# 移除图例\n",
    "plt.legend([],[], frameon=False)\n",
    "\n",
    "# 删除坐标轴上线和右线，当Trim为真时，删除数据数值范围外的坐标轴\n",
    "sns.despine() # trim=True\n",
    "\n",
    "print(ax.axis())\n",
    "\n",
    "# ax.axis([-0.2, 2.2, 0.023832513266243038, 0.6])"
   ]
  },
  {
   "cell_type": "code",
   "execution_count": null,
   "id": "changing-closer",
   "metadata": {},
   "outputs": [],
   "source": [
    "from statannot import add_stat_annotation\n",
    "\n",
    "def stat_boxplot(df, x, y, box_pairs, order=None, palette=None):\n",
    "    \n",
    "    ## 绘图函数\n",
    "    sns.set(style=\"ticks\", font='Arial', font_scale=1.0, rc={'figure.figsize':(5,2)})\n",
    "    ax = sns.boxplot(data=df, x=x, y=y, order=order, palette=palette)\n",
    "\n",
    "    ## 显著性计算和可视化函数\n",
    "    add_stat_annotation(ax, plot='boxplot', data=df, x=x, y=y, order=order, \n",
    "                        box_pairs=box_pairs, test='t-test_ind', loc='inside', verbose=2)\n",
    "\n",
    "    ## 坐标轴设置\n",
    "    ax.set(ylabel=y)\n",
    "    ax.set(xlabel=\"\")\n",
    "    sns.despine(trim=True, left=True)\n",
    "    plt.grid(False)\n",
    "    plt.show()"
   ]
  },
  {
   "cell_type": "code",
   "execution_count": null,
   "id": "broke-massage",
   "metadata": {},
   "outputs": [],
   "source": [
    "adata = sc.read('/mnt/data/Project2021/Gut_immune_surveillance/data/h5ad/T_ILCs_after_born_harmony_annoation.h5ad')\n",
    "obs_index = adata.obs.loc[adata.obs[\"organ\"].isin(['Ileum']), :].index\n",
    "adata = adata[obs_index, :]\n",
    "\n",
    "adata = sc.AnnData(X=adata.raw.X, var=adata.raw.var, obs = adata.obs)\n",
    "\n",
    "adata_raw_matrix = adata.to_df()\n",
    "adata_raw_matrix.head()"
   ]
  },
  {
   "cell_type": "code",
   "execution_count": null,
   "id": "developing-hostel",
   "metadata": {},
   "outputs": [],
   "source": [
    "adata_raw_matrix['disease_state'] = adata.obs['disease_state']"
   ]
  },
  {
   "cell_type": "code",
   "execution_count": null,
   "id": "scenic-jerusalem",
   "metadata": {},
   "outputs": [],
   "source": [
    "AMPs_list = 'DEFA5 DEFA6 REG3A REG3G PRSS2 GBP1 PLA2G2A LYZ ANG ADM DMBT1 WFDC2 LYPD8 ITLN1 ITLN2 SLPI PI3 DEFB1 RNASE6 CAMP LEAP2 NR1H4 NR1H3 VDR TCF4 TCF7 NFKB1 SOX9'.split(' ')\n",
    "\n",
    "df = adata_raw_matrix\n",
    "\n",
    "box_pairs = [(\"Healthy\", \"Uninflamed\"), \n",
    "             (\"Healthy\", \"Inflamed\"), \n",
    "             (\"Uninflamed\", \"Inflamed\")\n",
    "            ]\n",
    "\n",
    "order=['Healthy','Uninflamed','Inflamed']\n",
    "\n",
    "palette=['#2D306E', '#3B735B', '#CF2E1D']"
   ]
  },
  {
   "cell_type": "code",
   "execution_count": null,
   "id": "binary-diagram",
   "metadata": {
    "scrolled": true
   },
   "outputs": [],
   "source": [
    "import seaborn as sns\n",
    "\n",
    "for i in AMPs_list:\n",
    "    x = \"disease_state\" # 横坐标，表型\n",
    "    y = i   # 纵坐标，基因\n",
    "    stat_boxplot(df=df, x=x, y=y, box_pairs=box_pairs, order=order, palette=palette)"
   ]
  },
  {
   "cell_type": "code",
   "execution_count": null,
   "id": "exciting-communist",
   "metadata": {},
   "outputs": [],
   "source": [
    "adata_raw_matrix_1 = pd.melt(adata_raw_matrix, value_vars=[\"NR1H4\",\"NR1H3\",\"VDR\"],id_vars = ['disease_state'],\n",
    "             var_name='AMPs', value_name='counts')"
   ]
  },
  {
   "cell_type": "code",
   "execution_count": null,
   "id": "productive-audit",
   "metadata": {},
   "outputs": [],
   "source": [
    "import seaborn as sns\n",
    "import matplotlib.pyplot as plt\n",
    "from statannot import add_stat_annotation\n",
    "\n",
    "sns.set_theme(style=\"ticks\",font_scale=1.8)\n",
    "\n",
    "# Initialize the figure with a logarithmic x axis\n",
    "f, ax = plt.subplots(figsize=(7, 4))\n",
    "# ax.set_xscale(\"log\")\n",
    "\n",
    "# Plot the orbital period with horizontal boxes\n",
    "sns.barplot(x='AMPs',y='counts',hue='disease_state',data=adata_raw_matrix_1,\n",
    "            capsize=.1,\n",
    "            errwidth = 1.5,  # 误差棒的粗细\n",
    "            edgecolor=\".2\",\n",
    "            linewidth=1.0,\n",
    "            hue_order = [\"Healthy\",\"Uninflamed\",\"Inflamed\"],\n",
    "            order = [\"NR1H4\",\"NR1H3\",\"VDR\"],\n",
    "            palette=[\"#ffffff\",\"#0d00ff\",\"#ff0000\"]\n",
    "           ) # palette=\"vlag\",字母不需要[]，#开头的颜色需要\n",
    "\n",
    "# add_stat_annotation(ax, plot='barplot', data=adata_pre_matrix_1, x='AMPs', y='counts', hue='treatment',box_pairs=box_pairs, test='t-test_ind', loc='inside', verbose=2)\n",
    "# Add in points to show each observation\n",
    "#sns.stripplot(x='AMPs',y='counts',hue='treatment',data=adata_pre_matrix_1, size=1.5, color=\".3\", linewidth=0)\n",
    "#sns.swarmplot(data=adata_pre_matrix_1, x='AMPs',y='counts',hue='treatment')\n",
    "# Tweak the visual presentation\n",
    "#ax.xaxis.grid(True)\n",
    "plt.legend([],[], frameon=False)\n",
    "sns.despine() # trim=True\n",
    "ax.set(ylabel=\"\",xlabel=\"\")"
   ]
  },
  {
   "cell_type": "code",
   "execution_count": null,
   "id": "hundred-flood",
   "metadata": {},
   "outputs": [],
   "source": [
    "adata_raw_matrix_1 = pd.melt(adata_raw_matrix, value_vars=[\"LYZ\",\"LCN2\",\"CCL20\"],id_vars = ['disease_state'],\n",
    "             var_name='AMPs', value_name='counts')\n",
    "\n",
    "import seaborn as sns\n",
    "import matplotlib.pyplot as plt\n",
    "from statannot import add_stat_annotation\n",
    "\n",
    "sns.set_theme(style=\"ticks\",font_scale=1.8)\n",
    "\n",
    "# Initialize the figure with a logarithmic x axis\n",
    "f, ax = plt.subplots(figsize=(7, 4))\n",
    "# ax.set_xscale(\"log\")\n",
    "\n",
    "# Plot the orbital period with horizontal boxes\n",
    "sns.barplot(x='AMPs',y='counts',hue='disease_state',data=adata_raw_matrix_1,\n",
    "            capsize=.1,\n",
    "            errwidth = 1.5,  # 误差棒的粗细\n",
    "            edgecolor=\".2\",\n",
    "            linewidth=1.0,\n",
    "            hue_order = [\"Healthy\",\"Uninflamed\",\"Inflamed\"],\n",
    "            order = [\"LYZ\",\"LCN2\",\"CCL20\"],\n",
    "            palette=[\"#ffffff\",\"#0d00ff\",\"#ff0000\"]\n",
    "           ) # palette=\"vlag\",字母不需要[]，#开头的颜色需要\n",
    "\n",
    "# add_stat_annotation(ax, plot='barplot', data=adata_pre_matrix_1, x='AMPs', y='counts', hue='treatment',box_pairs=box_pairs, test='t-test_ind', loc='inside', verbose=2)\n",
    "# Add in points to show each observation\n",
    "#sns.stripplot(x='AMPs',y='counts',hue='treatment',data=adata_pre_matrix_1, size=1.5, color=\".3\", linewidth=0)\n",
    "#sns.swarmplot(data=adata_pre_matrix_1, x='AMPs',y='counts',hue='treatment')\n",
    "# Tweak the visual presentation\n",
    "#ax.xaxis.grid(True)\n",
    "plt.legend([],[], frameon=False)\n",
    "sns.despine() # trim=True\n",
    "ax.set(ylabel=\"\",xlabel=\"\")"
   ]
  },
  {
   "cell_type": "code",
   "execution_count": null,
   "id": "christian-tolerance",
   "metadata": {},
   "outputs": [],
   "source": [
    "adata_pre_matrix_1 = adata_pre_matrix.loc[:,['NR1H4','NR1H3','VDR']]\n",
    "adata_pre_matrix_1[\"disease_state\"] = adata.obs[\"disease_state\"]\n",
    "\n",
    "adata_pre_matrix_1 = pd.melt(adata_pre_matrix_1, value_vars=['NR1H4','NR1H3','VDR'],id_vars = ['disease_state'],\n",
    "             var_name='AMPs', value_name='log2(TP10k+1)')\n",
    "\n",
    "import seaborn as sns\n",
    "\n",
    "sns.set(style=\"ticks\", \n",
    "        font='Arial', \n",
    "        font_scale=1.0, \n",
    "        rc={'figure.figsize':(3,6)}\n",
    "       )\n",
    "\n",
    "ax = sns.pointplot(x=\"disease_state\", y=\"log2(TP10k+1)\", hue=\"AMPs\",\n",
    "                   data=adata_pre_matrix_1,\n",
    "                   markers=[\"s\", \"s\", \"s\"],\n",
    "                   linestyles=[\"-\", \"-\", \"-\"],\n",
    "                   palette = [\"#00c3ff\",\"#001aff\",\"#00b359\"],\n",
    "                   order = [\"Healthy\",\"Uninflamed\",\"Inflamed\"],\n",
    "                   capsize=.1,     # 误差帽的粗细\n",
    "                   errwidth = 1.5,  # 误差棒的粗细\n",
    "                   scale = 1.0     # 连线的簇细，默认值为1\n",
    "                  )     \n",
    "\n",
    "## 删除坐标轴标记\n",
    "ax.set(ylabel=\"\")\n",
    "ax.set(xlabel=\"\")\n",
    "\n",
    "# 移除图例\n",
    "# plt.legend([],[], frameon=False)\n",
    "\n",
    "# 删除坐标轴上线和右线，当Trim为真时，删除数据数值范围外的坐标轴\n",
    "sns.despine() # trim=True\n",
    "\n",
    "print(ax.axis())\n",
    "\n",
    "# ax.axis([-0.2, 2.2, 0.023832513266243038, 0.6])"
   ]
  },
  {
   "cell_type": "markdown",
   "id": "activated-scheme",
   "metadata": {},
   "source": [
    "# B cells"
   ]
  },
  {
   "cell_type": "code",
   "execution_count": null,
   "id": "indirect-blink",
   "metadata": {},
   "outputs": [],
   "source": [
    "adata = sc.read('/mnt/data/Project2021/Gut_immune_surveillance/data/h5ad/B_after_born_harmony_annoation.h5ad')"
   ]
  },
  {
   "cell_type": "code",
   "execution_count": null,
   "id": "specialized-domain",
   "metadata": {},
   "outputs": [],
   "source": [
    "adata"
   ]
  },
  {
   "cell_type": "code",
   "execution_count": null,
   "id": "absolute-fault",
   "metadata": {},
   "outputs": [],
   "source": [
    "from matplotlib import cm, colors\n",
    "\n",
    "sc.settings.set_figure_params(dpi=400, figsize = (4, 3), fontsize=12)\n",
    "\n",
    "colors2 = plt.cm.jet(np.linspace(0, 1, 128))\n",
    "colors3 = plt.cm.Greys_r(np.linspace(0.7,0.8,20))\n",
    "colorsComb = np.vstack([colors3, colors2])\n",
    "mymap = colors.LinearSegmentedColormap.from_list('my_colormap', colorsComb)\n",
    "\n",
    "sc.pl.umap(adata, color=['DEFA5','DEFA6','REG3A','PLA2G2A'], add_outline=False, frameon=False,size = 1.8, color_map = mymap,)\n",
    "sc.pl.umap(adata, color=['CD79A','IGHA1','REG3G','LYZ'], add_outline=False, frameon=False,size = 1.8, color_map = mymap,)\n",
    "sc.pl.umap(adata, color=['NR1H4','NR1H3','VDR','NR1I3'], add_outline=False, frameon=False,size = 1.8, color_map = mymap,)\n",
    "sc.pl.umap(adata, color=['KRT18','CAMP','MUC2','FABP6'], add_outline=False, frameon=False,size = 1.8, color_map = mymap,)"
   ]
  },
  {
   "cell_type": "code",
   "execution_count": null,
   "id": "sublime-scout",
   "metadata": {},
   "outputs": [],
   "source": [
    "colors2 = plt.cm.Greys_r(np.linspace(0.7,0.8, 128))\n",
    "colors3 = plt.cm.Greys_r(np.linspace(0.7,0.8,30))\n",
    "colorsComb = np.vstack([colors3, colors2])\n",
    "mymap = colors.LinearSegmentedColormap.from_list('my_colormap', colorsComb)\n",
    "sc.pl.umap(adata, color=['EPCAM','KRT8'], add_outline=False, frameon=False,size = 1.8, color_map = mymap,)"
   ]
  },
  {
   "cell_type": "code",
   "execution_count": null,
   "id": "surface-symphony",
   "metadata": {},
   "outputs": [],
   "source": [
    "sc.settings.set_figure_params(dpi=600, figsize = (4, 3), fontsize=7)\n",
    "sc.pl.umap(adata, color=['cluster_figure1A'], add_outline=True,\n",
    "           palette=sc.pl.palettes.vega_20_scanpy, outline_width = (0.2, 0.05), frameon=False, title = '')"
   ]
  }
 ],
 "metadata": {
  "kernelspec": {
   "display_name": "Python [conda env:singlecell] *",
   "language": "python",
   "name": "conda-env-singlecell-py"
  },
  "language_info": {
   "codemirror_mode": {
    "name": "ipython",
    "version": 3
   },
   "file_extension": ".py",
   "mimetype": "text/x-python",
   "name": "python",
   "nbconvert_exporter": "python",
   "pygments_lexer": "ipython3",
   "version": "3.7.10"
  },
  "toc": {
   "base_numbering": 1,
   "nav_menu": {},
   "number_sections": true,
   "sideBar": true,
   "skip_h1_title": false,
   "title_cell": "Table of Contents",
   "title_sidebar": "Contents",
   "toc_cell": false,
   "toc_position": {
    "height": "calc(100% - 180px)",
    "left": "10px",
    "top": "150px",
    "width": "165px"
   },
   "toc_section_display": true,
   "toc_window_display": true
  }
 },
 "nbformat": 4,
 "nbformat_minor": 5
}
