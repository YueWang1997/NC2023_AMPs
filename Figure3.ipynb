{
 "cells": [
  {
   "cell_type": "code",
   "execution_count": null,
   "id": "aerial-pressing",
   "metadata": {},
   "outputs": [],
   "source": [
    "#!/usr/bin/env python\n",
    "# -*- coding: utf-8 -*-\n",
    "import numpy as np\n",
    "import pandas as pd\n",
    "import scanpy as sc\n",
    "import anndata\n",
    "import bbknn\n",
    "import os\n",
    "from scipy import sparse\n",
    "import matplotlib.pyplot as plt\n",
    "# from scanpy_base_moudle_update2 import *\n",
    "# import scrublet as scr\n",
    "import datetime\n",
    "import harmonypy as hm\n",
    "\n",
    "sc.settings.verbosity = 3\n",
    "#sc.logging.print_versions()\n",
    "# 设置图片的分辨率以及其他样式\n",
    "sc.settings.set_figure_params(dpi=150, figsize = (4, 3), fontsize=12)\n",
    "\n",
    "import matplotlib.font_manager\n",
    "flist = matplotlib.font_manager.get_fontconfig_fonts()\n",
    "names = [matplotlib.font_manager.FontProperties(fname=fname).get_name() for fname in flist]\n",
    "print(names)\n",
    "\n",
    "params={\n",
    "        'font.style':'italic',\n",
    "        'font.weight':'normal',    #or 'blod'\n",
    "        }\n",
    "plt.rcParams.update(params)\n",
    "\n",
    "plt.rcParams['font.family']='Arial'"
   ]
  },
  {
   "cell_type": "markdown",
   "id": "recent-wales",
   "metadata": {},
   "source": [
    "# 数据准备"
   ]
  },
  {
   "cell_type": "markdown",
   "id": "attached-timeline",
   "metadata": {},
   "source": [
    "## DEG"
   ]
  },
  {
   "cell_type": "markdown",
   "id": "dimensional-credits",
   "metadata": {},
   "source": [
    "### 计算区域间差异"
   ]
  },
  {
   "cell_type": "code",
   "execution_count": null,
   "id": "removable-quantity",
   "metadata": {},
   "outputs": [],
   "source": [
    "adata = sc.read('/mnt/data/Project2021/Gut_immune_surveillance/data/h5ad_Figure/Human/Epithelium/Postnatal/human_postnatal_epi_ann.h5ad')\n",
    "adata = sc.AnnData(X=adata.raw.X, var=adata.raw.var, obs = adata.obs)\n",
    "obs_index = adata.obs.loc[adata.obs[\"health\"].isin(['Normal']), :].index\n",
    "adata = adata[obs_index, :]\n",
    "obs_index = adata.obs.loc[adata.obs[\"ann_for_cpdb\"].isin(['APOA1+Enterocytes','CA1+Enterocytes']), :].index\n",
    "adata = adata[obs_index, :]\n",
    "\n",
    "adata_list = []"
   ]
  },
  {
   "cell_type": "code",
   "execution_count": null,
   "id": "drawn-trash",
   "metadata": {},
   "outputs": [],
   "source": [
    "    for j in list(adata.obs['pan_organ'].cat.categories):\n",
    "        \n",
    "        print(j + ' is being processed ...')\n",
    "        single_index = adata.obs.loc[adata.obs['pan_organ'].isin([j]), :].index\n",
    "        adata_single = adata[single_index,:]\n",
    "\n",
    "        print('The number of '+ j + ' is '+ str(len(adata_single.obs.index)))\n",
    "        if len(adata_single.obs.index) > 5000:\n",
    "            # 设置随机筛选10000个细胞，设置随机种子为1\n",
    "            sc.pp.subsample(adata_single, n_obs=5000, random_state=1, copy=False)\n",
    "        else:\n",
    "            adata_single = adata_single\n",
    "            \n",
    "        adata_list.append(adata_single)"
   ]
  },
  {
   "cell_type": "code",
   "execution_count": null,
   "id": "lasting-component",
   "metadata": {},
   "outputs": [],
   "source": [
    "def change_obs_index_v2(x):\n",
    "    \"\"\"\n",
    "    该函数用于修正concatenate样本或数据集后变更的barcodes名。\n",
    "    \"\"\"  \n",
    "    x = x[:-4]\n",
    "    return x\n",
    "\n",
    "\n",
    "# batch_list单个数据集的样本数限制在999以下时适用，此步骤是因为Anndata的concatenate函数会自动在barcode name尾部一个批次编号，\n",
    "# 在这里设置格式化的编号以便删除。\n",
    "batch_list = []\n",
    "for i in range(len(adata_list)):\n",
    "    if i+1 < 10:\n",
    "        j = '00'+ str(i+1)\n",
    "    elif i+1 < 100:\n",
    "        j = '0'+ str(i+1)\n",
    "    else: \n",
    "        j = str(i+1)\n",
    "    batch_list.append(j)\n",
    "    \n",
    "adata_concat = adata_list[0].concatenate(adata_list[1:len(batch_list)],join='outer', batch_categories=batch_list)\n",
    "# 删除barcode name的尾部编号\n",
    "adata_concat.obs.rename(index=change_obs_index_v2,inplace=True)\n",
    "adata_concat"
   ]
  },
  {
   "cell_type": "code",
   "execution_count": null,
   "id": "affected-bottle",
   "metadata": {},
   "outputs": [],
   "source": [
    "DEG_ann_list = []\n",
    "for i in list(adata_concat.obs['pan_organ']):\n",
    "    if i == 'Duo-Jej':\n",
    "        j = '1-Proximal_SI'\n",
    "    elif i == 'Ileum':\n",
    "        j = '2-Distal_SI'\n",
    "    elif i == 'App-Col-Rec':\n",
    "        j = '3-LI'\n",
    "        \n",
    "    DEG_ann_list.append(j)\n",
    "    \n",
    "adata_concat.obs['ann_for_DEG'] = DEG_ann_list"
   ]
  },
  {
   "cell_type": "code",
   "execution_count": null,
   "id": "advised-doubt",
   "metadata": {},
   "outputs": [],
   "source": [
    "sc.tl.rank_genes_groups(adata_concat, \n",
    "                        groupby = 'ann_for_DEG',\n",
    "                        method='wilcoxon')"
   ]
  },
  {
   "cell_type": "code",
   "execution_count": null,
   "id": "careful-reward",
   "metadata": {},
   "outputs": [],
   "source": [
    "help(sc.pl.rank_genes_groups_heatmap)"
   ]
  },
  {
   "cell_type": "code",
   "execution_count": null,
   "id": "postal-creek",
   "metadata": {},
   "outputs": [],
   "source": [
    "sc.settings.set_figure_params(dpi=150, fontsize=7)\n",
    "sc.pl.rank_genes_groups_heatmap(adata_concat,\n",
    "                                n_genes=25,\n",
    "                                groupby='ann_for_DEG',\n",
    "                                min_logfoldchange=1, \n",
    "                                show_gene_labels = True,\n",
    "                                dendrogram = False,\n",
    "                                cmap='RdYlBu_r',\n",
    "                                figsize = (3,7.5),\n",
    "                                # standard_scale='var',\n",
    "                                swap_axes = True\n",
    "                               )"
   ]
  },
  {
   "cell_type": "markdown",
   "id": "adjustable-panic",
   "metadata": {},
   "source": [
    "### 获取每个区域显著差异上调的基因数"
   ]
  },
  {
   "cell_type": "markdown",
   "id": "bizarre-relevance",
   "metadata": {},
   "source": [
    "**Proximal SI**"
   ]
  },
  {
   "cell_type": "code",
   "execution_count": null,
   "id": "difficult-embassy",
   "metadata": {},
   "outputs": [],
   "source": [
    "result_DEG = sc.get.rank_genes_groups_df(adata_concat,group=\"1-Proximal_SI\")\n",
    "result_DEG"
   ]
  },
  {
   "cell_type": "code",
   "execution_count": null,
   "id": "aggregate-glasgow",
   "metadata": {},
   "outputs": [],
   "source": [
    "gene_list = []\n",
    "for i in list(result_DEG.index):\n",
    "    # log2FC<=1 and pvalue<0.01\n",
    "    if (result_DEG.iloc[i,2]>=1 and result_DEG.iloc[i,4]<=1e-2):\n",
    "        gene_list.append(result_DEG.iloc[i,0])\n",
    "len(gene_list)"
   ]
  },
  {
   "cell_type": "code",
   "execution_count": null,
   "id": "olive-potter",
   "metadata": {},
   "outputs": [],
   "source": [
    "result_DEG_1 = result_DEG.set_index('names').loc[gene_list,:]\n",
    "result_DEG_1"
   ]
  },
  {
   "cell_type": "code",
   "execution_count": null,
   "id": "wrong-baseline",
   "metadata": {},
   "outputs": [],
   "source": [
    "result_DEG_1.to_csv('/mnt/data/Project2021/Gut_immune_surveillance/outputs/duodenum_up_enterocytes.csv')"
   ]
  },
  {
   "cell_type": "markdown",
   "id": "earlier-laugh",
   "metadata": {},
   "source": [
    "**Distal SI**"
   ]
  },
  {
   "cell_type": "code",
   "execution_count": null,
   "id": "distant-budget",
   "metadata": {},
   "outputs": [],
   "source": [
    "result_DEG = sc.get.rank_genes_groups_df(adata_concat,group=\"2-Distal_SI\")\n",
    "\n",
    "gene_list = []\n",
    "for i in list(result_DEG.index):\n",
    "    # log2FC<=1 and pvalue<0.01\n",
    "    if (result_DEG.iloc[i,2]>=1 and result_DEG.iloc[i,4]<=1e-2):\n",
    "        gene_list.append(result_DEG.iloc[i,0])\n",
    "print(len(gene_list))\n",
    "\n",
    "result_DEG_1 = result_DEG.set_index('names').loc[gene_list,:]\n",
    "result_DEG_1.to_csv('/mnt/data/Project2021/Gut_immune_surveillance/outputs/Ileum_up_enterocytes.csv')"
   ]
  },
  {
   "cell_type": "markdown",
   "id": "parallel-final",
   "metadata": {},
   "source": [
    "**Colorectum**"
   ]
  },
  {
   "cell_type": "code",
   "execution_count": null,
   "id": "absent-scroll",
   "metadata": {},
   "outputs": [],
   "source": [
    "result_DEG = sc.get.rank_genes_groups_df(adata_concat,group=\"3-LI\")\n",
    "\n",
    "gene_list = []\n",
    "for i in list(result_DEG.index):\n",
    "    # log2FC<=1 and pvalue<0.01\n",
    "    if (result_DEG.iloc[i,2]>=1 and result_DEG.iloc[i,4]<=1e-2):\n",
    "        gene_list.append(result_DEG.iloc[i,0])\n",
    "print(len(gene_list))\n",
    "\n",
    "result_DEG_1 = result_DEG.set_index('names').loc[gene_list,:]\n",
    "result_DEG_1.to_csv('/mnt/data/Project2021/Gut_immune_surveillance/outputs/LI_up_enterocytes.csv')"
   ]
  },
  {
   "cell_type": "markdown",
   "id": "linear-cemetery",
   "metadata": {},
   "source": [
    "## DEG-Regional Celltype"
   ]
  },
  {
   "cell_type": "markdown",
   "id": "specific-patch",
   "metadata": {},
   "source": [
    "（1）分区域，每个区域随机抽取20000细胞（不足则为所有）;\n",
    "\n",
    "（2）对任一区域，建立在adata.obs中建立DEG_ann对象，将APOA1+Enterocytes、CA1+Enterocytes、Immature enterocytes合并为Enterocytes；其余细胞谱系合并为Non-enterocytes;\n",
    "\n",
    "（3）对DEG_ann进行差异表达分析，获取该轮循环的区域的Enterocytes相比于其他所有上皮谱系显著上调的基因列表（for Venn）、获取每个基因的差异倍数（for Figure3Aii）；\n",
    "\n",
    "（4）对该基因列表与所在区域成熟的吸收系肠细胞与其他区域的成熟吸收系肠细胞的差异上调基因进行Venn（Figure3Aiii）；"
   ]
  },
  {
   "cell_type": "code",
   "execution_count": null,
   "id": "challenging-master",
   "metadata": {},
   "outputs": [],
   "source": [
    "adata = sc.read('/mnt/data/Project2021/Gut_immune_surveillance/data/h5ad_Figure/Human/Epithelium/Postnatal/human_postnatal_epi_ann.h5ad')\n",
    "adata = sc.AnnData(X=adata.raw.X, var=adata.raw.var, obs = adata.obs)\n",
    "obs_index = adata.obs.loc[adata.obs[\"health\"].isin(['Normal']), :].index\n",
    "adata = adata[obs_index, :]\n",
    "adata"
   ]
  },
  {
   "cell_type": "markdown",
   "id": "anonymous-nirvana",
   "metadata": {},
   "source": [
    "**分区域，每个区域随机抽取20000细胞**"
   ]
  },
  {
   "cell_type": "code",
   "execution_count": null,
   "id": "based-surfing",
   "metadata": {},
   "outputs": [],
   "source": [
    "Groups_tab_1 = pd.crosstab(index=adata.obs['pan_organ'],  # Make a crosstab\n",
    "                columns=adata.obs['pan_organ'], margins=True)  # Name the count column\n",
    "Groups_tab_1"
   ]
  },
  {
   "cell_type": "code",
   "execution_count": null,
   "id": "olympic-innocent",
   "metadata": {},
   "outputs": [],
   "source": [
    "adata_list = []\n",
    "\n",
    "for j in list(adata.obs['pan_organ'].cat.categories):\n",
    "        \n",
    "    print(j + ' is being processed ...')\n",
    "    single_index = adata.obs.loc[adata.obs['pan_organ'].isin([j]), :].index\n",
    "    adata_single = adata[single_index,:]\n",
    "\n",
    "    print('The number of '+ j + ' is '+ str(len(adata_single.obs.index)))\n",
    "    if len(adata_single.obs.index) > 20000:\n",
    "        # 设置随机筛选10000个细胞，设置随机种子为1\n",
    "        sc.pp.subsample(adata_single, n_obs=20000, random_state=1, copy=False)\n",
    "    else:\n",
    "        adata_single = adata_single\n",
    "            \n",
    "    adata_list.append(adata_single)"
   ]
  },
  {
   "cell_type": "code",
   "execution_count": null,
   "id": "invisible-austin",
   "metadata": {},
   "outputs": [],
   "source": [
    "def change_obs_index_v2(x):\n",
    "    \"\"\"\n",
    "    该函数用于修正concatenate样本或数据集后变更的barcodes名。\n",
    "    \"\"\"  \n",
    "    x = x[:-4]\n",
    "    return x\n",
    "\n",
    "\n",
    "# batch_list单个数据集的样本数限制在999以下时适用，此步骤是因为Anndata的concatenate函数会自动在barcode name尾部一个批次编号，\n",
    "# 在这里设置格式化的编号以便删除。\n",
    "batch_list = []\n",
    "for i in range(len(adata_list)):\n",
    "    if i+1 < 10:\n",
    "        j = '00'+ str(i+1)\n",
    "    elif i+1 < 100:\n",
    "        j = '0'+ str(i+1)\n",
    "    else: \n",
    "        j = str(i+1)\n",
    "    batch_list.append(j)\n",
    "    \n",
    "adata_concat = adata_list[0].concatenate(adata_list[1:len(batch_list)],join='outer', batch_categories=batch_list)\n",
    "# 删除barcode name的尾部编号\n",
    "adata_concat.obs.rename(index=change_obs_index_v2,inplace=True)\n",
    "adata_concat"
   ]
  },
  {
   "cell_type": "markdown",
   "id": "hairy-duration",
   "metadata": {},
   "source": [
    "**细胞类型合并**"
   ]
  },
  {
   "cell_type": "code",
   "execution_count": null,
   "id": "adjustable-observer",
   "metadata": {},
   "outputs": [],
   "source": [
    "adata_concat.obs['ann_for_cpdb'] = adata_concat.obs['ann_for_cpdb'].astype('category')\n",
    "adata_concat.obs['ann_for_cpdb'].cat.categories"
   ]
  },
  {
   "cell_type": "code",
   "execution_count": null,
   "id": "naval-radio",
   "metadata": {},
   "outputs": [],
   "source": [
    "DEG_ann_list = []\n",
    "for i in list(adata_concat.obs['ann_for_cpdb']):\n",
    "    if i in ['APOA1+Enterocytes','CA1+Enterocytes','Immature enterocytes']:\n",
    "        j = 'Enterocytes'\n",
    "    else:\n",
    "        j = 'Non-enterocytes'\n",
    "        \n",
    "    DEG_ann_list.append(j)\n",
    "    \n",
    "adata_concat.obs['ann_for_DEG'] = DEG_ann_list\n",
    "adata_concat"
   ]
  },
  {
   "cell_type": "code",
   "execution_count": null,
   "id": "catholic-pierre",
   "metadata": {},
   "outputs": [],
   "source": [
    "adata_concat.obs['pan_organ'] = adata_concat.obs['pan_organ'].astype('category')\n",
    "adata_concat.obs['pan_organ'].cat.categories"
   ]
  },
  {
   "cell_type": "markdown",
   "id": "christian-computer",
   "metadata": {},
   "source": [
    "**分区域用DEG_ann进行差异表达分析**"
   ]
  },
  {
   "cell_type": "code",
   "execution_count": null,
   "id": "respective-yahoo",
   "metadata": {},
   "outputs": [],
   "source": [
    "for i in list(adata_concat.obs['pan_organ'].cat.categories):\n",
    "    print(i + ' is being processed ...')\n",
    "    single_index = adata_concat.obs.loc[adata_concat.obs['pan_organ'].isin([i]), :].index\n",
    "    adata_organ = adata_concat[single_index,:]\n",
    "    \n",
    "    sc.tl.rank_genes_groups(adata_organ, \n",
    "                        groupby = 'ann_for_DEG',\n",
    "                        method='wilcoxon')\n",
    "    \n",
    "    result_DEG = sc.get.rank_genes_groups_df(adata_organ,group=\"Enterocytes\")\n",
    "    result_DEG.to_csv('/mnt/data/Project2021/Gut_immune_surveillance/outputs/'+ 'DEG_' + i + '.csv')"
   ]
  },
  {
   "cell_type": "markdown",
   "id": "hollywood-beads",
   "metadata": {},
   "source": [
    "## KEGG"
   ]
  },
  {
   "cell_type": "code",
   "execution_count": null,
   "id": "material-excess",
   "metadata": {},
   "outputs": [],
   "source": [
    "adata = sc.read('/mnt/data/Project2021/Gut_immune_surveillance/data/h5ad_Figure/Human/Epithelium/Postnatal/human_postnatal_epi_ann.h5ad')\n",
    "adata = sc.AnnData(X=adata.raw.X, var=adata.raw.var, obs = adata.obs)\n",
    "obs_index = adata.obs.loc[adata.obs[\"health\"].isin(['Normal']), :].index\n",
    "adata = adata[obs_index, :]\n",
    "obs_index = adata.obs.loc[adata.obs[\"ann_for_cpdb\"].isin(['APOA1+Enterocytes','CA1+Enterocytes']), :].index\n",
    "adata = adata[obs_index, :]"
   ]
  },
  {
   "cell_type": "code",
   "execution_count": null,
   "id": "rubber-queen",
   "metadata": {},
   "outputs": [],
   "source": [
    "adata_list = []"
   ]
  },
  {
   "cell_type": "code",
   "execution_count": null,
   "id": "judicial-vacuum",
   "metadata": {},
   "outputs": [],
   "source": [
    "    for j in list(adata.obs['organ'].cat.categories):\n",
    "        \n",
    "        print(j + ' is being processed ...')\n",
    "        single_index = adata.obs.loc[adata.obs['organ'].isin([j]), :].index\n",
    "        adata_single = adata[single_index,:]\n",
    "\n",
    "        print('The number of '+ j + ' is '+ str(len(adata_single.obs.index)))\n",
    "        if len(adata_single.obs.index) > 2000:\n",
    "            # 设置随机筛选10000个细胞，设置随机种子为1\n",
    "            sc.pp.subsample(adata_single, n_obs=2000, random_state=1, copy=False)\n",
    "        else:\n",
    "            adata_single = adata_single\n",
    "            \n",
    "        adata_list.append(adata_single)"
   ]
  },
  {
   "cell_type": "code",
   "execution_count": null,
   "id": "academic-basketball",
   "metadata": {},
   "outputs": [],
   "source": [
    "def change_obs_index_v2(x):\n",
    "    \"\"\"\n",
    "    该函数用于修正concatenate样本或数据集后变更的barcodes名。\n",
    "    \"\"\"  \n",
    "    x = x[:-4]\n",
    "    return x\n",
    "\n",
    "\n",
    "# batch_list单个数据集的样本数限制在999以下时适用，此步骤是因为Anndata的concatenate函数会自动在barcode name尾部一个批次编号，\n",
    "# 在这里设置格式化的编号以便删除。\n",
    "batch_list = []\n",
    "for i in range(len(adata_list)):\n",
    "    if i+1 < 10:\n",
    "        j = '00'+ str(i+1)\n",
    "    elif i+1 < 100:\n",
    "        j = '0'+ str(i+1)\n",
    "    else: \n",
    "        j = str(i+1)\n",
    "    batch_list.append(j)\n",
    "    \n",
    "adata_concat = adata_list[0].concatenate(adata_list[1:len(batch_list)],join='outer', batch_categories=batch_list)\n",
    "# 删除barcode name的尾部编号\n",
    "adata_concat.obs.rename(index=change_obs_index_v2,inplace=True)\n",
    "adata_concat"
   ]
  },
  {
   "cell_type": "code",
   "execution_count": null,
   "id": "forced-tobacco",
   "metadata": {},
   "outputs": [],
   "source": [
    "fn = '/mnt/data/project/qilu_singlecell_1/ref_geneset/Total_kegg1.gmt'\n",
    "with open(fn) as f:\n",
    "    sets_raw = f.readlines()\n",
    "sets_proc = [x.split('\\n')[0] for x in sets_raw]\n",
    "sets_proc = [x.split('\\t') for x in sets_proc]\n",
    "\n",
    "path_name_list = []\n",
    "gene_ids_list = []\n",
    "\n",
    "for x in sets_proc:\n",
    "    path_name = x[0]\n",
    "    gene_ids=x[2:]\n",
    "    \n",
    "    path_name_list.append(path_name)\n",
    "    gene_ids_list.append(gene_ids)"
   ]
  },
  {
   "cell_type": "code",
   "execution_count": null,
   "id": "liable-jason",
   "metadata": {},
   "outputs": [],
   "source": [
    "dataframe_GSVA = pd.DataFrame(index=adata_concat.obs.index, columns=path_name_list)\n",
    "dataframe_GSVA"
   ]
  },
  {
   "cell_type": "code",
   "execution_count": null,
   "id": "convinced-folks",
   "metadata": {},
   "outputs": [],
   "source": [
    "# 330 pathway,time cost 99.978 s\n",
    "import time\n",
    "\n",
    "time_start = time.time()\n",
    "\n",
    "j = 0\n",
    "for i in path_name_list:\n",
    "    score_name = i\n",
    "    genesets = gene_ids_list[j]\n",
    "    print(len(genesets))\n",
    "    genesets = [x for x in genesets if x in adata_concat.var_names]\n",
    "    print(len(genesets))\n",
    "    print(j)\n",
    "    j = j+1\n",
    "    \n",
    "    sc.tl.score_genes(adata_concat, genesets, \n",
    "                      ctrl_size=len(genesets), \n",
    "                      gene_pool=None, \n",
    "                      n_bins=25, \n",
    "                      score_name=score_name, \n",
    "                      random_state=0, \n",
    "                      copy=False, \n",
    "                      use_raw=None)\n",
    "    dataframe_GSVA[score_name] = adata_concat.obs[score_name]\n",
    "\n",
    "time_end = time.time()    #结束计时\n",
    "\n",
    "time_c= time_end - time_start   #运行所花时间\n",
    "print('time cost', time_c, 's')"
   ]
  },
  {
   "cell_type": "code",
   "execution_count": null,
   "id": "enclosed-orleans",
   "metadata": {},
   "outputs": [],
   "source": [
    "dataframe_GSVA"
   ]
  },
  {
   "cell_type": "code",
   "execution_count": null,
   "id": "frozen-factory",
   "metadata": {},
   "outputs": [],
   "source": [
    "import seaborn as sns\n",
    " \n",
    "sns.kdeplot(dataframe_GSVA['Glycolysis / Gluconeogenesis'], shade = True)"
   ]
  },
  {
   "cell_type": "code",
   "execution_count": null,
   "id": "bacterial-health",
   "metadata": {},
   "outputs": [],
   "source": [
    "dataframe_GSVA = dataframe_GSVA.applymap(lambda x: x +1)"
   ]
  },
  {
   "cell_type": "code",
   "execution_count": null,
   "id": "measured-hygiene",
   "metadata": {},
   "outputs": [],
   "source": [
    "index = dataframe_GSVA.index.to_frame(index=True, name='barcodes')\n",
    "columns = dataframe_GSVA.columns.to_frame(index=True, name='pathway')\n",
    "\n",
    "# 将dataframe_GSVA读取为Anndata\n",
    "anndata_GSVA = sc.AnnData(X=dataframe_GSVA.values, var=columns, obs = index)\n",
    "anndata_GSVA"
   ]
  },
  {
   "cell_type": "code",
   "execution_count": null,
   "id": "varied-cambodia",
   "metadata": {},
   "outputs": [],
   "source": [
    "paga_ann_list = []\n",
    "for i in list(adata_concat.obs['ann_for_cpdb']):\n",
    "    if i in ['APOA1+Enterocytes','CA1+Enterocytes']:\n",
    "        j = 'Enterocytes'\n",
    "    else: \n",
    "        j = i\n",
    "    paga_ann_list.append(j)\n",
    "    \n",
    "adata_concat.obs['ann_for_paga'] = paga_ann_list"
   ]
  },
  {
   "cell_type": "code",
   "execution_count": null,
   "id": "chief-combat",
   "metadata": {},
   "outputs": [],
   "source": [
    "anndata_GSVA.raw = anndata_GSVA\n",
    "anndata_GSVA.obs['ann_for_paga']=adata_concat.obs['ann_for_paga']\n",
    "anndata_GSVA.obs['ann_for_cpdb']=adata_concat.obs['ann_for_cpdb']\n",
    "anndata_GSVA.obs['organ']=adata_concat.obs['organ']\n",
    "anndata_GSVA.obs"
   ]
  },
  {
   "cell_type": "code",
   "execution_count": null,
   "id": "isolated-workstation",
   "metadata": {},
   "outputs": [],
   "source": [
    "sc.pp.scale(anndata_GSVA, max_value=10)"
   ]
  },
  {
   "cell_type": "code",
   "execution_count": null,
   "id": "second-sponsorship",
   "metadata": {},
   "outputs": [],
   "source": [
    "markers = ['Oxidative phosphorylation',      # 碳代谢\n",
    "           'Glycolysis / Gluconeogenesis',\n",
    "           'Citrate cycle (TCA cycle)',\n",
    "          'Pentose phosphate pathway',\n",
    "          'Pyruvate metabolism',\n",
    "          'Butanoate metabolism',\n",
    "          'Nitrogen metabolism',\n",
    "          'Starch and sucrose metabolism',\n",
    "          'Amino sugar and nucleotide sugar metabolism',\n",
    "           \n",
    "          'Fatty acid degradation',          # 类脂（化合）物代谢作用\n",
    "          'Synthesis and degradation of ketone bodies',\n",
    "          'Primary bile acid biosynthesis',\n",
    "          'alpha-Linolenic acid metabolism',\n",
    "          'Primary bile acid biosynthesis',\n",
    "          \n",
    "          'Arginine biosynthesis',                 # 氨基酸代谢\n",
    "          'Alanine, aspartate and glutamate metabolism',\n",
    "          'Valine, leucine and isoleucine degradation',\n",
    "          'Histidine metabolism',\n",
    "          'Tryptophan metabolism',\n",
    "          \n",
    "          'PI3K-Akt signaling pathway',         #信号转导\n",
    "          'Wnt signaling pathway',\n",
    "          'Notch signaling pathway',\n",
    "          'TGF-beta signaling pathway',\n",
    "          'TNF signaling pathway',\n",
    "          'cAMP signaling pathway',\n",
    "          'mTOR signaling pathway',\n",
    "          'Toll-like receptor signaling pathway',\n",
    "          'IL-17 signaling pathway',\n",
    "          'B cell receptor signaling pathway',\n",
    "          'T cell receptor signaling pathway',\n",
    "          \n",
    "          'Bile secretion',                    # 消化吸收\n",
    "          'Carbohydrate digestion and absorption',\n",
    "          'Protein digestion and absorption',\n",
    "          'Fat digestion and absorption',\n",
    "          'Cholesterol metabolism',\n",
    "          'Vitamin digestion and absorption',\n",
    "          'Mineral absorption',\n",
    "           \n",
    "          'Glutamatergic synapse',            # 突触相关\n",
    "          'GABAergic synapse',\n",
    "          'Cholinergic synapse',\n",
    "          'Dopaminergic synapse',\n",
    "          'Serotonergic synapse',\n",
    "          ]"
   ]
  },
  {
   "cell_type": "code",
   "execution_count": null,
   "id": "running-bangkok",
   "metadata": {},
   "outputs": [],
   "source": [
    "anndata_GSVA"
   ]
  },
  {
   "cell_type": "code",
   "execution_count": null,
   "id": "patent-story",
   "metadata": {},
   "outputs": [],
   "source": [
    "gsva_ann_list = []\n",
    "for i in list(anndata_GSVA.obs['organ']):\n",
    "    if i == 'Duodenum':\n",
    "        j = '1-Duodenum'\n",
    "    elif i == 'Jejunum':\n",
    "        j = '2-Jejunum'\n",
    "    elif i == 'Ileum':\n",
    "        j = '3-Ileum'\n",
    "    elif i == 'Appendix':\n",
    "        j = '4-Appendix'\n",
    "    elif i == 'Colon':\n",
    "        j = '5-Colon'\n",
    "    elif i == 'Rectum':\n",
    "        j = '6-Rectum'\n",
    "        \n",
    "    gsva_ann_list.append(j)\n",
    "    \n",
    "anndata_GSVA.obs['ann_for_gsva'] = gsva_ann_list"
   ]
  },
  {
   "cell_type": "markdown",
   "id": "sporting-bankruptcy",
   "metadata": {},
   "source": [
    "### pathway整体差异分析及可视化"
   ]
  },
  {
   "cell_type": "code",
   "execution_count": null,
   "id": "champion-attempt",
   "metadata": {},
   "outputs": [],
   "source": [
    "# 所有器官，bulk级别\n",
    "def adata_diff(adata_test):\n",
    "    \n",
    "    sc.settings.set_figure_params(dpi=100, figsize = (4, 3), fontsize=6)\n",
    "    sc.tl.rank_genes_groups(adata_test, 'ann_for_gsva', method='wilcoxon')\n",
    "    #sc.pl.rank_genes_groups(adata_test, n_genes=25, sharey=False)\n",
    "    pd.DataFrame(adata_test.uns['rank_genes_groups']['names']).to_csv('./outputs/'+ dirfile)\n",
    "\n",
    "    #sc.get.rank_genes_groups_df(adata_test, group=\"1-Duodenum\")\n",
    "    \n",
    "    sc.settings.set_figure_params(dpi=150, figsize = (4, 3), fontsize=6)\n",
    "\n",
    "    sc.pl.rank_genes_groups_heatmap(adata_test, \n",
    "                                    n_genes=20, \n",
    "                                    use_raw=False, \n",
    "                                    swap_axes=True, \n",
    "                                    vmin=-2, \n",
    "                                    vmax=2, \n",
    "                                    cmap='bwr', \n",
    "                                    # layer='scaled', \n",
    "                                    figsize=(10,10),\n",
    "                                    # categories_order = categories_order,\n",
    "                                    show=True,\n",
    "                                    dendrogram=False,\n",
    "                                    show_gene_labels=True,\n",
    "                                    # save = '_hotmap3.png'\n",
    "                                   )\n",
    "    \n",
    "    sc.settings.set_figure_params(dpi=300, figsize = (4, 3), fontsize=20)\n",
    "    mp1 = sc.pl.rank_genes_groups_matrixplot(adata_test, \n",
    "                                       n_genes=15, \n",
    "                                       use_raw=False, \n",
    "                                       dendrogram=False,\n",
    "                                       return_fig=True,\n",
    "                                       vmin=-1.7, \n",
    "                                       vmax=1.7,\n",
    "                                       #categories_order = categories_order,\n",
    "                                       cmap='bwr')\n",
    "    mp1.style(edge_color='white',cmap = 'RdYlBu_r',edge_lw=1.0).show()\n",
    "    \n",
    "    mp1 = sc.pl.rank_genes_groups_matrixplot(adata_test, \n",
    "                                       n_genes=6, \n",
    "                                       use_raw=False, \n",
    "                                       dendrogram=False,\n",
    "                                       return_fig=True,\n",
    "                                       vmin=-1.7, \n",
    "                                       vmax=1.7,\n",
    "                                       #categories_order = categories_order,\n",
    "                                       cmap='bwr')\n",
    "    mp1.style(edge_color='white',cmap = 'RdYlBu_r',edge_lw=1.0).show()   \n",
    "    \n",
    "    mp1 = sc.pl.rank_genes_groups_matrixplot(adata_test, \n",
    "                                       n_genes=6, \n",
    "                                       use_raw=False, \n",
    "                                       dendrogram=False,\n",
    "                                       return_fig=True,\n",
    "                                       vmin=-1.7, \n",
    "                                       vmax=1.7,\n",
    "                                       #categories_order = categories_order,\n",
    "                                       cmap='bwr')\n",
    "    mp1.style(edge_color='white',cmap = 'bwr',edge_lw=1.0).show()       \n",
    "    \n",
    "    mp = sc.pl.matrixplot(adata_test, \n",
    "                     markers, \n",
    "                     groupby='ann_for_gsva', \n",
    "                     dendrogram=False, \n",
    "                     return_fig=True,\n",
    "                     cmap='bwr',\n",
    "                     #categories_order = categories_order,\n",
    "                     #standard_scale='var'\n",
    "                    )\n",
    "    mp.style(edge_color='white',cmap = 'RdYlBu_r',edge_lw=1.0).show()\n",
    "    \n",
    "    sc.settings.set_figure_params(dpi=100, figsize = (3, 5), fontsize=10)\n",
    "    sc.pl.heatmap(adata_test, \n",
    "                  markers, \n",
    "                  groupby='ann_for_gsva', \n",
    "                  dendrogram=False,\n",
    "                  swap_axes=True,\n",
    "                  cmap='bwr')\n",
    "\n",
    "    sc.pl.heatmap(adata_test, \n",
    "                  markers, \n",
    "                  groupby='ann_for_gsva', \n",
    "                  dendrogram=False,\n",
    "                  swap_axes=True,\n",
    "                  standard_scale='var',\n",
    "                  cmap='bwr')\n",
    "    \n",
    "    return adata_test"
   ]
  },
  {
   "cell_type": "code",
   "execution_count": null,
   "id": "handmade-duncan",
   "metadata": {
    "scrolled": false
   },
   "outputs": [],
   "source": [
    "adata_test = anndata_GSVA\n",
    "dirfile = 'Enterocytes_rank_gsva_kegg_20211209.csv'\n",
    "adata_diff(adata_test)"
   ]
  },
  {
   "cell_type": "markdown",
   "id": "portuguese-interim",
   "metadata": {},
   "source": [
    "### pathway分组差异分析及可视化 "
   ]
  },
  {
   "cell_type": "code",
   "execution_count": null,
   "id": "informed-cricket",
   "metadata": {},
   "outputs": [],
   "source": [
    "anndata_GSVA"
   ]
  },
  {
   "cell_type": "code",
   "execution_count": null,
   "id": "recreational-given",
   "metadata": {},
   "outputs": [],
   "source": [
    "# 读取组别pathway(6组)\n",
    "kegg_df = pd.read_csv('/mnt/data/project/qilu_singlecell_1/data/outputs/KEGG_list_for_figure2.csv')\n",
    "kegg_df"
   ]
  },
  {
   "cell_type": "code",
   "execution_count": null,
   "id": "saved-diving",
   "metadata": {},
   "outputs": [],
   "source": [
    "# 同样的方法也适用于特定gene list\n",
    "def enrichment_group_pathway(input_adata, kegg_df, n_show_pathway=10):\n",
    "    \n",
    "    num_col = kegg_df.shape[1] # 1为列数, 0为行数\n",
    "    \n",
    "    for i in range(num_col):\n",
    "        kegg_list = list(kegg_df.iloc[:,i].dropna()) # dropna()去除NAN所在行\n",
    "        anndata_GSVA_test = input_adata[:, kegg_list]\n",
    "        \n",
    "        sc.tl.rank_genes_groups(anndata_GSVA_test, 'ann_for_gsva', method='wilcoxon',use_raw = False)\n",
    "        \n",
    "        sc.settings.set_figure_params(dpi=400, figsize = (4, 3), fontsize=20)\n",
    "        mp1 = sc.pl.rank_genes_groups_matrixplot(anndata_GSVA_test, \n",
    "                                            n_genes=n_show_pathway, \n",
    "                                            use_raw=False, \n",
    "                                            dendrogram=False,\n",
    "                                            return_fig=True,\n",
    "                                            vmin=-1.7, \n",
    "                                            vmax=1.7,\n",
    "                                            #categories_order = categories_order,\n",
    "                                            standard_scale = True,\n",
    "                                            cmap='bwr')\n",
    "        mp1.style(edge_color='white',cmap = 'RdYlBu_r',edge_lw=1.0).show()"
   ]
  },
  {
   "cell_type": "code",
   "execution_count": null,
   "id": "behind-texture",
   "metadata": {
    "scrolled": false
   },
   "outputs": [],
   "source": [
    "enrichment_group_pathway(input_adata=anndata_GSVA, kegg_df=kegg_df, n_show_pathway=10)"
   ]
  },
  {
   "cell_type": "markdown",
   "id": "downtown-payday",
   "metadata": {},
   "source": [
    "## Reactome"
   ]
  },
  {
   "cell_type": "code",
   "execution_count": null,
   "id": "protective-control",
   "metadata": {},
   "outputs": [],
   "source": [
    "adata = sc.read('/mnt/data/Project2021/Gut_immune_surveillance/data/h5ad_Figure/Human/Epithelium/Postnatal/human_postnatal_epi_ann.h5ad')\n",
    "adata = sc.AnnData(X=adata.raw.X, var=adata.raw.var, obs = adata.obs)\n",
    "obs_index = adata.obs.loc[adata.obs[\"health\"].isin(['Normal']), :].index\n",
    "adata = adata[obs_index, :]\n",
    "obs_index = adata.obs.loc[adata.obs[\"ann_for_cpdb\"].isin(['APOA1+Enterocytes','CA1+Enterocytes']), :].index\n",
    "adata = adata[obs_index, :]"
   ]
  },
  {
   "cell_type": "code",
   "execution_count": null,
   "id": "false-albany",
   "metadata": {},
   "outputs": [],
   "source": [
    "adata_list = []"
   ]
  },
  {
   "cell_type": "code",
   "execution_count": null,
   "id": "appreciated-blues",
   "metadata": {},
   "outputs": [],
   "source": [
    "    for j in list(adata.obs['pan_organ'].cat.categories):\n",
    "        \n",
    "        print(j + ' is being processed ...')\n",
    "        single_index = adata.obs.loc[adata.obs['pan_organ'].isin([j]), :].index\n",
    "        adata_single = adata[single_index,:]\n",
    "\n",
    "        print('The number of '+ j + ' is '+ str(len(adata_single.obs.index)))\n",
    "        if len(adata_single.obs.index) > 5000:\n",
    "            # 设置随机筛选10000个细胞，设置随机种子为1\n",
    "            sc.pp.subsample(adata_single, n_obs=5000, random_state=1, copy=False)\n",
    "        else:\n",
    "            adata_single = adata_single\n",
    "            \n",
    "        adata_list.append(adata_single)"
   ]
  },
  {
   "cell_type": "code",
   "execution_count": null,
   "id": "concrete-cannon",
   "metadata": {},
   "outputs": [],
   "source": [
    "def change_obs_index_v2(x):\n",
    "    \"\"\"\n",
    "    该函数用于修正concatenate样本或数据集后变更的barcodes名。\n",
    "    \"\"\"  \n",
    "    x = x[:-4]\n",
    "    return x\n",
    "\n",
    "\n",
    "# batch_list单个数据集的样本数限制在999以下时适用，此步骤是因为Anndata的concatenate函数会自动在barcode name尾部一个批次编号，\n",
    "# 在这里设置格式化的编号以便删除。\n",
    "batch_list = []\n",
    "for i in range(len(adata_list)):\n",
    "    if i+1 < 10:\n",
    "        j = '00'+ str(i+1)\n",
    "    elif i+1 < 100:\n",
    "        j = '0'+ str(i+1)\n",
    "    else: \n",
    "        j = str(i+1)\n",
    "    batch_list.append(j)\n",
    "    \n",
    "adata_concat = adata_list[0].concatenate(adata_list[1:len(batch_list)],join='outer', batch_categories=batch_list)\n",
    "# 删除barcode name的尾部编号\n",
    "adata_concat.obs.rename(index=change_obs_index_v2,inplace=True)\n",
    "adata_concat"
   ]
  },
  {
   "cell_type": "code",
   "execution_count": null,
   "id": "polyphonic-check",
   "metadata": {},
   "outputs": [],
   "source": [
    "fn = '/mnt/data/Project2021/Gut_immune_surveillance/ref_geneset/c2.cp.reactome.v7.2.symbols.gmt'\n",
    "\n",
    "with open(fn) as f:\n",
    "    sets_raw = f.readlines()\n",
    "sets_proc = [x.split('\\n')[0] for x in sets_raw]\n",
    "sets_proc = [x.split('\\t') for x in sets_proc]\n",
    "\n",
    "path_name_list = []\n",
    "gene_ids_list = []\n",
    "\n",
    "for x in sets_proc:\n",
    "    path_name = x[0]\n",
    "    gene_ids=x[2:]\n",
    "    \n",
    "    path_name_list.append(path_name)\n",
    "    gene_ids_list.append(gene_ids)"
   ]
  },
  {
   "cell_type": "code",
   "execution_count": null,
   "id": "contained-administrator",
   "metadata": {},
   "outputs": [],
   "source": [
    "dataframe_GSVA = pd.DataFrame(index=adata_concat.obs.index, columns=path_name_list)\n",
    "dataframe_GSVA"
   ]
  },
  {
   "cell_type": "code",
   "execution_count": null,
   "id": "boxed-turtle",
   "metadata": {},
   "outputs": [],
   "source": [
    "# 1554 pathway,time cost 856.7754094600677 s\n",
    "import time\n",
    "\n",
    "time_start = time.time()\n",
    "\n",
    "j = 0\n",
    "for i in path_name_list:\n",
    "    score_name = i\n",
    "    genesets = gene_ids_list[j]\n",
    "    print(len(genesets))\n",
    "    genesets = [x for x in genesets if x in adata_concat.var_names]\n",
    "    print(len(genesets))\n",
    "    print(j)\n",
    "    j = j+1\n",
    "    \n",
    "    sc.tl.score_genes(adata_concat, genesets, \n",
    "                      ctrl_size=len(genesets), \n",
    "                      gene_pool=None, \n",
    "                      n_bins=25, \n",
    "                      score_name=score_name, \n",
    "                      random_state=0, \n",
    "                      copy=False, \n",
    "                      use_raw=None)\n",
    "    dataframe_GSVA[score_name] = adata_concat.obs[score_name]\n",
    "\n",
    "time_end = time.time()    #结束计时\n",
    "\n",
    "time_c= time_end - time_start   #运行所花时间\n",
    "print('time cost', time_c, 's')"
   ]
  },
  {
   "cell_type": "code",
   "execution_count": null,
   "id": "settled-suspect",
   "metadata": {},
   "outputs": [],
   "source": [
    "dataframe_GSVA"
   ]
  },
  {
   "cell_type": "code",
   "execution_count": null,
   "id": "israeli-chicago",
   "metadata": {},
   "outputs": [],
   "source": [
    "dataframe_GSVA = dataframe_GSVA.applymap(lambda x: x +1)"
   ]
  },
  {
   "cell_type": "code",
   "execution_count": null,
   "id": "sitting-control",
   "metadata": {},
   "outputs": [],
   "source": [
    "import seaborn as sns\n",
    "sns.kdeplot(dataframe_GSVA['REACTOME_REMOVAL_OF_THE_FLAP_INTERMEDIATE_FROM_THE_C_STRAND'], shade = True)"
   ]
  },
  {
   "cell_type": "code",
   "execution_count": null,
   "id": "scenic-peripheral",
   "metadata": {},
   "outputs": [],
   "source": [
    "index = dataframe_GSVA.index.to_frame(index=True, name='barcodes')\n",
    "columns = dataframe_GSVA.columns.to_frame(index=True, name='pathway')\n",
    "\n",
    "# 将dataframe_GSVA读取为Anndata\n",
    "anndata_GSVA = sc.AnnData(X=dataframe_GSVA.values, var=columns, obs = index)\n",
    "anndata_GSVA"
   ]
  },
  {
   "cell_type": "code",
   "execution_count": null,
   "id": "british-saying",
   "metadata": {},
   "outputs": [],
   "source": [
    "paga_ann_list = []\n",
    "for i in list(adata_concat.obs['ann_for_cpdb']):\n",
    "    if i in ['APOA1+Enterocytes','CA1+Enterocytes']:\n",
    "        j = 'Enterocytes'\n",
    "    else: \n",
    "        j = i\n",
    "    paga_ann_list.append(j)\n",
    "    \n",
    "adata_concat.obs['ann_for_paga'] = paga_ann_list\n",
    "\n",
    "anndata_GSVA.raw = anndata_GSVA\n",
    "anndata_GSVA.obs['ann_for_paga']=adata_concat.obs['ann_for_paga']\n",
    "anndata_GSVA.obs['ann_for_cpdb']=adata_concat.obs['ann_for_cpdb']\n",
    "anndata_GSVA.obs['organ']=adata_concat.obs['organ']\n",
    "anndata_GSVA.obs"
   ]
  },
  {
   "cell_type": "code",
   "execution_count": null,
   "id": "sweet-literature",
   "metadata": {},
   "outputs": [],
   "source": [
    "anndata_GSVA.obs['pan_organ']=adata_concat.obs['pan_organ']\n",
    "anndata_GSVA.obs"
   ]
  },
  {
   "cell_type": "code",
   "execution_count": null,
   "id": "vanilla-review",
   "metadata": {},
   "outputs": [],
   "source": [
    "adata.obs['pan_organ'].cat.categories"
   ]
  },
  {
   "cell_type": "code",
   "execution_count": null,
   "id": "signal-render",
   "metadata": {},
   "outputs": [],
   "source": [
    "sc.pp.scale(anndata_GSVA, max_value=10)"
   ]
  },
  {
   "cell_type": "code",
   "execution_count": null,
   "id": "crude-travel",
   "metadata": {},
   "outputs": [],
   "source": [
    "gsva_ann_list = []\n",
    "for i in list(anndata_GSVA.obs['pan_organ']):\n",
    "    if i == 'Duo-Jej':\n",
    "        j = '1-Proximal_SI'\n",
    "    elif i == 'Ileum':\n",
    "        j = '2-Distal_SI'\n",
    "    elif i == 'App-Col-Rec':\n",
    "        j = '3-LI'\n",
    "        \n",
    "    gsva_ann_list.append(j)\n",
    "    \n",
    "anndata_GSVA.obs['ann_for_gsva'] = gsva_ann_list"
   ]
  },
  {
   "cell_type": "markdown",
   "id": "independent-flash",
   "metadata": {},
   "source": [
    "### pathway整体差异分析及可视化"
   ]
  },
  {
   "cell_type": "code",
   "execution_count": null,
   "id": "subject-boost",
   "metadata": {},
   "outputs": [],
   "source": [
    "# 所有器官，bulk级别\n",
    "def adata_diff(adata_test):\n",
    "    \n",
    "    sc.settings.set_figure_params(dpi=100, figsize = (4, 3), fontsize=6)\n",
    "    sc.tl.rank_genes_groups(adata_test, 'ann_for_gsva', method='wilcoxon')\n",
    "    #sc.pl.rank_genes_groups(adata_test, n_genes=25, sharey=False)\n",
    "    pd.DataFrame(adata_test.uns['rank_genes_groups']['names']).to_csv('./outputs/'+ dirfile)\n",
    "\n",
    "    #sc.get.rank_genes_groups_df(adata_test, group=\"1-Duodenum\")\n",
    "    \n",
    "    sc.settings.set_figure_params(dpi=150, figsize = (4, 3), fontsize=6)\n",
    "\n",
    "    sc.pl.rank_genes_groups_heatmap(adata_test, \n",
    "                                    n_genes=20, \n",
    "                                    use_raw=False, \n",
    "                                    swap_axes=True, \n",
    "                                    vmin=-2, \n",
    "                                    vmax=2, \n",
    "                                    cmap='bwr', \n",
    "                                    # layer='scaled', \n",
    "                                    figsize=(10,10),\n",
    "                                    # categories_order = categories_order,\n",
    "                                    show=True,\n",
    "                                    dendrogram=False,\n",
    "                                    show_gene_labels=True,\n",
    "                                    # save = '_hotmap3.png'\n",
    "                                   )\n",
    "    \n",
    "    sc.settings.set_figure_params(dpi=300, figsize = (4, 3), fontsize=20)\n",
    "    mp1 = sc.pl.rank_genes_groups_matrixplot(adata_test, \n",
    "                                       n_genes=30, \n",
    "                                       use_raw=False, \n",
    "                                       dendrogram=False,\n",
    "                                       return_fig=True,\n",
    "                                       vmin=-1.7, \n",
    "                                       vmax=1.7,\n",
    "                                       #categories_order = categories_order,\n",
    "                                       cmap='bwr')\n",
    "    mp1.style(edge_color='white',cmap = 'bwr',edge_lw=1.0).show()\n",
    "    \n",
    "    mp1 = sc.pl.rank_genes_groups_matrixplot(adata_test, \n",
    "                                       n_genes=6, \n",
    "                                       use_raw=False, \n",
    "                                       dendrogram=False,\n",
    "                                       return_fig=True,\n",
    "                                       vmin=-1.7, \n",
    "                                       vmax=1.7,\n",
    "                                       #categories_order = categories_order,\n",
    "                                       cmap='bwr')\n",
    "    mp1.style(edge_color='white',cmap = 'RdYlBu_r',edge_lw=1.0).show()   \n",
    "    \n",
    "    mp1 = sc.pl.rank_genes_groups_matrixplot(adata_test, \n",
    "                                       n_genes=6, \n",
    "                                       use_raw=False, \n",
    "                                       dendrogram=False,\n",
    "                                       return_fig=True,\n",
    "                                       vmin=-1.7, \n",
    "                                       vmax=1.7,\n",
    "                                       #categories_order = categories_order,\n",
    "                                       cmap='bwr')\n",
    "    mp1.style(edge_color='white',cmap = 'bwr',edge_lw=1.0).show()       \n",
    "\n",
    "    \n",
    "    return adata_test"
   ]
  },
  {
   "cell_type": "code",
   "execution_count": null,
   "id": "placed-oklahoma",
   "metadata": {
    "scrolled": false
   },
   "outputs": [],
   "source": [
    "adata_test = anndata_GSVA\n",
    "dirfile = 'Enterocytes_rank_gsva_reactome_20211210.csv'\n",
    "adata_diff(adata_test)"
   ]
  },
  {
   "cell_type": "markdown",
   "id": "personalized-clinton",
   "metadata": {},
   "source": [
    "#### Proximal SI"
   ]
  },
  {
   "cell_type": "code",
   "execution_count": null,
   "id": "compound-burns",
   "metadata": {},
   "outputs": [],
   "source": [
    "result_Proximal_SI = pd.DataFrame()\n",
    "\n",
    "pd_Proximal_SI = sc.get.rank_genes_groups_df(adata_test, group=\"1-Proximal_SI\")\n",
    "pd_Proximal_SI"
   ]
  },
  {
   "cell_type": "code",
   "execution_count": null,
   "id": "excellent-simulation",
   "metadata": {},
   "outputs": [],
   "source": [
    "# 设置横纵轴，横轴为logfoldchanges，纵轴为pvals\n",
    "\n",
    "result_Proximal_SI['names'] = pd_Proximal_SI['names']\n",
    "\n",
    "result_Proximal_SI['x:logfoldchanges'] = pd_Proximal_SI['logfoldchanges']\n",
    "result_Proximal_SI['x:z-score'] = pd_Proximal_SI['scores']\n",
    "\n",
    "smooth = 1e-320\n",
    "result_Proximal_SI['y:-Log10(pvals_adj)'] = -np.log10(pd_Proximal_SI['pvals_adj'] + smooth)\n",
    "\n",
    "result_Proximal_SI"
   ]
  },
  {
   "cell_type": "code",
   "execution_count": null,
   "id": "adaptive-graph",
   "metadata": {},
   "outputs": [],
   "source": [
    "result_Proximal_SI.to_csv('/mnt/data/Project2021/Gut_immune_surveillance/outputs/Proximal_SI_enterocytes.csv')"
   ]
  },
  {
   "cell_type": "markdown",
   "id": "conservative-fraction",
   "metadata": {},
   "source": [
    "#### Distal SI"
   ]
  },
  {
   "cell_type": "code",
   "execution_count": null,
   "id": "robust-third",
   "metadata": {},
   "outputs": [],
   "source": [
    "result_Distal_SI = pd.DataFrame()\n",
    "pd_Distal_SI = sc.get.rank_genes_groups_df(adata_test, group=\"2-Distal_SI\")\n",
    "\n",
    "result_Distal_SI['names'] = pd_Distal_SI['names']\n",
    "result_Distal_SI['x:logfoldchanges'] = pd_Distal_SI['logfoldchanges']\n",
    "result_Distal_SI['x:z-score'] = pd_Distal_SI['scores']\n",
    "smooth = 1e-320\n",
    "result_Distal_SI['y:-Log10(pvals_adj)'] = -np.log10(pd_Distal_SI['pvals_adj'] + smooth)\n",
    "result_Distal_SI"
   ]
  },
  {
   "cell_type": "code",
   "execution_count": null,
   "id": "otherwise-paragraph",
   "metadata": {},
   "outputs": [],
   "source": [
    "result_Distal_SI.to_csv('/mnt/data/Project2021/Gut_immune_surveillance/outputs/result_Distal_SI_enterocytes.csv')"
   ]
  },
  {
   "cell_type": "markdown",
   "id": "adjacent-correspondence",
   "metadata": {},
   "source": [
    "#### LI"
   ]
  },
  {
   "cell_type": "code",
   "execution_count": null,
   "id": "limiting-homeless",
   "metadata": {},
   "outputs": [],
   "source": [
    "result_LI = pd.DataFrame()\n",
    "pd_LI = sc.get.rank_genes_groups_df(adata_test, group=\"3-LI\")\n",
    "\n",
    "result_LI['names'] = pd_LI['names']\n",
    "result_LI['x:logfoldchanges'] = pd_LI['logfoldchanges']\n",
    "result_LI['x:z-score'] = pd_LI['scores']\n",
    "smooth = 1e-320\n",
    "result_LI['y:-Log10(pvals_adj)'] = -np.log10(pd_LI['pvals_adj'] + smooth)\n",
    "result_LI"
   ]
  },
  {
   "cell_type": "code",
   "execution_count": null,
   "id": "cellular-equation",
   "metadata": {},
   "outputs": [],
   "source": [
    "result_LI.to_csv('/mnt/data/Project2021/Gut_immune_surveillance/outputs/result_LI_enterocytes.csv')"
   ]
  },
  {
   "cell_type": "markdown",
   "id": "studied-modem",
   "metadata": {},
   "source": [
    "# 绘图"
   ]
  },
  {
   "cell_type": "markdown",
   "id": "italian-suggestion",
   "metadata": {},
   "source": [
    "## Plot_Radar"
   ]
  },
  {
   "cell_type": "markdown",
   "id": "insured-mayor",
   "metadata": {},
   "source": [
    "**1、导入数据**"
   ]
  },
  {
   "cell_type": "code",
   "execution_count": null,
   "id": "cognitive-pavilion",
   "metadata": {},
   "outputs": [],
   "source": [
    "# 轴长度\n",
    "zscore_df = pd.read_csv('/mnt/data/Project2021/Gut_immune_surveillance/outputs/zscore.csv')\n",
    "zscore_df.head()"
   ]
  },
  {
   "cell_type": "code",
   "execution_count": null,
   "id": "friendly-algebra",
   "metadata": {},
   "outputs": [],
   "source": [
    "zscore_df.set_index('names').values.T"
   ]
  },
  {
   "cell_type": "code",
   "execution_count": null,
   "id": "viral-beverage",
   "metadata": {},
   "outputs": [],
   "source": [
    "# 点颜色\n",
    "pvalue_df = pd.read_csv('/mnt/data/Project2021/Gut_immune_surveillance/outputs/pvalue.csv')\n",
    "pvalue_df.head()"
   ]
  },
  {
   "cell_type": "markdown",
   "id": "massive-calvin",
   "metadata": {},
   "source": [
    "**2、设置函数**"
   ]
  },
  {
   "cell_type": "code",
   "execution_count": null,
   "id": "solar-sense",
   "metadata": {
    "code_folding": []
   },
   "outputs": [],
   "source": [
    "import numpy as np\n",
    "\n",
    "import matplotlib.pyplot as plt\n",
    "from matplotlib.patches import Circle, RegularPolygon\n",
    "from matplotlib.path import Path\n",
    "from matplotlib.projections.polar import PolarAxes\n",
    "from matplotlib.projections import register_projection\n",
    "from matplotlib.spines import Spine\n",
    "from matplotlib.transforms import Affine2D\n",
    "\n",
    "\n",
    "def radar_factory(num_vars, frame='circle'):\n",
    "    \"\"\"\n",
    "    Create a radar chart with `num_vars` axes.\n",
    "\n",
    "    This function creates a RadarAxes projection and registers it.\n",
    "\n",
    "    Parameters\n",
    "    ----------\n",
    "    num_vars : int\n",
    "        Number of variables for radar chart.\n",
    "    frame : {'circle', 'polygon'}\n",
    "        Shape of frame surrounding axes.\n",
    "\n",
    "    \"\"\"\n",
    "    # calculate evenly-spaced axis angles\n",
    "    theta = np.linspace(0, 2*np.pi, num_vars, endpoint=False)\n",
    "\n",
    "    class RadarAxes(PolarAxes):\n",
    "\n",
    "        name = 'radar'\n",
    "        # use 1 line segment to connect specified points\n",
    "        RESOLUTION = 1\n",
    "\n",
    "        def __init__(self, *args, **kwargs):\n",
    "            super().__init__(*args, **kwargs)\n",
    "            # rotate plot such that the first axis is at the top\n",
    "            self.set_theta_zero_location('N')\n",
    "\n",
    "        def fill(self, *args, closed=True, **kwargs):\n",
    "            \"\"\"Override fill so that line is closed by default\"\"\"\n",
    "            return super().fill(closed=closed, *args, **kwargs)\n",
    "\n",
    "        def plot(self, *args, **kwargs):\n",
    "            \"\"\"Override plot so that line is closed by default\"\"\"\n",
    "            lines = super().plot(*args, **kwargs)\n",
    "            for line in lines:\n",
    "                self._close_line(line)\n",
    "\n",
    "        def _close_line(self, line):\n",
    "            x, y = line.get_data()\n",
    "            # FIXME: markers at x[0], y[0] get doubled-up\n",
    "            if x[0] != x[-1]:\n",
    "                x = np.append(x, x[0])\n",
    "                y = np.append(y, y[0])\n",
    "                line.set_data(x, y)\n",
    "\n",
    "        def set_varlabels(self, labels):\n",
    "            self.set_thetagrids(np.degrees(theta), labels)\n",
    "\n",
    "        def _gen_axes_patch(self):\n",
    "            # The Axes patch must be centered at (0.5, 0.5) and of radius 0.5\n",
    "            # in axes coordinates.\n",
    "            if frame == 'circle':\n",
    "                return Circle((0.5, 0.5), 0.5)\n",
    "            elif frame == 'polygon':\n",
    "                return RegularPolygon((0.5, 0.5), num_vars,\n",
    "                                      radius=.5, edgecolor=\"k\")\n",
    "            else:\n",
    "                raise ValueError(\"Unknown value for 'frame': %s\" % frame)\n",
    "\n",
    "        def _gen_axes_spines(self):\n",
    "            if frame == 'circle':\n",
    "                return super()._gen_axes_spines()\n",
    "            elif frame == 'polygon':\n",
    "                # spine_type must be 'left'/'right'/'top'/'bottom'/'circle'.\n",
    "                spine = Spine(axes=self,\n",
    "                              spine_type='circle',\n",
    "                              path=Path.unit_regular_polygon(num_vars))\n",
    "                # unit_regular_polygon gives a polygon of radius 1 centered at\n",
    "                # (0, 0) but we want a polygon of radius 0.5 centered at (0.5,\n",
    "                # 0.5) in axes coordinates.\n",
    "                spine.set_transform(Affine2D().scale(.5).translate(.5, .5)\n",
    "                                    + self.transAxes)\n",
    "                return {'polar': spine}\n",
    "            else:\n",
    "                raise ValueError(\"Unknown value for 'frame': %s\" % frame)\n",
    "\n",
    "    register_projection(RadarAxes)\n",
    "    return theta"
   ]
  },
  {
   "cell_type": "markdown",
   "id": "breeding-letter",
   "metadata": {},
   "source": [
    "**3、设置绘图程序**"
   ]
  },
  {
   "cell_type": "code",
   "execution_count": null,
   "id": "overall-design",
   "metadata": {},
   "outputs": [],
   "source": [
    "if __name__ == '__main__':\n",
    "    \n",
    "    #############################  参数和输入数据设置  ###############################\n",
    "    N = 36 # pathway数\n",
    "    theta = radar_factory(N, frame='polygon')\n",
    "\n",
    "    # pathway名称的列表\n",
    "    spoke_labels = list(pvalue_df['names'])\n",
    "    \n",
    "    # 表型的颜色\n",
    "    colors = ['b', 'r', 'g']\n",
    "    \n",
    "    ############################# 绘图 ##################################\n",
    "\n",
    "    fig, ax = plt.subplots(figsize=(25, 25), subplot_kw=dict(projection='radar'))\n",
    "\n",
    "    # Plot the four cases from the example data on separate axes\n",
    "    # title = 'Enterocytes'\n",
    "    case_data = zscore_df.set_index('names').values.T\n",
    "    \n",
    "    pvalue = pvalue_df.set_index('names').values.T\n",
    "    \n",
    "    ax.set_rgrids([-100, -50, 0, 50, 100])\n",
    "    \n",
    "    # ax.set_title(title, weight='bold', size='medium', position=(0.5, 1.1),horizontalalignment='center', verticalalignment='center')\n",
    "    # 按行读取数据（即按表型顺序读取）\n",
    "    \n",
    "    index = 0\n",
    "    for d, color in zip(case_data, colors):\n",
    "        ax.plot(theta, d, color=color)\n",
    "        ax.fill(theta, d, facecolor=color, alpha=0.25)\n",
    "        \n",
    "        # 二维向量横向展开\n",
    "        ax.scatter(theta, d, c=pvalue[index] , s=50, cmap = 'viridis')\n",
    "        index = index + 1\n",
    "        \n",
    "    ax.set_varlabels(spoke_labels)    \n",
    "    \n",
    "    # add legend relative to top-left plot\n",
    "    labels = ('Proximal SI', 'Distal SI', 'Colorectum')\n",
    "    legend = ax.legend(labels, loc=(0.9, .95),labelspacing=0.1, fontsize='small')\n",
    "\n",
    "    plt.show()"
   ]
  },
  {
   "cell_type": "code",
   "execution_count": null,
   "id": "designing-confidentiality",
   "metadata": {},
   "outputs": [],
   "source": [
    "if __name__ == '__main__':\n",
    "    \n",
    "    #############################  参数和输入数据设置  ###############################\n",
    "    N = 36 # pathway数\n",
    "    theta = radar_factory(N, frame='polygon')\n",
    "\n",
    "    # pathway名称的列表\n",
    "    spoke_labels = list(pvalue_df['names'])\n",
    "    \n",
    "    # 表型的颜色\n",
    "    colors = ['b', 'r', 'g']\n",
    "    \n",
    "    ############################# 绘图 ##################################\n",
    "\n",
    "    fig, ax = plt.subplots(figsize=(15, 15), subplot_kw=dict(projection='radar'))\n",
    "\n",
    "    # Plot the four cases from the example data on separate axes\n",
    "    # title = 'Enterocytes'\n",
    "    case_data = zscore_df.set_index('names').values.T\n",
    "    \n",
    "    pvalue = pvalue_df.set_index('names').values.T\n",
    "    \n",
    "    ax.set_rgrids([-100, -50, 0, 50, 100], fontsize=20)\n",
    "    \n",
    "    # ax.set_title(title, weight='bold', size='medium', position=(0.5, 1.1),horizontalalignment='center', verticalalignment='center')\n",
    "    # 按行读取数据（即按表型顺序读取）\n",
    "    \n",
    "    for d, color in zip(case_data, colors):\n",
    "        ax.plot(theta, d, color=color)\n",
    "        ax.fill(theta, d, facecolor=color, alpha=0.25)\n",
    "        \n",
    "    index = 0\n",
    "    for d, color in zip(case_data, colors):\n",
    "        # 二维向量横向展开\n",
    "        ax.scatter(theta, d, c=pvalue[index] , s=80, cmap = 'viridis')\n",
    "        index = index + 1\n",
    "        \n",
    "    ax.set_varlabels(['','','','','','','','','','','','','','','','','','','','','','','','','','','','','','','','','','','','',])    \n",
    "    \n",
    "    # add legend relative to top-left plot\n",
    "    labels = ('Proximal SI', 'Distal SI', 'Colorectum')\n",
    "    legend = ax.legend(labels, loc=(0.9, .95),labelspacing=0.1, fontsize='small')\n",
    "\n",
    "    plt.show()"
   ]
  },
  {
   "cell_type": "code",
   "execution_count": null,
   "id": "wireless-maker",
   "metadata": {},
   "outputs": [],
   "source": [
    "if __name__ == '__main__':\n",
    "    \n",
    "    #############################  参数和输入数据设置  ###############################\n",
    "    N = 36 # pathway数\n",
    "    theta = radar_factory(N, frame='polygon')\n",
    "\n",
    "    # pathway名称的列表\n",
    "    spoke_labels = list(pvalue_df['names'])\n",
    "    \n",
    "    # 表型的颜色\n",
    "    colors = ['b', 'r', 'g']\n",
    "    \n",
    "    ############################# 绘图 ##################################\n",
    "\n",
    "    fig, ax = plt.subplots(figsize=(15, 15), subplot_kw=dict(projection='radar'))\n",
    "\n",
    "    # Plot the four cases from the example data on separate axes\n",
    "    # title = 'Enterocytes'\n",
    "    case_data = zscore_df.set_index('names').values.T\n",
    "    \n",
    "    pvalue = pvalue_df.set_index('names').values.T\n",
    "    \n",
    "    ax.set_rgrids([-100, -50, 0, 50, 100], fontsize= 0)\n",
    "    \n",
    "    # ax.set_title(title, weight='bold', size='medium', position=(0.5, 1.1),horizontalalignment='center', verticalalignment='center')\n",
    "    # 按行读取数据（即按表型顺序读取）\n",
    "    \n",
    "    for d, color in zip(case_data, colors):\n",
    "        ax.plot(theta, d, color=color)\n",
    "        ax.fill(theta, d, facecolor=color, alpha=0.25)\n",
    "        \n",
    "    index = 0\n",
    "    for d, color in zip(case_data, colors):\n",
    "        # 二维向量横向展开\n",
    "        ax.scatter(theta, d, c=pvalue[index] , s=200, cmap = 'viridis',edgecolors = '#000000')\n",
    "        index = index + 1\n",
    "        \n",
    "    ax.set_varlabels(['','','','','','','','','','','','','','','','','','','','','','','','','','','','','','','','','','','','',])    \n",
    "    \n",
    "    # add legend relative to top-left plot\n",
    "    labels = ('Proximal SI', 'Distal SI', 'Colorectum')\n",
    "    legend = ax.legend(labels, loc=(0.9, .95),labelspacing=0.1, fontsize='small')\n",
    "    plt.legend([],[], frameon=False)\n",
    "\n",
    "    plt.show()"
   ]
  },
  {
   "cell_type": "markdown",
   "id": "institutional-google",
   "metadata": {},
   "source": [
    "## Barplot-Figure3Aii"
   ]
  },
  {
   "cell_type": "code",
   "execution_count": null,
   "id": "liked-pricing",
   "metadata": {},
   "outputs": [],
   "source": [
    "\n",
    "import matplotlib.pyplot as plt\n",
    "import numpy as np\n",
    "\n",
    "n = 12\n",
    "X = np.arange(n)\n",
    "Y1 = (1 - X / float(n)) * np.random.uniform(0.5, 1.0, n)\n",
    "Y2 = (1 - X / float(n)) * np.random.uniform(0.5, 1.0, n)\n",
    "\n",
    "plt.bar(X, +Y1)\n",
    "plt.bar(X, -Y2)\n",
    "\n",
    "plt.xlim(-.5, n)\n",
    "\n",
    "plt.ylim(-1.25, 1.25)\n",
    "#隐藏坐标轴刻度数字\n",
    "#plt.xticks(())\n",
    "#plt.yticks(())\n",
    "#移动坐标轴\n",
    "# ax=plt.gca()\n",
    "# ax.spines['bottom'].set_position(('data',0))\n",
    "\n",
    "plt.show()\n"
   ]
  },
  {
   "cell_type": "code",
   "execution_count": null,
   "id": "alike-louis",
   "metadata": {},
   "outputs": [],
   "source": [
    "n = 10\n",
    "X = np.arange(n)\n",
    "Y = [-1,1,2,3,-2,5,6,-1,-5,6]\n",
    "\n",
    "plt.bar(X, Y)\n",
    "\n",
    "plt.xlim(-.5, n)\n",
    "\n",
    "plt.ylim(-6, 6)\n",
    "\n",
    "plt.grid(False)\n",
    "plt.show()"
   ]
  },
  {
   "cell_type": "code",
   "execution_count": null,
   "id": "rational-survivor",
   "metadata": {},
   "outputs": [],
   "source": [
    "df_gene_list = pd.read_csv('/mnt/data/Project2021/Gut_immune_surveillance/outputs/Figure3Aii.csv')\n",
    "df_gene_list"
   ]
  },
  {
   "cell_type": "code",
   "execution_count": null,
   "id": "muslim-anchor",
   "metadata": {},
   "outputs": [],
   "source": [
    "X = list(df_gene_list['names'])\n",
    "\n",
    "Y = list(df_gene_list['logfoldchanges'])\n",
    "\n",
    "Y1 = []\n",
    "Y2 = []\n",
    "\n",
    "for i in list(df_gene_list['logfoldchanges']):\n",
    "    if i >= 0:\n",
    "        j = i\n",
    "    else:\n",
    "        j = 0\n",
    "        \n",
    "    Y1.append(j)\n",
    "    \n",
    "    if i <= 0:\n",
    "        k = i\n",
    "    else:\n",
    "        k = 0\n",
    "        \n",
    "    Y2.append(k)"
   ]
  },
  {
   "cell_type": "code",
   "execution_count": null,
   "id": "fabulous-distributor",
   "metadata": {},
   "outputs": [],
   "source": [
    "fig, ax = plt.subplots(figsize=(25, 12))\n",
    "\n",
    "\n",
    "plt.bar(X, Y1, color=['#a00627'])\n",
    "plt.bar(X, Y2, color=['#404a9f'])\n",
    "\n",
    "plt.xlim(-1, len(X))\n",
    "\n",
    "plt.ylim(-5, 5)\n",
    "\n",
    "plt.grid(False)\n",
    "#隐藏坐标轴刻度数字\n",
    "plt.xticks(())\n",
    "# plt.yticks(())\n",
    "#移动坐标轴\n",
    "# ax=plt.gca()\n",
    "# ax.spines['bottom'].set_position(('data',0))\n",
    "\n",
    "plt.show()"
   ]
  },
  {
   "cell_type": "markdown",
   "id": "breathing-party",
   "metadata": {},
   "source": [
    "## Venn"
   ]
  },
  {
   "cell_type": "markdown",
   "id": "sticky-islam",
   "metadata": {},
   "source": [
    "**Proximal SI**"
   ]
  },
  {
   "cell_type": "code",
   "execution_count": null,
   "id": "immediate-model",
   "metadata": {},
   "outputs": [],
   "source": [
    "import matplotlib.pyplot as plt\n",
    "from matplotlib_venn import venn2, venn2_circles\n",
    "\n",
    "# Change one group only\n",
    "v=venn2(subsets = (1115, 171, 242), set_labels = ('', ''))\n",
    "c=venn2_circles(subsets = (1115, 171, 242), linewidth=1, color=\"grey\")\n",
    "# c[0].set_lw(8.0)\n",
    "# c[0].set_ls('dotted')\n",
    "\n",
    "# c[1].set_color('#ad1c1c')\n",
    "# c[0].set_color('#404a9f')\n",
    "\n",
    "# c=venn2_circles(subsets = (1115, 171, 242), linewidth=1, color=\"grey\")\n",
    "plt.show()"
   ]
  },
  {
   "cell_type": "markdown",
   "id": "broken-shore",
   "metadata": {},
   "source": [
    "**Ileum**"
   ]
  },
  {
   "cell_type": "code",
   "execution_count": null,
   "id": "mobile-secret",
   "metadata": {},
   "outputs": [],
   "source": [
    "import matplotlib.pyplot as plt\n",
    "from matplotlib_venn import venn2, venn2_circles\n",
    "\n",
    "# Change one group only\n",
    "v=venn2(subsets = (224, 310, 196), set_labels = ('', ''))\n",
    "c=venn2_circles(subsets = (224, 310, 196), linewidth=1, color=\"grey\")\n",
    "\n",
    "plt.show()"
   ]
  },
  {
   "cell_type": "markdown",
   "id": "concerned-broadcast",
   "metadata": {},
   "source": [
    "**Colorectum**"
   ]
  },
  {
   "cell_type": "code",
   "execution_count": null,
   "id": "informal-manual",
   "metadata": {},
   "outputs": [],
   "source": [
    "import matplotlib.pyplot as plt\n",
    "from matplotlib_venn import venn2, venn2_circles\n",
    "\n",
    "# Change one group only\n",
    "v=venn2(subsets = (469, 35, 23), set_labels = ('', ''))\n",
    "c=venn2_circles(subsets = (469, 35, 23), linewidth=1, color=\"grey\")\n",
    "\n",
    "plt.show()"
   ]
  },
  {
   "cell_type": "markdown",
   "id": "decent-insider",
   "metadata": {},
   "source": [
    "## Bar plot"
   ]
  },
  {
   "cell_type": "code",
   "execution_count": null,
   "id": "printable-story",
   "metadata": {},
   "outputs": [],
   "source": [
    "# create a dataset\n",
    "height = [0.82, 0.53, 0.95]\n",
    "bars = (' ', ' ', ' ')\n",
    "x_pos = np.arange(len(bars))\n",
    "\n",
    "fig, ax = plt.subplots(figsize=(20, 3))\n",
    "# Create bars with different colors\n",
    "plt.bar(x_pos, height, color=['blue', 'red', 'green'])\n",
    "\n",
    "# Create names on the x-axis\n",
    "plt.xticks(x_pos, bars, fontsize = 30)\n",
    "plt.yticks([0.0, 0.2, 0.4, 0.6, 0.8, 1.0 ], fontsize = 30)\n",
    "\n",
    "plt.grid(False)\n",
    "\n",
    "print(ax.axis())\n",
    "# ax.axis([-0.54, 2.5400000000000005, 0.0, 1])\n",
    "\n",
    "ax.spines['top'].set_visible(False)\n",
    "ax.spines['right'].set_visible(False)\n",
    "\n",
    "plt.show()"
   ]
  }
 ],
 "metadata": {
  "kernelspec": {
   "display_name": "Python [conda env:singlecell] *",
   "language": "python",
   "name": "conda-env-singlecell-py"
  },
  "language_info": {
   "codemirror_mode": {
    "name": "ipython",
    "version": 3
   },
   "file_extension": ".py",
   "mimetype": "text/x-python",
   "name": "python",
   "nbconvert_exporter": "python",
   "pygments_lexer": "ipython3",
   "version": "3.7.10"
  },
  "toc": {
   "base_numbering": 1,
   "nav_menu": {},
   "number_sections": true,
   "sideBar": true,
   "skip_h1_title": false,
   "title_cell": "Table of Contents",
   "title_sidebar": "Contents",
   "toc_cell": false,
   "toc_position": {
    "height": "calc(100% - 180px)",
    "left": "10px",
    "top": "150px",
    "width": "197px"
   },
   "toc_section_display": true,
   "toc_window_display": false
  }
 },
 "nbformat": 4,
 "nbformat_minor": 5
}
