{
 "cells": [
  {
   "cell_type": "markdown",
   "id": "mounted-federation",
   "metadata": {},
   "source": [
    "# The latest RDS data"
   ]
  },
  {
   "cell_type": "code",
   "execution_count": null,
   "id": "upset-average",
   "metadata": {},
   "outputs": [],
   "source": [
    "library(Signac)\n",
    "library(Seurat)\n",
    "library(EnsDb.Hsapiens.v86)\n",
    "library(BSgenome.Hsapiens.UCSC.hg38)\n",
    "library(JASPAR2020)\n",
    "library(TFBSTools)\n",
    "\n",
    "set.seed(1234)\n",
    "\n",
    "library(future)\n",
    "plan(\"multicore\", workers = 6)\n",
    "plan()\n",
    "options(future.globals.maxSize = 50 * 1024 ^ 3) # for 50 Gb RAM"
   ]
  },
  {
   "cell_type": "code",
   "execution_count": null,
   "id": "prepared-agreement",
   "metadata": {},
   "outputs": [],
   "source": [
    "hm.integrated = readRDS(\"/mnt/data2/Project_outputs/Project2021_22/Gut_immune_surveillance/rds/combined_ATAC_epi_cluster.rds\")\n",
    "hm.integrated"
   ]
  },
  {
   "cell_type": "markdown",
   "id": "cooked-footage",
   "metadata": {},
   "source": [
    "# 处理.bed格式的fragments文件"
   ]
  },
  {
   "cell_type": "markdown",
   "id": "noted-johns",
   "metadata": {},
   "source": [
    "https://github.com/timoast/signac/discussions/908\n",
    "\n",
    "仅使用fragments作为Signac的输入。"
   ]
  },
  {
   "cell_type": "markdown",
   "id": "narrative-xerox",
   "metadata": {},
   "source": [
    "**Server**: for-basic-calculations **8vCPUs | 64GiB**\n",
    "\n",
    "**Environment**: **Python** [conda env:singlecell] [conda env: MACS] & **Shell**\n",
    "\n",
    "**Data**: Ileum and Colon ATAC .bed /mnt/data2/Datasets/ATAC_data/Cell2021_human_adult_multiple_organs_scATAC/bed\n",
    "\n",
    "**Time**: 2022.01.03-2022.01.05\n",
    "\n",
    "**Researcher**: Wang Yue"
   ]
  },
  {
   "cell_type": "markdown",
   "id": "insured-survivor",
   "metadata": {},
   "source": [
    "**(1) 对原使用gzip压缩的.bed文件进行解压并sort，然后重新使用bgzip压缩**"
   ]
  },
  {
   "cell_type": "markdown",
   "id": "eight-comparison",
   "metadata": {},
   "source": [
    "使用bgzip对.tsv文件进行二值化压缩 to .tsv.gz，注意，不能使用gzip，否则无法进行索引操作（生成.tbi文件）。以其中一个为例：\n",
    "\n",
    "Source（https://github.com/timoast/signac/issues/138）"
   ]
  },
  {
   "cell_type": "code",
   "execution_count": null,
   "id": "israeli-tourist",
   "metadata": {},
   "outputs": [],
   "source": [
    "! cd /mnt/data2/Datasets/ATAC_data/Cell2021_human_adult_multiple_organs_scATAC/bed\n",
    "! gzip -d -k Ileum_JF1O2.bed.gz\n",
    "! bedtools sort -i Ileum_JF1O2.bed > Ileum_JF1O2_sort.bed\n",
    "! bgzip -@ 7 Ileum_JF1O2_sort.bed"
   ]
  },
  {
   "cell_type": "code",
   "execution_count": null,
   "id": "formal-course",
   "metadata": {},
   "outputs": [],
   "source": [
    "# 使用tabix检查sort和bgzip处理后的bed.gz文件是否正确\n",
    "! tabix -p bed Ileum_JF1O2_sort.bed.gz "
   ]
  },
  {
   "cell_type": "markdown",
   "id": "practical-corps",
   "metadata": {},
   "source": [
    "**(2) 将.bed格式的fragments文件处理为符合MACS3和Signac读取格式的fragments.tsv.gz文件，以及.tbi文件**"
   ]
  },
  {
   "cell_type": "markdown",
   "id": "isolated-magnitude",
   "metadata": {},
   "source": [
    "Convert .bed(6列) to .tsv(5列，Signac格式)"
   ]
  },
  {
   "cell_type": "code",
   "execution_count": null,
   "id": "contained-matter",
   "metadata": {},
   "outputs": [],
   "source": [
    "file_in_path = '/mnt/data2/Datasets/ATAC_data/Cell2021_human_adult_multiple_organs_scATAC/bed/sort/'\n",
    "\n",
    "file_out_path = '/mnt/data2/Datasets/ATAC_data/Cell2021_human_adult_multiple_organs_scATAC/TSV/'"
   ]
  },
  {
   "cell_type": "code",
   "execution_count": null,
   "id": "polished-greene",
   "metadata": {},
   "outputs": [],
   "source": [
    "import os\n",
    "\n",
    "def fine_file_name(file_in_path):\n",
    "    for root, dirs, files in os.walk(file_in_path):\n",
    "        print('The dataset has '+str(len(files))+' samples.')\n",
    "        print('sub_dirs:', files)  # 当前路径下所有子目录\n",
    "        file_name_list = files\n",
    "        return file_name_list\n",
    "    \n",
    "file_name_list = fine_file_name(file_in_path)"
   ]
  },
  {
   "cell_type": "code",
   "execution_count": null,
   "id": "preceding-celebrity",
   "metadata": {},
   "outputs": [],
   "source": [
    "import pandas as pd\n",
    "# 取dataframe文件的前5列，存储为TSV格式\n",
    "for i in file_name_list:\n",
    "    print('file '+i+' is being processed.')\n",
    "    df = pd.read_csv(file_in_path+i, sep='\\t', comment='t', header=None)\n",
    "    df = df.loc[:,[0,1,2,3,4]]\n",
    "    j = i.split('.')[0]\n",
    "    print('file '+j+'.tsv'+' is being saved.')\n",
    "    df.to_csv(file_out_path+j+'.tsv', sep='\\t', header=None, index=False)"
   ]
  },
  {
   "cell_type": "code",
   "execution_count": null,
   "id": "cutting-eugene",
   "metadata": {},
   "outputs": [],
   "source": [
    "# 将.tsv文件使用bgzip压缩为tsv.gz文件，并使用tabix命令生成.tbi文件\n",
    "! cd /mnt/data2/Datasets/ATAC_data/Cell2021_human_adult_multiple_organs_scATAC/TSV/\n",
    "! bgzip -@ 7 Ileum_JF1O2_sort.tsv\n",
    "! tabix -p bed Ileum_JF1O2_sort.tsv.gz "
   ]
  },
  {
   "cell_type": "markdown",
   "id": "daily-vampire",
   "metadata": {},
   "source": [
    "**(3) 使用MACS3处理fragments文件，生成类似10X CellRanger-ATAC输出的.bed文件和用于转换矩阵的.narrowPeak文件**"
   ]
  },
  {
   "cell_type": "markdown",
   "id": "needed-banana",
   "metadata": {},
   "source": [
    "Ileum"
   ]
  },
  {
   "cell_type": "code",
   "execution_count": null,
   "id": "romance-administration",
   "metadata": {},
   "outputs": [],
   "source": [
    "! conda activate MACS\n",
    "! macs3 callpeak -t /mnt/data2/Datasets/ATAC_data/Cell2021_human_adult_multiple_organs_scATAC/TSV/Ileum_JF1O2_sort.tsv.gz -g 2.7e+09 -f BED --nomodel --extsize 200 --shift -100 -n Ileum_JF1O2 --outdir /mnt/data2/Datasets/ATAC_data/Cell2021_human_adult_multiple_organs_scATAC/MACS"
   ]
  },
  {
   "cell_type": "code",
   "execution_count": null,
   "id": "casual-uncertainty",
   "metadata": {},
   "outputs": [],
   "source": [
    "! macs3 callpeak -t /mnt/data2/Datasets/ATAC_data/Cell2021_human_adult_multiple_organs_scATAC/TSV/Ileum_ADA5F_sort.tsv.gz -g 2.7e+09 -f BED --nomodel --extsize 200 --shift -100 -n Ileum_ADA5F --outdir /mnt/data2/Datasets/ATAC_data/Cell2021_human_adult_multiple_organs_scATAC/MACS"
   ]
  },
  {
   "cell_type": "code",
   "execution_count": null,
   "id": "intimate-format",
   "metadata": {},
   "outputs": [],
   "source": [
    "! macs3 callpeak -t /mnt/data2/Datasets/ATAC_data/Cell2021_human_adult_multiple_organs_scATAC/TSV/Ileum_A62GO_sort.tsv.gz -g 2.7e+09 -f BED --nomodel --extsize 200 --shift -100 -n Ileum_A62GO --outdir /mnt/data2/Datasets/ATAC_data/Cell2021_human_adult_multiple_organs_scATAC/MACS"
   ]
  },
  {
   "cell_type": "markdown",
   "id": "stunning-speaking",
   "metadata": {},
   "source": [
    "Colon_transverse"
   ]
  },
  {
   "cell_type": "code",
   "execution_count": null,
   "id": "informational-retrieval",
   "metadata": {},
   "outputs": [],
   "source": [
    "! macs3 callpeak -t /mnt/data2/Datasets/ATAC_data/Cell2021_human_adult_multiple_organs_scATAC/TSV/Colon_transverse_CSSDA_sort.tsv.gz -g 2.7e+09 -f BED --nomodel --extsize 200 --shift -100 -n Colon_transverse_CSSDA --outdir /mnt/data2/Datasets/ATAC_data/Cell2021_human_adult_multiple_organs_scATAC/MACS"
   ]
  },
  {
   "cell_type": "code",
   "execution_count": null,
   "id": "charged-national",
   "metadata": {},
   "outputs": [],
   "source": [
    "! macs3 callpeak -t /mnt/data2/Datasets/ATAC_data/Cell2021_human_adult_multiple_organs_scATAC/TSV/Colon_transverse_BZ2ZS_sort.tsv.gz -g 2.7e+09 -f BED --nomodel --extsize 200 --shift -100 -n Colon_transverse_BZ2ZS --outdir /mnt/data2/Datasets/ATAC_data/Cell2021_human_adult_multiple_organs_scATAC/MACS"
   ]
  },
  {
   "cell_type": "code",
   "execution_count": null,
   "id": "organized-pound",
   "metadata": {},
   "outputs": [],
   "source": [
    "! macs3 callpeak -t /mnt/data2/Datasets/ATAC_data/Cell2021_human_adult_multiple_organs_scATAC/TSV/Colon_transverse_ACCQ1_sort.tsv.gz -g 2.7e+09 -f BED --nomodel --extsize 200 --shift -100 -n Colon_transverse_ACCQ1 --outdir /mnt/data2/Datasets/ATAC_data/Cell2021_human_adult_multiple_organs_scATAC/MACS"
   ]
  },
  {
   "cell_type": "code",
   "execution_count": null,
   "id": "useful-copper",
   "metadata": {},
   "outputs": [],
   "source": [
    "! macs3 callpeak -t /mnt/data2/Datasets/ATAC_data/Cell2021_human_adult_multiple_organs_scATAC/TSV/Colon_transverse_A9VP4_sort.tsv.gz -g 2.7e+09 -f BED --nomodel --extsize 200 --shift -100 -n Colon_transverse_A9VP4 --outdir /mnt/data2/Datasets/ATAC_data/Cell2021_human_adult_multiple_organs_scATAC/MACS"
   ]
  },
  {
   "cell_type": "code",
   "execution_count": null,
   "id": "affected-advance",
   "metadata": {},
   "outputs": [],
   "source": [
    "! macs3 callpeak -t /mnt/data2/Datasets/ATAC_data/Cell2021_human_adult_multiple_organs_scATAC/TSV/Colon_transverse_A9HOW_sort.tsv.gz -g 2.7e+09 -f BED --nomodel --extsize 200 --shift -100 -n Colon_transverse_A9HOW --outdir /mnt/data2/Datasets/ATAC_data/Cell2021_human_adult_multiple_organs_scATAC/MACS"
   ]
  },
  {
   "cell_type": "markdown",
   "id": "ranking-distinction",
   "metadata": {},
   "source": [
    "Colon_sigmoid"
   ]
  },
  {
   "cell_type": "code",
   "execution_count": null,
   "id": "injured-giving",
   "metadata": {},
   "outputs": [],
   "source": [
    "! macs3 callpeak -t /mnt/data2/Datasets/ATAC_data/Cell2021_human_adult_multiple_organs_scATAC/TSV/Colon_sigmoid_JF1O8_sort.tsv.gz -g 2.7e+09 -f BED --nomodel --extsize 200 --shift -100 -n Colon_sigmoid_JF1O8 --outdir /mnt/data2/Datasets/ATAC_data/Cell2021_human_adult_multiple_organs_scATAC/MACS"
   ]
  },
  {
   "cell_type": "code",
   "execution_count": null,
   "id": "possible-variance",
   "metadata": {},
   "outputs": [],
   "source": [
    "! macs3 callpeak -t /mnt/data2/Datasets/ATAC_data/Cell2021_human_adult_multiple_organs_scATAC/TSV/Colon_sigmoid_AZPYO_sort.tsv.gz -g 2.7e+09 -f BED --nomodel --extsize 200 --shift -100 -n Colon_sigmoid_AZPYO --outdir /mnt/data2/Datasets/ATAC_data/Cell2021_human_adult_multiple_organs_scATAC/MACS"
   ]
  },
  {
   "cell_type": "markdown",
   "id": "potential-poster",
   "metadata": {},
   "source": [
    "# Signac-Merge data"
   ]
  },
  {
   "cell_type": "markdown",
   "id": "indirect-possibility",
   "metadata": {},
   "source": [
    "**Server**: for-basic-calculations **8vCPUs | 64GiB**\n",
    "\n",
    "**Environment**: **R [conda env:atac]**\n",
    "\n",
    "**Time**: 2022.01.05\n",
    "\n",
    "**Researcher**: Wang Yue"
   ]
  },
  {
   "cell_type": "code",
   "execution_count": null,
   "id": "conservative-lodge",
   "metadata": {},
   "outputs": [],
   "source": [
    "library(Signac)\n",
    "library(Seurat)\n",
    "library(EnsDb.Hsapiens.v86)\n",
    "library(BSgenome.Hsapiens.UCSC.hg38)\n",
    "\n",
    "set.seed(1234)\n",
    "\n",
    "library(future)\n",
    "plan(\"multicore\", workers = 6)\n",
    "plan()\n",
    "options(future.globals.maxSize = 50 * 1024 ^ 3) # for 50 Gb RAM"
   ]
  },
  {
   "cell_type": "code",
   "execution_count": null,
   "id": "statewide-empty",
   "metadata": {},
   "outputs": [],
   "source": [
    "annotation <- GetGRangesFromEnsDb(ensdb = EnsDb.Hsapiens.v86)\n",
    "seqlevelsStyle(annotation) <- \"UCSC\""
   ]
  },
  {
   "cell_type": "markdown",
   "id": "terminal-husband",
   "metadata": {},
   "source": [
    "## Combine_peaks"
   ]
  },
  {
   "cell_type": "code",
   "execution_count": null,
   "id": "coupled-toolbox",
   "metadata": {},
   "outputs": [],
   "source": [
    "# Peaks\n",
    "Peakpath_Ileum_JF1O2 = \"/mnt/data2/Datasets/ATAC_data/Cell2021_human_adult_multiple_organs_scATAC/MACS/Ileum_JF1O2_peaks.narrowPeak\"\n",
    "Peakpath_Ileum_A62GO = \"/mnt/data2/Datasets/ATAC_data/Cell2021_human_adult_multiple_organs_scATAC/MACS/Ileum_A62GO_peaks.narrowPeak\"\n",
    "Peakpath_Ileum_ADA5F = \"/mnt/data2/Datasets/ATAC_data/Cell2021_human_adult_multiple_organs_scATAC/MACS/Ileum_ADA5F_peaks.narrowPeak\"\n",
    "\n",
    "Peakpath_Colon_JF1O8 = \"/mnt/data2/Datasets/ATAC_data/Cell2021_human_adult_multiple_organs_scATAC/MACS/Colon_sigmoid_JF1O8_peaks.narrowPeak\"\n",
    "Peakpath_Colon_AZPYO = \"/mnt/data2/Datasets/ATAC_data/Cell2021_human_adult_multiple_organs_scATAC/MACS/Colon_sigmoid_AZPYO_peaks.narrowPeak\"\n",
    "\n",
    "Peakpath_Colon_BZ2ZS = \"/mnt/data2/Datasets/ATAC_data/Cell2021_human_adult_multiple_organs_scATAC/MACS/Colon_transverse_BZ2ZS_peaks.narrowPeak\"\n",
    "Peakpath_Colon_A9VP4 = \"/mnt/data2/Datasets/ATAC_data/Cell2021_human_adult_multiple_organs_scATAC/MACS/Colon_transverse_A9VP4_peaks.narrowPeak\"\n",
    "Peakpath_Colon_CSSDA = \"/mnt/data2/Datasets/ATAC_data/Cell2021_human_adult_multiple_organs_scATAC/MACS/Colon_transverse_CSSDA_peaks.narrowPeak\"\n",
    "Peakpath_Colon_ACCQ1 = \"/mnt/data2/Datasets/ATAC_data/Cell2021_human_adult_multiple_organs_scATAC/MACS/Colon_transverse_ACCQ1_peaks.narrowPeak\"\n",
    "Peakpath_Colon_A9HOW = \"/mnt/data2/Datasets/ATAC_data/Cell2021_human_adult_multiple_organs_scATAC/MACS/Colon_transverse_A9HOW_peaks.narrowPeak\""
   ]
  },
  {
   "cell_type": "code",
   "execution_count": null,
   "id": "capital-twelve",
   "metadata": {},
   "outputs": [],
   "source": [
    "df_Ileum_JF1O2 <- read.table(file = Peakpath_Ileum_JF1O2, \n",
    "                 col.names = c(\"chr\", \"start\", \"end\", \"name\", \"score\", \"strand\", \"fold_change\", \"neg_log10pvalue_summit\", \n",
    "                               \"neg_log10qvalue_summit\", \"relative_summit_position\") )\n",
    "\n",
    "df_Ileum_A62GO <- read.table(file = Peakpath_Ileum_A62GO, \n",
    "                 col.names = c(\"chr\", \"start\", \"end\", \"name\", \"score\", \"strand\", \"fold_change\", \"neg_log10pvalue_summit\", \n",
    "                               \"neg_log10qvalue_summit\", \"relative_summit_position\") )\n",
    "\n",
    "df_Ileum_ADA5F <- read.table(file = Peakpath_Ileum_ADA5F, \n",
    "                 col.names = c(\"chr\", \"start\", \"end\", \"name\", \"score\", \"strand\", \"fold_change\", \"neg_log10pvalue_summit\", \n",
    "                               \"neg_log10qvalue_summit\", \"relative_summit_position\") )\n",
    "\n",
    "df_Colon_JF1O8 <- read.table(file = Peakpath_Colon_JF1O8, \n",
    "                 col.names = c(\"chr\", \"start\", \"end\", \"name\", \"score\", \"strand\", \"fold_change\", \"neg_log10pvalue_summit\", \n",
    "                               \"neg_log10qvalue_summit\", \"relative_summit_position\") )\n",
    "\n",
    "df_Colon_AZPYO <- read.table(file = Peakpath_Colon_AZPYO, \n",
    "                 col.names = c(\"chr\", \"start\", \"end\", \"name\", \"score\", \"strand\", \"fold_change\", \"neg_log10pvalue_summit\", \n",
    "                               \"neg_log10qvalue_summit\", \"relative_summit_position\") )\n",
    "\n",
    "df_Colon_BZ2ZS <- read.table(file = Peakpath_Colon_BZ2ZS, \n",
    "                 col.names = c(\"chr\", \"start\", \"end\", \"name\", \"score\", \"strand\", \"fold_change\", \"neg_log10pvalue_summit\", \n",
    "                               \"neg_log10qvalue_summit\", \"relative_summit_position\") )\n",
    "\n",
    "df_Colon_A9VP4 <- read.table(file = Peakpath_Colon_A9VP4, \n",
    "                 col.names = c(\"chr\", \"start\", \"end\", \"name\", \"score\", \"strand\", \"fold_change\", \"neg_log10pvalue_summit\", \n",
    "                               \"neg_log10qvalue_summit\", \"relative_summit_position\") )\n",
    "\n",
    "df_Colon_CSSDA <- read.table(file = Peakpath_Colon_CSSDA, \n",
    "                 col.names = c(\"chr\", \"start\", \"end\", \"name\", \"score\", \"strand\", \"fold_change\", \"neg_log10pvalue_summit\", \n",
    "                               \"neg_log10qvalue_summit\", \"relative_summit_position\") )\n",
    "\n",
    "df_Colon_ACCQ1 <- read.table(file = Peakpath_Colon_ACCQ1, \n",
    "                 col.names = c(\"chr\", \"start\", \"end\", \"name\", \"score\", \"strand\", \"fold_change\", \"neg_log10pvalue_summit\", \n",
    "                               \"neg_log10qvalue_summit\", \"relative_summit_position\") )\n",
    "\n",
    "df_Colon_A9HOW <- read.table(file = Peakpath_Colon_A9HOW, \n",
    "                 col.names = c(\"chr\", \"start\", \"end\", \"name\", \"score\", \"strand\", \"fold_change\", \"neg_log10pvalue_summit\", \n",
    "                               \"neg_log10qvalue_summit\", \"relative_summit_position\") )"
   ]
  },
  {
   "cell_type": "code",
   "execution_count": null,
   "id": "statutory-azerbaijan",
   "metadata": {},
   "outputs": [],
   "source": [
    "peaks_Ileum_JF1O2 <- makeGRangesFromDataFrame(df = df_Ileum_JF1O2, keep.extra.columns = TRUE)\n",
    "peaks_Ileum_A62GO <- makeGRangesFromDataFrame(df = df_Ileum_A62GO, keep.extra.columns = TRUE)\n",
    "peaks_Ileum_ADA5F <- makeGRangesFromDataFrame(df = df_Ileum_ADA5F, keep.extra.columns = TRUE)\n",
    "peaks_Colon_JF1O8 <- makeGRangesFromDataFrame(df = df_Colon_JF1O8, keep.extra.columns = TRUE)\n",
    "peaks_Colon_AZPYO <- makeGRangesFromDataFrame(df = df_Colon_AZPYO, keep.extra.columns = TRUE)\n",
    "peaks_Colon_BZ2ZS <- makeGRangesFromDataFrame(df = df_Colon_BZ2ZS, keep.extra.columns = TRUE)\n",
    "peaks_Colon_A9VP4 <- makeGRangesFromDataFrame(df = df_Colon_A9VP4, keep.extra.columns = TRUE)\n",
    "peaks_Colon_CSSDA <- makeGRangesFromDataFrame(df = df_Colon_CSSDA, keep.extra.columns = TRUE)\n",
    "peaks_Colon_ACCQ1 <- makeGRangesFromDataFrame(df = df_Colon_ACCQ1, keep.extra.columns = TRUE)\n",
    "peaks_Colon_A9HOW <- makeGRangesFromDataFrame(df = df_Colon_A9HOW, keep.extra.columns = TRUE)"
   ]
  },
  {
   "cell_type": "code",
   "execution_count": null,
   "id": "consistent-frost",
   "metadata": {},
   "outputs": [],
   "source": [
    "# Create a unified set of peaks to quantify in each dataset\n",
    "combined.peaks <- reduce(x = c(peaks_Ileum_JF1O2, peaks_Ileum_A62GO, peaks_Ileum_ADA5F,\n",
    "                               peaks_Colon_JF1O8,peaks_Colon_AZPYO,peaks_Colon_BZ2ZS,\n",
    "                               peaks_Colon_A9VP4,peaks_Colon_CSSDA,peaks_Colon_ACCQ1,\n",
    "                               peaks_Colon_A9HOW))\n",
    "\n",
    "# Filter out bad peaks based on length\n",
    "peakwidths <- width(combined.peaks)\n",
    "combined.peaks <- combined.peaks[peakwidths  < 10000 & peakwidths > 20]\n",
    "\n",
    "# remove peaks on nonstandard chromosomes and in genomic blacklist regions\n",
    "combined.peaks <- keepStandardChromosomes(combined.peaks, pruning.mode = \"coarse\")\n",
    "combined.peaks <- subsetByOverlaps(x = combined.peaks, ranges = blacklist_hg38_unified, invert = TRUE)\n",
    "combined.peaks"
   ]
  },
  {
   "cell_type": "markdown",
   "id": "stone-acrobat",
   "metadata": {},
   "source": [
    "## create seurat objects"
   ]
  },
  {
   "cell_type": "markdown",
   "id": "technological-venture",
   "metadata": {},
   "source": [
    "### Ileum_JF1O2"
   ]
  },
  {
   "cell_type": "code",
   "execution_count": null,
   "id": "israeli-lighting",
   "metadata": {},
   "outputs": [],
   "source": [
    "fragpath = \"/mnt/data2/Datasets/ATAC_data/Cell2021_human_adult_multiple_organs_scATAC/TSV/Ileum_JF1O2_sort.tsv.gz\""
   ]
  },
  {
   "cell_type": "code",
   "execution_count": null,
   "id": "controlled-liquid",
   "metadata": {},
   "outputs": [],
   "source": [
    "frags_object <- CreateFragmentObject(path = fragpath)\n",
    "\n",
    "# quantify counts in each peak\n",
    "macs2_counts <- FeatureMatrix(\n",
    "  fragments = frags_object,\n",
    "  features = combined.peaks\n",
    ")\n",
    "\n",
    "# create a new assay using the MACS2 peak set and add it to the Seurat object\n",
    "chrom_assay <- CreateChromatinAssay(\n",
    "  counts = macs2_counts,\n",
    "  fragments = fragpath,\n",
    "  sep = c(\":\", \"-\"),\n",
    "  genome = 'hg38',\n",
    "  annotation = annotation,\n",
    "  #min.cells = 10,\n",
    "  min.features = 200\n",
    ")\n",
    "\n",
    "Ileum_JF102 <- CreateSeuratObject(\n",
    "  counts = chrom_assay,\n",
    "  assay = \"peaks\"\n",
    ")\n",
    "\n",
    "Ileum_JF102"
   ]
  },
  {
   "cell_type": "markdown",
   "id": "requested-consortium",
   "metadata": {},
   "source": [
    "### Ileum_A62GO"
   ]
  },
  {
   "cell_type": "code",
   "execution_count": null,
   "id": "secondary-weekly",
   "metadata": {},
   "outputs": [],
   "source": [
    "fragpath = \"/mnt/data2/Datasets/ATAC_data/Cell2021_human_adult_multiple_organs_scATAC/TSV/Ileum_A62GO_sort.tsv.gz\""
   ]
  },
  {
   "cell_type": "code",
   "execution_count": null,
   "id": "final-scenario",
   "metadata": {},
   "outputs": [],
   "source": [
    "# create fragment objects\n",
    "frags_object <- CreateFragmentObject(path = fragpath)\n",
    "\n",
    "# quantify counts in each peak\n",
    "macs2_counts <- FeatureMatrix(\n",
    "  fragments = frags_object,\n",
    "  features = combined.peaks\n",
    ")\n",
    "\n",
    "# create a new assay using the MACS2 peak set and add it to the Seurat object\n",
    "chrom_assay <- CreateChromatinAssay(\n",
    "  counts = macs2_counts,\n",
    "  fragments = fragpath,\n",
    "  sep = c(\":\", \"-\"),\n",
    "  genome = 'hg38',\n",
    "  annotation = annotation,\n",
    "  #min.cells = 10,\n",
    "  min.features = 200\n",
    ")\n",
    "\n",
    "Ileum_A62GO <- CreateSeuratObject(\n",
    "  counts = chrom_assay,\n",
    "  assay = \"peaks\"\n",
    ")\n",
    "\n",
    "Ileum_A62GO"
   ]
  },
  {
   "cell_type": "markdown",
   "id": "tutorial-winning",
   "metadata": {},
   "source": [
    "### Ileum_ADA5F"
   ]
  },
  {
   "cell_type": "code",
   "execution_count": null,
   "id": "corresponding-sentence",
   "metadata": {},
   "outputs": [],
   "source": [
    "fragpath = \"/mnt/data2/Datasets/ATAC_data/Cell2021_human_adult_multiple_organs_scATAC/TSV/Ileum_ADA5F_sort.tsv.gz\""
   ]
  },
  {
   "cell_type": "code",
   "execution_count": null,
   "id": "parallel-procedure",
   "metadata": {},
   "outputs": [],
   "source": [
    "# create fragment objects\n",
    "frags_object <- CreateFragmentObject(path = fragpath)\n",
    "\n",
    "# quantify counts in each peak\n",
    "macs2_counts <- FeatureMatrix(\n",
    "  fragments = frags_object,\n",
    "  features = combined.peaks\n",
    ")\n",
    "\n",
    "# create a new assay using the MACS2 peak set and add it to the Seurat object\n",
    "chrom_assay <- CreateChromatinAssay(\n",
    "  counts = macs2_counts,\n",
    "  fragments = fragpath,\n",
    "  sep = c(\":\", \"-\"),\n",
    "  genome = 'hg38',\n",
    "  annotation = annotation,\n",
    "  #min.cells = 10,\n",
    "  min.features = 200\n",
    ")\n",
    "\n",
    "Ileum_ADA5F <- CreateSeuratObject(\n",
    "  counts = chrom_assay,\n",
    "  assay = \"peaks\"\n",
    ")\n",
    "\n",
    "Ileum_ADA5F"
   ]
  },
  {
   "cell_type": "markdown",
   "id": "established-matter",
   "metadata": {},
   "source": [
    "### Colon_sigmoid_JF1O8"
   ]
  },
  {
   "cell_type": "code",
   "execution_count": null,
   "id": "seasonal-fundamental",
   "metadata": {},
   "outputs": [],
   "source": [
    "fragpath = \"/mnt/data2/Datasets/ATAC_data/Cell2021_human_adult_multiple_organs_scATAC/TSV/Colon_sigmoid_JF1O8_sort.tsv.gz\""
   ]
  },
  {
   "cell_type": "code",
   "execution_count": null,
   "id": "spoken-popularity",
   "metadata": {},
   "outputs": [],
   "source": [
    "# create fragment objects\n",
    "frags_object <- CreateFragmentObject(path = fragpath)\n",
    "\n",
    "# quantify counts in each peak\n",
    "macs2_counts <- FeatureMatrix(\n",
    "  fragments = frags_object,\n",
    "  features = combined.peaks\n",
    ")\n",
    "\n",
    "# create a new assay using the MACS2 peak set and add it to the Seurat object\n",
    "chrom_assay <- CreateChromatinAssay(\n",
    "  counts = macs2_counts,\n",
    "  fragments = fragpath,\n",
    "  sep = c(\":\", \"-\"),\n",
    "  genome = 'hg38',\n",
    "  annotation = annotation,\n",
    "  #min.cells = 10,\n",
    "  min.features = 200\n",
    ")\n",
    "\n",
    "Colon_sigmoid_JF1O8 <- CreateSeuratObject(\n",
    "  counts = chrom_assay,\n",
    "  assay = \"peaks\"\n",
    ")\n",
    "\n",
    "Colon_sigmoid_JF1O8"
   ]
  },
  {
   "cell_type": "markdown",
   "id": "indoor-psychiatry",
   "metadata": {},
   "source": [
    "### Colon_sigmoid_AZPYO"
   ]
  },
  {
   "cell_type": "code",
   "execution_count": null,
   "id": "spoken-springfield",
   "metadata": {},
   "outputs": [],
   "source": [
    "fragpath = \"/mnt/data2/Datasets/ATAC_data/Cell2021_human_adult_multiple_organs_scATAC/TSV/Colon_sigmoid_AZPYO_sort.tsv.gz\""
   ]
  },
  {
   "cell_type": "code",
   "execution_count": null,
   "id": "deadly-sapphire",
   "metadata": {},
   "outputs": [],
   "source": [
    "# create fragment objects\n",
    "frags_object <- CreateFragmentObject(path = fragpath)\n",
    "\n",
    "# quantify counts in each peak\n",
    "macs2_counts <- FeatureMatrix(\n",
    "  fragments = frags_object,\n",
    "  features = combined.peaks\n",
    ")\n",
    "\n",
    "# create a new assay using the MACS2 peak set and add it to the Seurat object\n",
    "chrom_assay <- CreateChromatinAssay(\n",
    "  counts = macs2_counts,\n",
    "  fragments = fragpath,\n",
    "  sep = c(\":\", \"-\"),\n",
    "  genome = 'hg38',\n",
    "  annotation = annotation,\n",
    "  #min.cells = 10,\n",
    "  min.features = 200\n",
    ")\n",
    "\n",
    "Colon_sigmoid_AZPYO <- CreateSeuratObject(\n",
    "  counts = chrom_assay,\n",
    "  assay = \"peaks\"\n",
    ")\n",
    "\n",
    "Colon_sigmoid_AZPYO"
   ]
  },
  {
   "cell_type": "markdown",
   "id": "fossil-database",
   "metadata": {},
   "source": [
    "### Colon_transverse_BZ2ZS"
   ]
  },
  {
   "cell_type": "code",
   "execution_count": null,
   "id": "senior-fields",
   "metadata": {},
   "outputs": [],
   "source": [
    "fragpath = \"/mnt/data2/Datasets/ATAC_data/Cell2021_human_adult_multiple_organs_scATAC/TSV/Colon_transverse_BZ2ZS_sort.tsv.gz\""
   ]
  },
  {
   "cell_type": "code",
   "execution_count": null,
   "id": "every-capital",
   "metadata": {},
   "outputs": [],
   "source": [
    "# create fragment objects\n",
    "frags_object <- CreateFragmentObject(path = fragpath)\n",
    "\n",
    "# quantify counts in each peak\n",
    "macs2_counts <- FeatureMatrix(\n",
    "  fragments = frags_object,\n",
    "  features = combined.peaks\n",
    ")\n",
    "\n",
    "# create a new assay using the MACS2 peak set and add it to the Seurat object\n",
    "chrom_assay <- CreateChromatinAssay(\n",
    "  counts = macs2_counts,\n",
    "  fragments = fragpath,\n",
    "  sep = c(\":\", \"-\"),\n",
    "  genome = 'hg38',\n",
    "  annotation = annotation,\n",
    "  #min.cells = 10,\n",
    "  min.features = 200\n",
    ")\n",
    "\n",
    "Colon_transverse_BZ2ZS <- CreateSeuratObject(\n",
    "  counts = chrom_assay,\n",
    "  assay = \"peaks\"\n",
    ")\n",
    "\n",
    "Colon_transverse_BZ2ZS"
   ]
  },
  {
   "cell_type": "markdown",
   "id": "future-python",
   "metadata": {},
   "source": [
    "### Colon_transverse_A9VP4"
   ]
  },
  {
   "cell_type": "code",
   "execution_count": null,
   "id": "higher-maria",
   "metadata": {},
   "outputs": [],
   "source": [
    "fragpath = \"/mnt/data2/Datasets/ATAC_data/Cell2021_human_adult_multiple_organs_scATAC/TSV/Colon_transverse_A9VP4_sort.tsv.gz\""
   ]
  },
  {
   "cell_type": "code",
   "execution_count": null,
   "id": "blessed-welsh",
   "metadata": {},
   "outputs": [],
   "source": [
    "# create fragment objects\n",
    "frags_object <- CreateFragmentObject(path = fragpath)\n",
    "\n",
    "# quantify counts in each peak\n",
    "macs2_counts <- FeatureMatrix(\n",
    "  fragments = frags_object,\n",
    "  features = combined.peaks\n",
    ")\n",
    "\n",
    "# create a new assay using the MACS2 peak set and add it to the Seurat object\n",
    "chrom_assay <- CreateChromatinAssay(\n",
    "  counts = macs2_counts,\n",
    "  fragments = fragpath,\n",
    "  sep = c(\":\", \"-\"),\n",
    "  genome = 'hg38',\n",
    "  annotation = annotation,\n",
    "  #min.cells = 10,\n",
    "  min.features = 200\n",
    ")\n",
    "\n",
    "Colon_transverse_A9VP4 <- CreateSeuratObject(\n",
    "  counts = chrom_assay,\n",
    "  assay = \"peaks\"\n",
    ")\n",
    "\n",
    "Colon_transverse_A9VP4"
   ]
  },
  {
   "cell_type": "markdown",
   "id": "relative-occurrence",
   "metadata": {},
   "source": [
    "### Colon_transverse_CSSDA"
   ]
  },
  {
   "cell_type": "code",
   "execution_count": null,
   "id": "combined-elephant",
   "metadata": {},
   "outputs": [],
   "source": [
    "fragpath = \"/mnt/data2/Datasets/ATAC_data/Cell2021_human_adult_multiple_organs_scATAC/TSV/Colon_transverse_CSSDA_sort.tsv.gz\""
   ]
  },
  {
   "cell_type": "code",
   "execution_count": null,
   "id": "graphic-adolescent",
   "metadata": {},
   "outputs": [],
   "source": [
    "# create fragment objects\n",
    "frags_object <- CreateFragmentObject(path = fragpath)\n",
    "\n",
    "# quantify counts in each peak\n",
    "macs2_counts <- FeatureMatrix(\n",
    "  fragments = frags_object,\n",
    "  features = combined.peaks\n",
    ")\n",
    "\n",
    "# create a new assay using the MACS2 peak set and add it to the Seurat object\n",
    "chrom_assay <- CreateChromatinAssay(\n",
    "  counts = macs2_counts,\n",
    "  fragments = fragpath,\n",
    "  sep = c(\":\", \"-\"),\n",
    "  genome = 'hg38',\n",
    "  annotation = annotation,\n",
    "  #min.cells = 10,\n",
    "  min.features = 200\n",
    ")\n",
    "\n",
    "Colon_transverse_CSSDA <- CreateSeuratObject(\n",
    "  counts = chrom_assay,\n",
    "  assay = \"peaks\"\n",
    ")\n",
    "\n",
    "Colon_transverse_CSSDA"
   ]
  },
  {
   "cell_type": "markdown",
   "id": "civilian-yahoo",
   "metadata": {},
   "source": [
    "### Colon_transverse_ACCQ1"
   ]
  },
  {
   "cell_type": "code",
   "execution_count": null,
   "id": "pregnant-lingerie",
   "metadata": {},
   "outputs": [],
   "source": [
    "fragpath = \"/mnt/data2/Datasets/ATAC_data/Cell2021_human_adult_multiple_organs_scATAC/TSV/Colon_transverse_ACCQ1_sort.tsv.gz\""
   ]
  },
  {
   "cell_type": "code",
   "execution_count": null,
   "id": "tender-entrance",
   "metadata": {},
   "outputs": [],
   "source": [
    "# create fragment objects\n",
    "frags_object <- CreateFragmentObject(path = fragpath)\n",
    "\n",
    "# quantify counts in each peak\n",
    "macs2_counts <- FeatureMatrix(\n",
    "  fragments = frags_object,\n",
    "  features = combined.peaks\n",
    ")\n",
    "\n",
    "# create a new assay using the MACS2 peak set and add it to the Seurat object\n",
    "chrom_assay <- CreateChromatinAssay(\n",
    "  counts = macs2_counts,\n",
    "  fragments = fragpath,\n",
    "  sep = c(\":\", \"-\"),\n",
    "  genome = 'hg38',\n",
    "  annotation = annotation,\n",
    "  #min.cells = 10,\n",
    "  min.features = 200\n",
    ")\n",
    "\n",
    "Colon_transverse_ACCQ1 <- CreateSeuratObject(\n",
    "  counts = chrom_assay,\n",
    "  assay = \"peaks\"\n",
    ")\n",
    "\n",
    "Colon_transverse_ACCQ1"
   ]
  },
  {
   "cell_type": "markdown",
   "id": "binding-orleans",
   "metadata": {},
   "source": [
    "### Colon_transverse_A9HOW"
   ]
  },
  {
   "cell_type": "code",
   "execution_count": null,
   "id": "abstract-collaboration",
   "metadata": {},
   "outputs": [],
   "source": [
    "fragpath = \"/mnt/data2/Datasets/ATAC_data/Cell2021_human_adult_multiple_organs_scATAC/TSV/Colon_transverse_A9HOW_sort.tsv.gz\""
   ]
  },
  {
   "cell_type": "code",
   "execution_count": null,
   "id": "mature-former",
   "metadata": {},
   "outputs": [],
   "source": [
    "# create fragment objects\n",
    "frags_object <- CreateFragmentObject(path = fragpath)\n",
    "\n",
    "# quantify counts in each peak\n",
    "macs2_counts <- FeatureMatrix(\n",
    "  fragments = frags_object,\n",
    "  features = combined.peaks\n",
    ")\n",
    "\n",
    "# create a new assay using the MACS2 peak set and add it to the Seurat object\n",
    "chrom_assay <- CreateChromatinAssay(\n",
    "  counts = macs2_counts,\n",
    "  fragments = fragpath,\n",
    "  sep = c(\":\", \"-\"),\n",
    "  genome = 'hg38',\n",
    "  annotation = annotation,\n",
    "  #min.cells = 10,\n",
    "  min.features = 200\n",
    ")\n",
    "\n",
    "Colon_transverse_A9HOW <- CreateSeuratObject(\n",
    "  counts = chrom_assay,\n",
    "  assay = \"peaks\"\n",
    ")\n",
    "\n",
    "Colon_transverse_A9HOW"
   ]
  },
  {
   "cell_type": "markdown",
   "id": "palestinian-currency",
   "metadata": {},
   "source": [
    "# Merge objects"
   ]
  },
  {
   "cell_type": "code",
   "execution_count": null,
   "id": "revolutionary-mystery",
   "metadata": {},
   "outputs": [],
   "source": [
    "# add information to identify dataset of origin\n",
    "Ileum_JF102$dataset <- 'Ileum_JF102'\n",
    "Ileum_A62GO$dataset <- 'Ileum_A62GO'\n",
    "Ileum_ADA5F$dataset <- 'Ileum_ADA5F'\n",
    "Colon_sigmoid_JF1O8$dataset <- 'Colon_sigmoid_JF1O8'\n",
    "Colon_sigmoid_AZPYO$dataset <- 'Colon_sigmoid_AZPYO'\n",
    "Colon_transverse_BZ2ZS$dataset <- 'Colon_transverse_BZ2ZS'\n",
    "Colon_transverse_A9VP4$dataset <- 'Colon_transverse_A9VP4'\n",
    "Colon_transverse_CSSDA$dataset <- 'Colon_transverse_CSSDA'\n",
    "Colon_transverse_ACCQ1$dataset <- 'Colon_transverse_ACCQ1'\n",
    "Colon_transverse_A9HOW$dataset <- 'Colon_transverse_A9HOW'"
   ]
  },
  {
   "cell_type": "code",
   "execution_count": null,
   "id": "specific-february",
   "metadata": {},
   "outputs": [],
   "source": [
    "Ileum_JF102$organ <- 'Ileum'\n",
    "Ileum_A62GO$organ <- 'Ileum'\n",
    "Ileum_ADA5F$organ <- 'Ileum'\n",
    "Colon_sigmoid_JF1O8$organ <- 'Colon'\n",
    "Colon_sigmoid_AZPYO$organ <- 'Colon'\n",
    "Colon_transverse_BZ2ZS$organ <- 'Colon'\n",
    "Colon_transverse_A9VP4$organ <- 'Colon'\n",
    "Colon_transverse_CSSDA$organ <- 'Colon'\n",
    "Colon_transverse_ACCQ1$organ <- 'Colon'\n",
    "Colon_transverse_A9HOW$organ <- 'Colon'"
   ]
  },
  {
   "cell_type": "code",
   "execution_count": null,
   "id": "working-accounting",
   "metadata": {},
   "outputs": [],
   "source": [
    "# merge all datasets, adding a cell ID to make sure cell names are unique\n",
    "combined <- merge(\n",
    "  x = Ileum_JF102,\n",
    "  y = list(Ileum_A62GO, Ileum_ADA5F, Colon_sigmoid_JF1O8, Colon_sigmoid_AZPYO,\n",
    "           Colon_transverse_BZ2ZS,Colon_transverse_A9VP4,Colon_transverse_CSSDA,Colon_transverse_ACCQ1,Colon_transverse_A9HOW),\n",
    "  add.cell.ids = c('JF102', 'A62GO', 'ADA5F','JF1O8','AZPYO','BZ2ZS','A9VP4','CSSDA','ACCQ1','A9HOW')\n",
    ")\n",
    "combined"
   ]
  },
  {
   "cell_type": "code",
   "execution_count": null,
   "id": "primary-fault",
   "metadata": {},
   "outputs": [],
   "source": [
    "saveRDS(object = combined, file = \"/mnt/data2/Project_outputs/Project2021_22/Gut_immune_surveillance/rds/combined_ATAC.rds\")"
   ]
  },
  {
   "cell_type": "markdown",
   "id": "structured-exception",
   "metadata": {},
   "source": [
    "# Computing QC Metrics"
   ]
  },
  {
   "cell_type": "code",
   "execution_count": null,
   "id": "focal-canvas",
   "metadata": {},
   "outputs": [],
   "source": [
    "combined <- readRDS(\"/mnt/data2/Project_outputs/Project2021_22/Gut_immune_surveillance/rds/combined_ATAC.rds\")\n",
    "combined"
   ]
  },
  {
   "cell_type": "code",
   "execution_count": null,
   "id": "statutory-entity",
   "metadata": {},
   "outputs": [],
   "source": [
    "head(combined@meta.data)"
   ]
  },
  {
   "cell_type": "code",
   "execution_count": null,
   "id": "communist-update",
   "metadata": {},
   "outputs": [],
   "source": [
    "# compute nucleosome signal score per cell\n",
    "combined <- NucleosomeSignal(object = combined)\n",
    "\n",
    "# compute TSS enrichment score per cell\n",
    "combined <- TSSEnrichment(object = combined, fast = FALSE)"
   ]
  },
  {
   "cell_type": "code",
   "execution_count": null,
   "id": "relative-cholesterol",
   "metadata": {},
   "outputs": [],
   "source": [
    "combined"
   ]
  },
  {
   "cell_type": "code",
   "execution_count": null,
   "id": "foster-facility",
   "metadata": {},
   "outputs": [],
   "source": [
    "combined$high.tss <- ifelse(combined$TSS.enrichment > 2, 'High', 'Low')\n",
    "TSSPlot(combined, group.by = 'high.tss') + NoLegend()"
   ]
  },
  {
   "cell_type": "code",
   "execution_count": null,
   "id": "comparable-speaker",
   "metadata": {},
   "outputs": [],
   "source": [
    "combined$nucleosome_group <- ifelse(combined$nucleosome_signal > 4, 'NS > 4', 'NS < 4')\n",
    "FragmentHistogram(object = combined, group.by = 'nucleosome_group')"
   ]
  },
  {
   "cell_type": "code",
   "execution_count": null,
   "id": "greek-harvard",
   "metadata": {},
   "outputs": [],
   "source": [
    "DefaultAssay(combined) <- \"peaks\"\n",
    "\n",
    "VlnPlot(\n",
    "  object = combined,\n",
    "  features = c(\"nCount_peaks\",'TSS.enrichment','nucleosome_signal'),\n",
    "  pt.size = 0, #不展示dot\n",
    "  ncol = 3\n",
    ")"
   ]
  },
  {
   "cell_type": "code",
   "execution_count": null,
   "id": "driving-parade",
   "metadata": {},
   "outputs": [],
   "source": [
    "# filter out low quality cells (使用文献Cell2021原文的过滤标准，TSS.enrichment似乎定位>7？)\n",
    "combined <- subset(\n",
    "  x = combined,\n",
    "  subset = nCount_peaks < 100000 &\n",
    "    nCount_peaks > 1000 &\n",
    "    nucleosome_signal < 2 &\n",
    "    TSS.enrichment > 1\n",
    ")\n",
    "combined"
   ]
  },
  {
   "cell_type": "code",
   "execution_count": null,
   "id": "ultimate-creativity",
   "metadata": {},
   "outputs": [],
   "source": [
    "saveRDS(object = combined, file = \"/mnt/data2/Project_outputs/Project2021_22/Gut_immune_surveillance/rds/combined_ATAC_filtered.rds\")"
   ]
  },
  {
   "cell_type": "markdown",
   "id": "humanitarian-newspaper",
   "metadata": {},
   "source": [
    "# Normalization, Feature selection and Dimension reduction"
   ]
  },
  {
   "cell_type": "code",
   "execution_count": null,
   "id": "robust-tractor",
   "metadata": {},
   "outputs": [],
   "source": [
    "combined <- FindTopFeatures(combined, min.cutoff = \"q5\")\n",
    "combined <- RunTFIDF(combined)\n",
    "combined <- RunSVD(combined)"
   ]
  },
  {
   "cell_type": "code",
   "execution_count": null,
   "id": "corporate-airplane",
   "metadata": {},
   "outputs": [],
   "source": [
    "DepthCor(combined)"
   ]
  },
  {
   "cell_type": "code",
   "execution_count": null,
   "id": "another-third",
   "metadata": {
    "scrolled": true
   },
   "outputs": [],
   "source": [
    "combined <- RunUMAP(object = combined, reduction = 'lsi', dims = 2:30)\n",
    "combined <- FindNeighbors(object = combined, reduction = 'lsi', dims = 2:30)\n",
    "combined <- FindClusters(object = combined, verbose = FALSE, algorithm = 3)\n",
    "DimPlot(object = combined, label = TRUE) + NoLegend()"
   ]
  },
  {
   "cell_type": "code",
   "execution_count": null,
   "id": "greatest-german",
   "metadata": {},
   "outputs": [],
   "source": [
    "saveRDS(object = combined, file = \"/mnt/data2/Project_outputs/Project2021_22/Gut_immune_surveillance/rds/combined_ATAC_cluster.rds\")"
   ]
  },
  {
   "cell_type": "markdown",
   "id": "heavy-ballot",
   "metadata": {},
   "source": [
    "# Create a gene activity matrix"
   ]
  },
  {
   "cell_type": "code",
   "execution_count": null,
   "id": "thrown-teacher",
   "metadata": {},
   "outputs": [],
   "source": [
    "gene.activities <- GeneActivity(combined)"
   ]
  },
  {
   "cell_type": "code",
   "execution_count": null,
   "id": "emerging-patch",
   "metadata": {},
   "outputs": [],
   "source": [
    "# add the gene activity matrix to the Seurat object as a new assay and normalize it\n",
    "combined[['RNA']] <- CreateAssayObject(counts = gene.activities)\n",
    "combined <- NormalizeData(\n",
    "  object = combined,\n",
    "  assay = 'RNA',\n",
    "  normalization.method = 'LogNormalize',\n",
    "  scale.factor = median(combined$nCount_RNA)\n",
    ")"
   ]
  },
  {
   "cell_type": "code",
   "execution_count": null,
   "id": "olympic-maple",
   "metadata": {
    "scrolled": false
   },
   "outputs": [],
   "source": [
    "DefaultAssay(combined) <- 'RNA'\n",
    "\n",
    "FeaturePlot(\n",
    "  object = combined,\n",
    "  features = c('EPCAM'),\n",
    "  pt.size = 0.1,\n",
    "  max.cutoff = 'q95',\n",
    "  ncol = 1\n",
    ")\n",
    "\n",
    "FeaturePlot(\n",
    "  object = combined,\n",
    "  features = c('PTPRC'),\n",
    "  pt.size = 0.1,\n",
    "  max.cutoff = 'q95',\n",
    "  ncol = 1\n",
    ")\n",
    "\n",
    "FeaturePlot(\n",
    "  object = combined,\n",
    "  features = c('CD3D'),\n",
    "  pt.size = 0.1,\n",
    "  max.cutoff = 'q95',\n",
    "  ncol = 1\n",
    ")\n",
    "\n",
    "FeaturePlot(\n",
    "  object = combined,\n",
    "  features = c('CD79A'),\n",
    "  pt.size = 0.1,\n",
    "  max.cutoff = 'q95',\n",
    "  ncol = 1\n",
    ")\n",
    "\n",
    "FeaturePlot(\n",
    "  object = combined,\n",
    "  features = c('CD14'),\n",
    "  pt.size = 0.1,\n",
    "  max.cutoff = 'q95',\n",
    "  ncol = 1\n",
    ")\n",
    "\n",
    "FeaturePlot(\n",
    "  object = combined,\n",
    "  features = c('IGFBP7'),\n",
    "  pt.size = 0.1,\n",
    "  max.cutoff = 'q95',\n",
    "  ncol = 1\n",
    ")"
   ]
  },
  {
   "cell_type": "code",
   "execution_count": null,
   "id": "hollow-south",
   "metadata": {},
   "outputs": [],
   "source": [
    "DimPlot(combined, group.by = 'organ', pt.size = 0.1)"
   ]
  },
  {
   "cell_type": "code",
   "execution_count": null,
   "id": "linear-burns",
   "metadata": {},
   "outputs": [],
   "source": [
    "# 未进行批次校正\n",
    "DimPlot(combined, group.by = 'dataset', pt.size = 0.1)"
   ]
  },
  {
   "cell_type": "code",
   "execution_count": null,
   "id": "sought-split",
   "metadata": {},
   "outputs": [],
   "source": [
    "FeaturePlot(\n",
    "  object = combined,\n",
    "  features = c('DEFA5'),\n",
    "  pt.size = 0.1,\n",
    "  max.cutoff = 'q95',\n",
    "  ncol = 1\n",
    ")\n",
    "\n",
    "FeaturePlot(\n",
    "  object = combined,\n",
    "  features = c('DEFA6'),\n",
    "  pt.size = 0.1,\n",
    "  max.cutoff = 'q95',\n",
    "  ncol = 1\n",
    ")\n",
    "\n",
    "FeaturePlot(\n",
    "  object = combined,\n",
    "  features = c('REG3A'),\n",
    "  pt.size = 0.1,\n",
    "  max.cutoff = 'q95',\n",
    "  ncol = 1\n",
    ")\n",
    "\n",
    "FeaturePlot(\n",
    "  object = combined,\n",
    "  features = c('REG3G'),\n",
    "  pt.size = 0.1,\n",
    "  max.cutoff = 'q95',\n",
    "  ncol = 1\n",
    ")"
   ]
  },
  {
   "cell_type": "code",
   "execution_count": null,
   "id": "superb-armor",
   "metadata": {},
   "outputs": [],
   "source": [
    "FeaturePlot(\n",
    "  object = combined,\n",
    "  features = c('LGR5'),\n",
    "  pt.size = 0.1,\n",
    "  max.cutoff = 'q95',\n",
    "  ncol = 1\n",
    ")\n",
    "\n",
    "FeaturePlot(\n",
    "  object = combined,\n",
    "  features = c('FABP6'),\n",
    "  pt.size = 0.1,\n",
    "  max.cutoff = 'q95',\n",
    "  ncol = 1\n",
    ")\n",
    "\n",
    "FeaturePlot(\n",
    "  object = combined,\n",
    "  features = c('AQP8'),\n",
    "  pt.size = 0.1,\n",
    "  max.cutoff = 'q95',\n",
    "  ncol = 1\n",
    ")\n",
    "\n",
    "FeaturePlot(\n",
    "  object = combined,\n",
    "  features = c('MUC2'),\n",
    "  pt.size = 0.1,\n",
    "  max.cutoff = 'q95',\n",
    "  ncol = 1\n",
    ")\n",
    "\n",
    "FeaturePlot(\n",
    "  object = combined,\n",
    "  features = c('CHGA'),\n",
    "  pt.size = 0.1,\n",
    "  max.cutoff = 'q95',\n",
    "  ncol = 1\n",
    ")"
   ]
  },
  {
   "cell_type": "code",
   "execution_count": null,
   "id": "protected-polls",
   "metadata": {},
   "outputs": [],
   "source": [
    "combined"
   ]
  },
  {
   "cell_type": "code",
   "execution_count": null,
   "id": "informational-classics",
   "metadata": {},
   "outputs": [],
   "source": [
    "saveRDS(object = combined, file = \"/mnt/data2/Project_outputs/Project2021_22/Gut_immune_surveillance/rds/combined_ATAC_cluster.rds\")"
   ]
  },
  {
   "cell_type": "markdown",
   "id": "insured-cookbook",
   "metadata": {},
   "source": [
    "# Sort epithlial cells"
   ]
  },
  {
   "cell_type": "code",
   "execution_count": null,
   "id": "broke-essex",
   "metadata": {},
   "outputs": [],
   "source": [
    "combined@assays"
   ]
  },
  {
   "cell_type": "code",
   "execution_count": null,
   "id": "induced-ballot",
   "metadata": {},
   "outputs": [],
   "source": [
    "head(combined@meta.data)"
   ]
  },
  {
   "cell_type": "code",
   "execution_count": null,
   "id": "juvenile-musical",
   "metadata": {},
   "outputs": [],
   "source": [
    "DimPlot(object = combined, label = TRUE) + NoLegend()"
   ]
  },
  {
   "cell_type": "code",
   "execution_count": null,
   "id": "understood-concentrate",
   "metadata": {},
   "outputs": [],
   "source": [
    "combined_epi <- combined[,combined@meta.data$seurat_clusters %in% c(5,7,14,20,22,6,12,1,4,18)]\n",
    "combined_epi"
   ]
  },
  {
   "cell_type": "code",
   "execution_count": null,
   "id": "greatest-budget",
   "metadata": {},
   "outputs": [],
   "source": [
    "DimPlot(object = combined_epi, label = TRUE) + NoLegend()"
   ]
  },
  {
   "cell_type": "code",
   "execution_count": null,
   "id": "persistent-remove",
   "metadata": {},
   "outputs": [],
   "source": [
    "saveRDS(object = combined_epi, file = \"/mnt/data2/Project_outputs/Project2021_22/Gut_immune_surveillance/rds/combined_ATAC_epi.rds\")"
   ]
  },
  {
   "cell_type": "markdown",
   "id": "ordinary-affect",
   "metadata": {},
   "source": [
    "# Batch removed with Harmony"
   ]
  },
  {
   "cell_type": "code",
   "execution_count": null,
   "id": "middle-insulation",
   "metadata": {},
   "outputs": [],
   "source": [
    "library(harmony)"
   ]
  },
  {
   "cell_type": "code",
   "execution_count": null,
   "id": "sound-claim",
   "metadata": {},
   "outputs": [],
   "source": [
    "DefaultAssay(combined_epi) <- \"peaks\"\n",
    "\n",
    "# 使用RunHarmony函数进行数据整合\n",
    "hm.integrated <- RunHarmony(\n",
    "  object = combined_epi,\n",
    "  group.by.vars = 'dataset',\n",
    "  reduction = 'lsi',\n",
    "  assay.use = 'peaks',\n",
    "  project.dim = FALSE\n",
    ")"
   ]
  },
  {
   "cell_type": "code",
   "execution_count": null,
   "id": "difficult-contrary",
   "metadata": {},
   "outputs": [],
   "source": [
    "# re-compute the UMAP using corrected LSI embeddings\n",
    "# 数据降维可视化\n",
    "hm.integrated <- RunUMAP(hm.integrated, dims = 2:30, reduction = 'harmony')"
   ]
  },
  {
   "cell_type": "code",
   "execution_count": null,
   "id": "following-overview",
   "metadata": {},
   "outputs": [],
   "source": [
    "DimPlot(hm.integrated, group.by = 'dataset', pt.size = 0.1) + ggplot2::ggtitle(\"Harmony integration\")\n",
    "DimPlot(hm.integrated, group.by = 'organ', pt.size = 0.1) + ggplot2::ggtitle(\"Harmony integration\")"
   ]
  },
  {
   "cell_type": "code",
   "execution_count": null,
   "id": "domestic-tumor",
   "metadata": {},
   "outputs": [],
   "source": [
    "hm.integrated"
   ]
  },
  {
   "cell_type": "code",
   "execution_count": null,
   "id": "respected-correlation",
   "metadata": {},
   "outputs": [],
   "source": [
    "hm.integrated <- FindNeighbors(object = hm.integrated, dims = 2:30, reduction = 'harmony')\n",
    "hm.integrated"
   ]
  },
  {
   "cell_type": "code",
   "execution_count": null,
   "id": "encouraging-atlanta",
   "metadata": {},
   "outputs": [],
   "source": [
    "hm.integrated <- FindClusters(object = hm.integrated, resolution = 0.5)"
   ]
  },
  {
   "cell_type": "code",
   "execution_count": null,
   "id": "cubic-belief",
   "metadata": {},
   "outputs": [],
   "source": [
    "DimPlot(object = hm.integrated, label = TRUE) + NoLegend()"
   ]
  },
  {
   "cell_type": "code",
   "execution_count": null,
   "id": "juvenile-scholarship",
   "metadata": {},
   "outputs": [],
   "source": [
    "FeaturePlot(\n",
    "  object = hm.integrated,\n",
    "  features = c('CLCA1'),\n",
    "  pt.size = 0.1,\n",
    "  max.cutoff = 'q95',\n",
    "  ncol = 1\n",
    ")\n",
    "\n",
    "FeaturePlot(\n",
    "  object = hm.integrated,\n",
    "  features = c('BEST2'),\n",
    "  pt.size = 0.1,\n",
    "  max.cutoff = 'q95',\n",
    "  ncol = 1\n",
    ")\n",
    "\n",
    "FeaturePlot(\n",
    "  object = hm.integrated,\n",
    "  features = c('CFTR'),\n",
    "  pt.size = 0.1,\n",
    "  max.cutoff = 'q95',\n",
    "  ncol = 1\n",
    ")\n",
    "\n",
    "FeaturePlot(\n",
    "  object = hm.integrated,\n",
    "  features = c('FCGBP'),\n",
    "  pt.size = 0.1,\n",
    "  max.cutoff = 'q95',\n",
    "  ncol = 1\n",
    ")"
   ]
  },
  {
   "cell_type": "code",
   "execution_count": null,
   "id": "different-portland",
   "metadata": {},
   "outputs": [],
   "source": [
    "DefaultAssay(hm.integrated) <- 'RNA'\n",
    "FeaturePlot(\n",
    "  object = hm.integrated,\n",
    "  features = c('LGR5'),\n",
    "  pt.size = 0.5,\n",
    "  max.cutoff = 'q95',\n",
    "  ncol = 1\n",
    ")"
   ]
  },
  {
   "cell_type": "code",
   "execution_count": null,
   "id": "allied-invention",
   "metadata": {},
   "outputs": [],
   "source": [
    "FeaturePlot(\n",
    "  object = hm.integrated,\n",
    "  features = c('TCF4'),\n",
    "  pt.size = 0.5,\n",
    "  max.cutoff = 'q95',\n",
    "  ncol = 1\n",
    ")"
   ]
  },
  {
   "cell_type": "markdown",
   "id": "cardiac-patio",
   "metadata": {},
   "source": [
    "# Find differentially accessible peaks between clusters"
   ]
  },
  {
   "cell_type": "code",
   "execution_count": null,
   "id": "incorporate-difference",
   "metadata": {},
   "outputs": [],
   "source": [
    "# change back to working with gene activities instead of paeks\n",
    "DefaultAssay(hm.integrated) <- 'RNA'\n",
    "\n",
    "da_peaks <- FindMarkers(\n",
    "  object = hm.integrated,\n",
    "  ident.1 = c(\"1\"),\n",
    "  ident.2 = c(\"0\",\"2\",\"3\",\"4\",\"5\"),\n",
    "  min.pct = 0.05,\n",
    "  test.use = 'LR',\n",
    ")\n",
    "\n",
    "# cluster 1 is BEST2+ goblet cells\n",
    "head(da_peaks)"
   ]
  },
  {
   "cell_type": "code",
   "execution_count": null,
   "id": "worst-dakota",
   "metadata": {},
   "outputs": [],
   "source": [
    "da_peaks"
   ]
  },
  {
   "cell_type": "code",
   "execution_count": null,
   "id": "exact-script",
   "metadata": {},
   "outputs": [],
   "source": [
    "# change back to working with peaks instead of gene activities\n",
    "DefaultAssay(hm.integrated) <- 'peaks'\n",
    "\n",
    "da_peaks <- FindMarkers(\n",
    "  object = hm.integrated,\n",
    "  ident.1 = c(\"1\"),\n",
    "  ident.2 = c(\"0\",\"2\",\"3\",\"4\",\"5\"),\n",
    "  min.pct = 0.05,\n",
    "  test.use = 'LR',\n",
    ")\n",
    "\n",
    "# cluster 1 is BEST2+ goblet cells\n",
    "head(da_peaks)"
   ]
  },
  {
   "cell_type": "code",
   "execution_count": null,
   "id": "speaking-uruguay",
   "metadata": {},
   "outputs": [],
   "source": [
    "fc <- FoldChange(hm.integrated, ident.1 = c(\"1\"), ident.2 = c(\"0\",\"2\",\"3\",\"4\",\"5\"))\n",
    "head(fc)"
   ]
  },
  {
   "cell_type": "code",
   "execution_count": null,
   "id": "entertaining-approval",
   "metadata": {},
   "outputs": [],
   "source": [
    "open_c1 <- rownames(da_peaks[da_peaks$avg_log2FC > 0.5, ])\n",
    "open_others <- rownames(da_peaks[da_peaks$avg_log2FC < -0.5, ])"
   ]
  },
  {
   "cell_type": "code",
   "execution_count": null,
   "id": "historical-hobby",
   "metadata": {},
   "outputs": [],
   "source": [
    "open_c1"
   ]
  },
  {
   "cell_type": "code",
   "execution_count": null,
   "id": "smooth-strap",
   "metadata": {},
   "outputs": [],
   "source": [
    "open_others"
   ]
  },
  {
   "cell_type": "code",
   "execution_count": null,
   "id": "retained-pixel",
   "metadata": {},
   "outputs": [],
   "source": [
    "closest_genes_c1 <- ClosestFeature(hm.integrated, regions = open_c1)"
   ]
  },
  {
   "cell_type": "code",
   "execution_count": null,
   "id": "accompanied-whole",
   "metadata": {},
   "outputs": [],
   "source": [
    "closest_genes_c1"
   ]
  },
  {
   "cell_type": "code",
   "execution_count": null,
   "id": "mexican-attitude",
   "metadata": {},
   "outputs": [],
   "source": [
    "# change back to working with peaks instead of gene activities\n",
    "DefaultAssay(hm.integrated) <- 'peaks'\n",
    "\n",
    "da_peaks <- FindMarkers(\n",
    "  object = hm.integrated,\n",
    "  ident.1 = c(\"6\"),\n",
    "  ident.2 = c(\"0\",\"1\",\"2\",\"3\",\"4\",\"5\"),\n",
    "  min.pct = 0.05,\n",
    "  test.use = 'LR',\n",
    ")\n",
    "\n",
    "# cluster 1 is BEST2+ goblet cells\n",
    "head(da_peaks)"
   ]
  },
  {
   "cell_type": "code",
   "execution_count": null,
   "id": "competitive-client",
   "metadata": {},
   "outputs": [],
   "source": [
    "open_c6 <- rownames(da_peaks[da_peaks$avg_log2FC > 0.3, ])\n",
    "closest_genes_c6 <- ClosestFeature(hm.integrated, regions = open_c6)"
   ]
  },
  {
   "cell_type": "code",
   "execution_count": null,
   "id": "normal-proof",
   "metadata": {
    "scrolled": true
   },
   "outputs": [],
   "source": [
    "closest_genes_c6"
   ]
  },
  {
   "cell_type": "markdown",
   "id": "bright-belgium",
   "metadata": {},
   "source": [
    "# Plotting genomic regions"
   ]
  },
  {
   "cell_type": "code",
   "execution_count": null,
   "id": "governing-plant",
   "metadata": {},
   "outputs": [],
   "source": [
    "# DEFA5, WFDC2\n",
    "'chr8-7055304-7056739' 'chr20-45469753-45481532'"
   ]
  },
  {
   "cell_type": "code",
   "execution_count": null,
   "id": "illegal-fundamental",
   "metadata": {},
   "outputs": [],
   "source": [
    "options(repr.plot.height = 7, repr.plot.width = 10)"
   ]
  },
  {
   "cell_type": "code",
   "execution_count": null,
   "id": "numeric-opinion",
   "metadata": {
    "scrolled": false
   },
   "outputs": [],
   "source": [
    "# set plotting order\n",
    "# levels(pbmc) <- c(\"CD4 Naive\",\"CD4 Memory\",\"CD8 Naive\",\"CD8 Effector\",\"DN T\",\"NK CD56bright\",\"NK CD56Dim\",\"pre-B\",'pro-B',\"pDC\",\"DC\",\"CD14 Mono\",'CD16 Mono')\n",
    "# DEFA5\n",
    "\n",
    "CoveragePlot(\n",
    "  object = hm.integrated,\n",
    "#  group.by = 'organ',\n",
    "  region = 'chr8-7055304-7056739',\n",
    "  extend.upstream = 5000,\n",
    "  extend.downstream = 2000\n",
    ")\n",
    "\n",
    "CoveragePlot(\n",
    "  object = hm.integrated,\n",
    "  group.by = 'organ',\n",
    "  region = 'chr8-7055304-7056739',\n",
    "  extend.upstream = 5000,\n",
    "  extend.downstream = 2000\n",
    ")"
   ]
  },
  {
   "cell_type": "code",
   "execution_count": null,
   "id": "leading-christian",
   "metadata": {},
   "outputs": [],
   "source": [
    "# 提取Paneth cells (c(6))\n",
    "Paneth <- hm.integrated[,hm.integrated@meta.data$seurat_clusters %in% c(6)]\n",
    "Paneth"
   ]
  },
  {
   "cell_type": "code",
   "execution_count": null,
   "id": "outside-ministry",
   "metadata": {},
   "outputs": [],
   "source": [
    "options(repr.plot.height = 7, repr.plot.width = 15)\n",
    "\n",
    "ranges.show <- StringToGRanges(\"chr8-7057234-7057248\") # NR1H4\n",
    "\n",
    "options(repr.plot.height = 9, repr.plot.width = 14)\n",
    "\n",
    "CoveragePlot(\n",
    "  object = Paneth,\n",
    "  group.by = 'organ',\n",
    "  region = 'chr8-7055304-7056739',\n",
    "  extend.upstream =  0,\n",
    "  extend.downstream = 2000,\n",
    "  region.highlight = ranges.show\n",
    ")"
   ]
  },
  {
   "cell_type": "code",
   "execution_count": null,
   "id": "contrary-numbers",
   "metadata": {},
   "outputs": [],
   "source": [
    "options(repr.plot.height = 7, repr.plot.width = 15)\n",
    "\n",
    "ranges.show <- StringToGRanges(\"chr8-7057323-7057337\") # VDRchr20-45469620-45469630\n",
    "\n",
    "options(repr.plot.height = 9, repr.plot.width = 14)\n",
    "\n",
    "CoveragePlot(\n",
    "  object = Paneth,\n",
    "  group.by = 'organ',\n",
    "  region = 'chr8-7055304-7056739',\n",
    "  extend.upstream = 2000,\n",
    "  extend.downstream = 2000,\n",
    "  region.highlight = ranges.show\n",
    ")"
   ]
  },
  {
   "cell_type": "code",
   "execution_count": null,
   "id": "alone-shape",
   "metadata": {},
   "outputs": [],
   "source": [
    "options(repr.plot.height = 7, repr.plot.width = 15)\n",
    "\n",
    "ranges.show <- StringToGRanges(\"chr8-7056889-7056899\") # TCF7 chr8:7056889-7056899\n",
    "\n",
    "options(repr.plot.height = 9, repr.plot.width = 14)\n",
    "\n",
    "CoveragePlot(\n",
    "  object = Paneth,\n",
    "  group.by = 'organ',\n",
    "  region = 'chr8-7055304-7056739',\n",
    "  extend.upstream = 2000,\n",
    "  extend.downstream = 2000,\n",
    "  region.highlight = ranges.show\n",
    ")"
   ]
  },
  {
   "cell_type": "code",
   "execution_count": null,
   "id": "nutritional-wells",
   "metadata": {},
   "outputs": [],
   "source": [
    "options(repr.plot.height = 7, repr.plot.width = 15)\n",
    "\n",
    "ranges.show <- StringToGRanges(\"chr20-45469620-45469630\") # NR1H4\n",
    "\n",
    "options(repr.plot.height = 9, repr.plot.width = 14)\n",
    "\n",
    "CoveragePlot(\n",
    "  object = hm.integrated,\n",
    "  group.by = 'organ',\n",
    "  region = 'chr20-45469753-45481532',\n",
    "  extend.upstream = 5000,\n",
    "  extend.downstream = 2000,\n",
    "  region.highlight = ranges.show\n",
    ")"
   ]
  },
  {
   "cell_type": "code",
   "execution_count": null,
   "id": "ruled-booth",
   "metadata": {},
   "outputs": [],
   "source": [
    "CoveragePlot(\n",
    "  object = Paneth,\n",
    "  group.by = 'organ',\n",
    "  region = 'chr8-6924697-6926076',\n",
    "  extend.upstream = 5000,\n",
    "  extend.downstream = 2000,\n",
    ")"
   ]
  },
  {
   "cell_type": "code",
   "execution_count": null,
   "id": "responsible-lawyer",
   "metadata": {},
   "outputs": [],
   "source": [
    "CoveragePlot(\n",
    "  object = Paneth,\n",
    "  group.by = 'organ',\n",
    "  region = 'chr8-6924697-7056739',\n",
    "  extend.upstream = 5000,\n",
    "  extend.downstream = 2000,\n",
    ")"
   ]
  },
  {
   "cell_type": "code",
   "execution_count": null,
   "id": "maritime-sponsorship",
   "metadata": {},
   "outputs": [],
   "source": [
    "CoveragePlot(\n",
    "  object = Paneth,\n",
    "  group.by = 'organ',\n",
    "  region = 'chr2-79157003-79159753',\n",
    "  extend.upstream = 5000,\n",
    "  extend.downstream = 2000,\n",
    ")"
   ]
  },
  {
   "cell_type": "code",
   "execution_count": null,
   "id": "elementary-characterization",
   "metadata": {},
   "outputs": [],
   "source": [
    "CoveragePlot(\n",
    "  object = Paneth,\n",
    "  group.by = 'organ',\n",
    "  region = 'chr2-79025664-79028505',\n",
    "  extend.upstream = 5000,\n",
    "  extend.downstream = 2000,\n",
    ")"
   ]
  },
  {
   "cell_type": "code",
   "execution_count": null,
   "id": "enhanced-drawing",
   "metadata": {},
   "outputs": [],
   "source": [
    "# DEFA6: chr8-6924697-6926076\n",
    "\n",
    "CoveragePlot(\n",
    "  object = hm.integrated,\n",
    "#  group.by = 'organ',\n",
    "  region = 'chr8-6924697-6926076',\n",
    "  extend.upstream = 2000,\n",
    "  extend.downstream = 2000\n",
    ")\n",
    "\n",
    "CoveragePlot(\n",
    "  object = hm.integrated,\n",
    "  group.by = 'organ',\n",
    "  region = 'chr8-6924697-6926076',\n",
    "  extend.upstream = 2000,\n",
    "  extend.downstream = 2000\n",
    ")"
   ]
  },
  {
   "cell_type": "code",
   "execution_count": null,
   "id": "biological-verification",
   "metadata": {},
   "outputs": [],
   "source": [
    "# WFDC2\n",
    "CoveragePlot(\n",
    "  object = hm.integrated,\n",
    "  #group.by = 'organ',\n",
    "  region = 'chr20-45469753-45481532',\n",
    "  extend.upstream = 5000,\n",
    "  extend.downstream = 2000\n",
    ")\n",
    "\n",
    "CoveragePlot(\n",
    "  object = hm.integrated,\n",
    "  group.by = 'organ',\n",
    "  region = 'chr20-45469753-45481532',\n",
    "  extend.upstream = 5000,\n",
    "  extend.downstream = 2000\n",
    ")"
   ]
  },
  {
   "cell_type": "code",
   "execution_count": null,
   "id": "uniform-belief",
   "metadata": {},
   "outputs": [],
   "source": [
    "# ADM: chr11-10305073-10307397\n",
    "CoveragePlot(\n",
    "  object = hm.integrated,\n",
    "  #group.by = 'organ',\n",
    "  region = 'chr11-10305073-10307397',\n",
    "  extend.upstream = 5000,\n",
    "  extend.downstream = 200\n",
    ")\n",
    "\n",
    "CoveragePlot(\n",
    "  object = hm.integrated,\n",
    "  group.by = 'organ',\n",
    "  region = 'chr11-10305073-10307397',\n",
    "  extend.upstream = 5000,\n",
    "  extend.downstream = 200\n",
    ")"
   ]
  },
  {
   "cell_type": "code",
   "execution_count": null,
   "id": "significant-meeting",
   "metadata": {},
   "outputs": [],
   "source": [
    "# DEFB1: chr8-6870592-6877936\n",
    "CoveragePlot(\n",
    "  object = hm.integrated,\n",
    "  #group.by = 'organ',\n",
    "  region = 'chr8-6870592-6877936',\n",
    "  extend.upstream = 5000,\n",
    "  extend.downstream = 2000\n",
    ")\n",
    "\n",
    "CoveragePlot(\n",
    "  object = hm.integrated,\n",
    "  group.by = 'organ',\n",
    "  region = 'chr8-6870592-6877936',\n",
    "  extend.upstream = 5000,\n",
    "  extend.downstream = 2000\n",
    ")"
   ]
  },
  {
   "cell_type": "code",
   "execution_count": null,
   "id": "integral-japanese",
   "metadata": {},
   "outputs": [],
   "source": [
    "CoveragePlot(\n",
    "  object = hm.integrated,\n",
    "  #group.by = 'organ',\n",
    "  region = 'chr20-45174902-45176544',\n",
    "  extend.upstream = 5000,\n",
    "  extend.downstream = 2000\n",
    ")\n",
    "\n",
    "CoveragePlot(\n",
    "  object = hm.integrated,\n",
    "  group.by = 'organ',\n",
    "  region = 'chr20-45174902-45176544',\n",
    "  extend.upstream = 5000,\n",
    "  extend.downstream = 2000\n",
    ")"
   ]
  },
  {
   "cell_type": "code",
   "execution_count": null,
   "id": "hawaiian-minister",
   "metadata": {},
   "outputs": [],
   "source": [
    "CoveragePlot(\n",
    "  object = hm.integrated,\n",
    "  #group.by = 'organ',\n",
    "  region = 'chr2-227805739-227817564',\n",
    "  extend.upstream = 0,\n",
    "  extend.downstream = 0\n",
    ")\n",
    "\n",
    "CoveragePlot(\n",
    "  object = hm.integrated,\n",
    "  group.by = 'organ',\n",
    "  region = 'chr2-227805739-227817564',\n",
    "  extend.upstream = 0,\n",
    "  extend.downstream = 0\n",
    ")"
   ]
  },
  {
   "cell_type": "code",
   "execution_count": null,
   "id": "armed-cigarette",
   "metadata": {},
   "outputs": [],
   "source": [
    "CoveragePlot(\n",
    "  object = hm.integrated,\n",
    "  #group.by = 'organ',\n",
    "  region = 'chr17-36064272-36072032',\n",
    "  extend.upstream = 5000,\n",
    "  extend.downstream = 0\n",
    ")\n",
    "\n",
    "CoveragePlot(\n",
    "  object = hm.integrated,\n",
    "  group.by = 'organ',\n",
    "  region = 'chr17-36064272-36072032',\n",
    "  extend.upstream = 5000,\n",
    "  extend.downstream = 0\n",
    ")"
   ]
  },
  {
   "cell_type": "code",
   "execution_count": null,
   "id": "creative-neighborhood",
   "metadata": {},
   "outputs": [],
   "source": [
    "saveRDS(object = hm.integrated, file = \"/mnt/data2/Project_outputs/Project2021_22/Gut_immune_surveillance/rds/combined_ATAC_epi_cluster.rds\")"
   ]
  },
  {
   "cell_type": "markdown",
   "id": "minus-eleven",
   "metadata": {},
   "source": [
    "# Motif analysis"
   ]
  },
  {
   "cell_type": "code",
   "execution_count": null,
   "id": "academic-appointment",
   "metadata": {},
   "outputs": [],
   "source": [
    "# 使用BiocManager install JASPAR2020,TFBSTools,motifmatchr并导入如下R包：\n",
    "library(JASPAR2020)\n",
    "library(TFBSTools)"
   ]
  },
  {
   "cell_type": "code",
   "execution_count": null,
   "id": "normal-opposition",
   "metadata": {},
   "outputs": [],
   "source": [
    "hm.integrated"
   ]
  },
  {
   "cell_type": "code",
   "execution_count": null,
   "id": "processed-election",
   "metadata": {},
   "outputs": [],
   "source": [
    "p1 <- DimPlot(hm.integrated, label = TRUE, pt.size = 0.1) + NoLegend()\n",
    "p1"
   ]
  },
  {
   "cell_type": "markdown",
   "id": "corrected-stake",
   "metadata": {},
   "source": [
    "## All epithelial cells"
   ]
  },
  {
   "cell_type": "markdown",
   "id": "handy-paraguay",
   "metadata": {},
   "source": [
    "**Adding motif information to the Seurat object**\n",
    "\n",
    "To add the DNA sequence motif information required for motif analyses, we can run the AddMotifs() function:"
   ]
  },
  {
   "cell_type": "code",
   "execution_count": null,
   "id": "pediatric-chocolate",
   "metadata": {},
   "outputs": [],
   "source": [
    "# Get a list of motif position frequency matrices from the JASPAR database\n",
    "pfm <- getMatrixSet(\n",
    "  x = JASPAR2020,\n",
    "  opts = list(collection = \"CORE\", tax_group = 'vertebrates', all_versions = FALSE)\n",
    ")\n",
    "\n",
    "# add motif information\n",
    "hm.integrated <- AddMotifs(\n",
    "  object = hm.integrated,\n",
    "  genome = BSgenome.Hsapiens.UCSC.hg38,\n",
    "  pfm = pfm\n",
    ")"
   ]
  },
  {
   "cell_type": "markdown",
   "id": "quarterly-youth",
   "metadata": {},
   "source": [
    "To facilitate motif analysis in Signac, we have create the Motif class to store all the required information, including a list of position weight matrices (PWMs) or position frequency matrices (PFMs) and a motif occurrence matrix. Here, the AddMotifs() function construct a Motif object and adds it to our mouse brain dataset, along with other information such as the base composition of each peak. A motif object can be added to any Seurat assay using the SetAssayData() function.\n",
    "\n",
    "为了便于Signac中的motif分析，我们创建了motif类来存储所有必需的信息，包括位置权重矩阵（PWM）或位置频率矩阵（PFM）列表以及motif发生矩阵。这里，addMotions（）函数构造一个Motif对象，并将其与其他信息（如每个峰值的基本组成）一起添加到我们的数据集中。可以使用SetAssayData（）函数将motif对象添加到任何Seurat分析中。"
   ]
  },
  {
   "cell_type": "markdown",
   "id": "earlier-restaurant",
   "metadata": {},
   "source": [
    "**Finding overrepresented motifs**"
   ]
  },
  {
   "cell_type": "markdown",
   "id": "silver-cartridge",
   "metadata": {},
   "source": [
    "To identify potentially important cell-type-specific regulatory sequences, we can search for DNA motifs that are overrepresented in a set of peaks that are differentially accessible between cell types.\n",
    "\n",
    "Here, we find differentially accessible peaks between Pvalb and Sst inhibitory interneurons. For sparse data (such as scATAC-seq), we find it is often necessary to lower the min.pct threshold in FindMarkers() from the default (0.1, which was designed for scRNA-seq data).\n",
    "\n",
    "We then perform a hypergeometric test to test the probability of observing the motif at the given frequency by chance, comparing with a background set of peaks matched for GC content.\n",
    "\n",
    "为了识别潜在重要的细胞类型特异性调控序列，我们可以搜索在一组峰中过度表达的DNA基序，这些峰在细胞类型之间差异可及。\n",
    "\n",
    "在这里，我们发现Pvalb和Sst抑制中间神经元之间的差异可及峰。对于稀疏数据（如scATAC seq），我们发现通常需要将FindMarkers（）中的min.pct阈值从默认值（0.1，设计用于scRNA seq数据）降低。\n",
    "\n",
    "然后，我们进行超几何测试，以测试在给定频率下偶然观察到基序的概率，并将其与GC含量匹配的背景峰集进行比较。"
   ]
  },
  {
   "cell_type": "code",
   "execution_count": null,
   "id": "separate-indication",
   "metadata": {},
   "outputs": [],
   "source": [
    "da_peaks <- FindMarkers(\n",
    "  object = hm.integrated,\n",
    "  group.by = 'organ',\n",
    "  ident.1 = 'Ileum',\n",
    "  ident.2 = 'Colon',\n",
    "  only.pos = TRUE,\n",
    "  test.use = 'LR',\n",
    "  min.pct = 0.05,\n",
    "  latent.vars = 'nCount_peaks'\n",
    ")\n",
    "\n",
    "# get top differentially accessible peaks\n",
    "top.da.peak <- rownames(da_peaks[da_peaks$p_val < 0.005, ])"
   ]
  },
  {
   "cell_type": "code",
   "execution_count": null,
   "id": "judicial-wagon",
   "metadata": {},
   "outputs": [],
   "source": [
    "## Choosing a set of background peaks\n",
    "# test enrichment\n",
    "enriched.motifs <- FindMotifs(\n",
    "  object = hm.integrated,\n",
    "  features = top.da.peak\n",
    ")"
   ]
  },
  {
   "cell_type": "code",
   "execution_count": null,
   "id": "accredited-president",
   "metadata": {},
   "outputs": [],
   "source": [
    "enriched.motifs"
   ]
  },
  {
   "cell_type": "code",
   "execution_count": null,
   "id": "thirty-earth",
   "metadata": {},
   "outputs": [],
   "source": [
    "write.table(enriched.motifs,\"/mnt/data2/Project_outputs/Project2021_22/Gut_immune_surveillance/outputs/epi_motifs.csv\",row.names=TRUE,col.names=TRUE,sep=\",\")"
   ]
  },
  {
   "cell_type": "code",
   "execution_count": null,
   "id": "classical-offense",
   "metadata": {},
   "outputs": [],
   "source": [
    "MotifPlot(\n",
    "  object = hm.integrated,\n",
    "  motifs = head(rownames(enriched.motifs))\n",
    ")"
   ]
  },
  {
   "cell_type": "markdown",
   "id": "respected-seminar",
   "metadata": {},
   "source": [
    "We and others have previously shown that Mef-family motifs, particularly Mef2c, are enriched in Pvalb-specific peaks in scATAC-seq data (https://doi.org/10.1016/j.cell.2019.05.031; https://doi.org/10.1101/615179), and further shown that Mef2c is required for the development of Pvalb interneurons (https://www.nature.com/articles/nature25999). Here our results are consistent with these findings, and we observe a strong enrichment of Mef-family motifs in the top results from FindMotifs()\n",
    "\n",
    "我们和其他人之前已经表明，Mef家族基序，特别是Mef2c，在scATAC-seq数据中的Pvalb特异性峰中富集，并进一步表明Mef2c是Pvalb中间神经元发育所必需的(https://www.nature.com/articles/nature25999).在这里，我们的结果与这些发现一致，并且我们观察到FindMotifs（）的顶级结果中Mef家族基序的强烈富集。"
   ]
  },
  {
   "cell_type": "markdown",
   "id": "structured-reality",
   "metadata": {},
   "source": [
    "## Paneth cells"
   ]
  },
  {
   "cell_type": "code",
   "execution_count": null,
   "id": "massive-measure",
   "metadata": {},
   "outputs": [],
   "source": [
    "head(hm.integrated@meta.data)"
   ]
  },
  {
   "cell_type": "code",
   "execution_count": null,
   "id": "unexpected-galaxy",
   "metadata": {},
   "outputs": [],
   "source": [
    "Paneth <- hm.integrated[,hm.integrated@meta.data$seurat_clusters %in% c(6)]\n",
    "Paneth"
   ]
  },
  {
   "cell_type": "code",
   "execution_count": null,
   "id": "exterior-davis",
   "metadata": {},
   "outputs": [],
   "source": [
    "DefaultAssay(Paneth) <- 'peaks'\n",
    "\n",
    "da_peaks <- FindMarkers(\n",
    "  object = Paneth,\n",
    "  group.by = 'organ',\n",
    "  ident.1 = 'Ileum',\n",
    "  ident.2 = 'Colon',\n",
    "  only.pos = TRUE,\n",
    "  test.use = 'LR',\n",
    "  min.pct = 0.05,\n",
    "  latent.vars = 'nCount_peaks'\n",
    ")\n",
    "\n",
    "# get top differentially accessible peaks\n",
    "top.da.peak <- rownames(da_peaks[da_peaks$p_val < 0.005, ])"
   ]
  },
  {
   "cell_type": "code",
   "execution_count": null,
   "id": "owned-chile",
   "metadata": {},
   "outputs": [],
   "source": [
    "Paneth"
   ]
  },
  {
   "cell_type": "code",
   "execution_count": null,
   "id": "starting-mediterranean",
   "metadata": {},
   "outputs": [],
   "source": [
    "## Choosing a set of background peaks\n",
    "# test enrichment\n",
    "enriched.motifs <- FindMotifs(\n",
    "  object = Paneth,\n",
    "  features = top.da.peak\n",
    ")"
   ]
  },
  {
   "cell_type": "code",
   "execution_count": null,
   "id": "everyday-crash",
   "metadata": {},
   "outputs": [],
   "source": [
    "enriched.motifs"
   ]
  },
  {
   "cell_type": "markdown",
   "id": "facial-transmission",
   "metadata": {},
   "source": [
    "# Computing motif activities"
   ]
  },
  {
   "cell_type": "markdown",
   "id": "mathematical-violin",
   "metadata": {},
   "source": [
    "We can also compute a per-cell motif activity score by running chromVAR. This allows us to visualize motif activities per cell, and also provides an alternative method of identifying differentially-active motifs between cell types.\n",
    "ChromVAR identifies motifs associated with variability in chromatin accessibility between cells. See the chromVAR paper for a complete description of the method.\n",
    "\n",
    "我们还可以通过运行chromVAR计算每个细胞的基序活动分数。这使我们能够可视化每个细胞的基序活动，也提供了一种识别细胞类型之间差异活性基序的替代方法。\n",
    "ChromVAR识别与细胞间染色质可及性变异相关的基序。有关该方法的完整说明，请参阅chromVAR论文。"
   ]
  },
  {
   "cell_type": "code",
   "execution_count": null,
   "id": "varied-memory",
   "metadata": {},
   "outputs": [],
   "source": [
    "hm.integrated"
   ]
  },
  {
   "cell_type": "code",
   "execution_count": null,
   "id": "electronic-connecticut",
   "metadata": {},
   "outputs": [],
   "source": [
    "hm.integrated <- RunChromVAR(\n",
    "  object = hm.integrated,\n",
    "  genome = BSgenome.Hsapiens.UCSC.hg38\n",
    ")"
   ]
  },
  {
   "cell_type": "code",
   "execution_count": null,
   "id": "unlimited-daily",
   "metadata": {},
   "outputs": [],
   "source": [
    "hm.integrated"
   ]
  },
  {
   "cell_type": "code",
   "execution_count": null,
   "id": "charged-jurisdiction",
   "metadata": {},
   "outputs": [],
   "source": [
    "DefaultAssay(hm.integrated) <- 'chromvar'"
   ]
  },
  {
   "cell_type": "code",
   "execution_count": null,
   "id": "qualified-wallet",
   "metadata": {},
   "outputs": [],
   "source": [
    "# look at the activity of NR1H4\n",
    "FeaturePlot(\n",
    "  object = hm.integrated,\n",
    "  split.by = 'organ',\n",
    "  features = \"MA0830.2\",\n",
    "  min.cutoff = 'q10',\n",
    "  max.cutoff = 'q90',\n",
    "  pt.size = 0.1\n",
    ")"
   ]
  },
  {
   "cell_type": "code",
   "execution_count": null,
   "id": "enabling-declaration",
   "metadata": {},
   "outputs": [],
   "source": [
    "# look at the activity of NR1H4\n",
    "FeaturePlot(\n",
    "  object = hm.integrated,\n",
    "  split.by = 'organ',\n",
    "  features = \"MA1146.1\",\n",
    "  min.cutoff = 'q10',\n",
    "  max.cutoff = 'q90',\n",
    "  pt.size = 0.1\n",
    ")"
   ]
  },
  {
   "cell_type": "code",
   "execution_count": null,
   "id": "cloudy-utilization",
   "metadata": {},
   "outputs": [],
   "source": [
    "# look at the activity of HNF4A\n",
    "FeaturePlot(\n",
    "  object = hm.integrated,\n",
    "  split.by = 'organ',\n",
    "  features = \"MA1494.1\",\n",
    "  min.cutoff = 'q10',\n",
    "  max.cutoff = 'q90',\n",
    "  pt.size = 0.1\n",
    ")"
   ]
  },
  {
   "cell_type": "code",
   "execution_count": null,
   "id": "tight-scheme",
   "metadata": {},
   "outputs": [],
   "source": [
    "# look at the activity of VDR\n",
    "FeaturePlot(\n",
    "  object = hm.integrated,\n",
    "  split.by = 'organ',\n",
    "  features = \"MA0693.2\",\n",
    "  min.cutoff = 'q10',\n",
    "  max.cutoff = 'q90',\n",
    "  pt.size = 0.1\n",
    ")"
   ]
  },
  {
   "cell_type": "code",
   "execution_count": null,
   "id": "bearing-optimization",
   "metadata": {},
   "outputs": [],
   "source": [
    "# look at the activity of VDR\n",
    "FeaturePlot(\n",
    "  object = hm.integrated,\n",
    "  split.by = 'organ',\n",
    "  features = \"MA0162.4\",\n",
    "  min.cutoff = 'q10',\n",
    "  max.cutoff = 'q90',\n",
    "  pt.size = 0.1\n",
    ")"
   ]
  },
  {
   "cell_type": "code",
   "execution_count": null,
   "id": "unsigned-bulgarian",
   "metadata": {},
   "outputs": [],
   "source": [
    "saveRDS(object = hm.integrated, file = \"/mnt/data2/Project_outputs/Project2021_22/Gut_immune_surveillance/rds/combined_ATAC_epi_cluster.rds\")"
   ]
  }
 ],
 "metadata": {
  "kernelspec": {
   "display_name": "R [conda env:atac]",
   "language": "R",
   "name": "conda-env-atac-r"
  },
  "language_info": {
   "codemirror_mode": "r",
   "file_extension": ".r",
   "mimetype": "text/x-r-source",
   "name": "R",
   "pygments_lexer": "r",
   "version": "4.1.2"
  },
  "toc": {
   "base_numbering": 1,
   "nav_menu": {},
   "number_sections": true,
   "sideBar": true,
   "skip_h1_title": false,
   "title_cell": "Table of Contents",
   "title_sidebar": "Contents",
   "toc_cell": false,
   "toc_position": {
    "height": "calc(100% - 180px)",
    "left": "10px",
    "top": "150px",
    "width": "165px"
   },
   "toc_section_display": true,
   "toc_window_display": true
  }
 },
 "nbformat": 4,
 "nbformat_minor": 5
}
