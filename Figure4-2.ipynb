{
 "cells": [
  {
   "cell_type": "code",
   "execution_count": null,
   "id": "median-release",
   "metadata": {},
   "outputs": [],
   "source": [
    "#!/usr/bin/env python\n",
    "# -*- coding: utf-8 -*-\n",
    "import numpy as np\n",
    "import pandas as pd\n",
    "import scanpy as sc\n",
    "import episcanpy.api as epi\n",
    "import anndata\n",
    "import bbknn\n",
    "import os\n",
    "from scipy import sparse\n",
    "import matplotlib.pyplot as plt\n",
    "from scanpy_base_moudle_update2 import *\n",
    "import scrublet as scr\n",
    "\n",
    "sc.settings.verbosity = 3\n",
    "#sc.logging.print_versions()\n",
    "# 设置图片的分辨率以及其他样式\n",
    "sc.settings.set_figure_params(dpi=150, figsize = (4, 3), fontsize=12)\n",
    "\n",
    "import matplotlib.font_manager\n",
    "flist = matplotlib.font_manager.get_fontconfig_fonts()\n",
    "names = [matplotlib.font_manager.FontProperties(fname=fname).get_name() for fname in flist]\n",
    "print(names)\n",
    "\n",
    "params={\n",
    "        #'font.style':'italic',\n",
    "        'font.weight':'normal',    #or 'blod'\n",
    "        }\n",
    "plt.rcParams.update(params)\n",
    "\n",
    "plt.rcParams['font.family']='Arial'"
   ]
  },
  {
   "cell_type": "code",
   "execution_count": null,
   "id": "narrative-insight",
   "metadata": {},
   "outputs": [],
   "source": [
    "adata = sc.read('/mnt/data2/Datasets/ATAC_data/Cell2021_human_adult_multiple_organs_scATAC/dataset_output/adata_epi_raw.h5ad')\n",
    "adata"
   ]
  },
  {
   "cell_type": "code",
   "execution_count": null,
   "id": "modern-imaging",
   "metadata": {},
   "outputs": [],
   "source": [
    "# 去除基因间区的var\n",
    "var_index = adata.var.loc[~adata.var[\"transcript_annotation\"].isin(['intergenic']), :].index\n",
    "adata = adata[:, var_index]\n",
    "adata"
   ]
  },
  {
   "cell_type": "code",
   "execution_count": null,
   "id": "political-hungary",
   "metadata": {},
   "outputs": [],
   "source": [
    "adata.raw = adata"
   ]
  },
  {
   "cell_type": "code",
   "execution_count": null,
   "id": "perfect-bandwidth",
   "metadata": {},
   "outputs": [],
   "source": [
    "epi.pp.binarize(adata)\n",
    "adata"
   ]
  },
  {
   "cell_type": "code",
   "execution_count": null,
   "id": "danish-hardwood",
   "metadata": {},
   "outputs": [],
   "source": [
    "epi.pp.normalize_total(adata)"
   ]
  },
  {
   "cell_type": "code",
   "execution_count": null,
   "id": "broke-memphis",
   "metadata": {},
   "outputs": [],
   "source": [
    "min_score_value = 0.515\n",
    "nb_feature_selected = 100000\n",
    "epi.pl.variability_features(adata,log=None,\n",
    "                     min_score=min_score_value, nb_features=nb_feature_selected,\n",
    "                     #save='variability_features_plot_bonemarrow_peakmatrix.png'\n",
    "                           )\n",
    "\n",
    "epi.pl.variability_features(adata,log='log10',\n",
    "                     min_score=min_score_value, nb_features=nb_feature_selected,\n",
    "                     #save='variability_features_plot_bonemarrow_peakmatrix_log10.png'\n",
    "                           )"
   ]
  },
  {
   "cell_type": "code",
   "execution_count": null,
   "id": "foreign-master",
   "metadata": {},
   "outputs": [],
   "source": [
    "min_score_value = 0.515\n",
    "nb_feature_selected = 100000\n",
    "epi.pl.variability_features(adata,log=None,\n",
    "                     min_score=min_score_value, nb_features=nb_feature_selected,\n",
    "                     #save='variability_features_plot_bonemarrow_peakmatrix.png'\n",
    "                           )\n",
    "\n",
    "epi.pl.variability_features(adata,log='log10',\n",
    "                     min_score=min_score_value, nb_features=nb_feature_selected,\n",
    "                     #save='variability_features_plot_bonemarrow_peakmatrix_log10.png'\n",
    "                           )"
   ]
  },
  {
   "cell_type": "code",
   "execution_count": null,
   "id": "taken-omaha",
   "metadata": {},
   "outputs": [],
   "source": [
    "# create a new AnnData containing only the most variable features\n",
    "adata = epi.pp.select_var_feature(adata,\n",
    "                                  nb_features=nb_feature_selected,\n",
    "                                  show=False,\n",
    "                                  copy=True)\n",
    "\n",
    "adata"
   ]
  },
  {
   "cell_type": "code",
   "execution_count": null,
   "id": "immune-circulation",
   "metadata": {},
   "outputs": [],
   "source": [
    "import harmonypy as hm\n",
    "\n",
    "def progress_pca_harmony_umap(adata):\n",
    "    sc.tl.pca(adata, svd_solver='arpack')\n",
    "    sc.pl.pca(adata)\n",
    "    sc.pl.pca_variance_ratio(adata, log=True)\n",
    "\n",
    "    # Harmony处理批次效应\n",
    "    harmony_out = hm.run_harmony(adata.obsm['X_pca'], adata.obs, vars_use = ['batch_name'], max_iter_harmony=20)\n",
    "    adata.obsm['X_pca_harmony'] = harmony_out.Z_corr.T\n",
    "    sc.pp.neighbors(adata, n_neighbors=10, use_rep='X_pca_harmony', n_pcs=20)\n",
    "    \n",
    "    # 计算UMAP\n",
    "    sc.tl.umap(adata)\n",
    "    # sc.tl.tsne(adata, n_jobs=6)\n",
    "\n",
    "    return adata\n",
    "\n",
    "adata = progress_pca_harmony_umap(adata)"
   ]
  },
  {
   "cell_type": "code",
   "execution_count": null,
   "id": "desirable-planet",
   "metadata": {},
   "outputs": [],
   "source": [
    "sc.tl.leiden(adata, resolution=1)\n",
    "adata.obs['leiden-epi-1'] = adata.obs['leiden']\n",
    "sc.tl.leiden(adata, resolution=2)\n",
    "adata.obs['leiden-epi-2'] = adata.obs['leiden']"
   ]
  },
  {
   "cell_type": "code",
   "execution_count": null,
   "id": "drawn-region",
   "metadata": {},
   "outputs": [],
   "source": [
    "sc.settings.set_figure_params(dpi=150, figsize = (4, 3), fontsize=10)\n",
    "sc.pl.umap(adata, color=['leiden-epi-1'], add_outline=True,\n",
    "           palette=sc.pl.palettes.vega_20_scanpy, outline_width = (0.2, 0.05), frameon=False, legend_loc='on data')\n",
    "sc.pl.umap(adata, color=['organ'], add_outline=True,\n",
    "           palette=sc.pl.palettes.vega_20_scanpy, outline_width = (0.2, 0.05), frameon=False)\n",
    "sc.pl.umap(adata, color=['leiden-epi-2'], add_outline=True,\n",
    "           palette=sc.pl.palettes.vega_20_scanpy, outline_width = (0.2, 0.05), frameon=False, legend_loc='on data')"
   ]
  },
  {
   "cell_type": "code",
   "execution_count": null,
   "id": "considerable-farmer",
   "metadata": {},
   "outputs": [],
   "source": [
    "from matplotlib import cm, colors\n",
    "colors2 = plt.cm.plasma(np.linspace(0, 1, 128))\n",
    "colors3 = plt.cm.Greys_r(np.linspace(0.7,0.8,1))\n",
    "colorsComb = np.vstack([colors3, colors2])\n",
    "mymap = colors.LinearSegmentedColormap.from_list('my_colormap', colorsComb)"
   ]
  },
  {
   "cell_type": "code",
   "execution_count": null,
   "id": "municipal-statistics",
   "metadata": {},
   "outputs": [],
   "source": [
    "sc.pl.umap(adata,color=['chr8_7055000_7060000','chr8_6920000_6925000','chr8_6925000_6930000','chr5_98770000_98775000','chr10_128125000_128130000','chr5_160185000_160190000','chr16_25215000_25220000'],color_map=mymap, use_raw=True, frameon=False)"
   ]
  },
  {
   "cell_type": "code",
   "execution_count": null,
   "id": "expanded-southwest",
   "metadata": {},
   "outputs": [],
   "source": [
    "obs_index = adata.obs.loc[adata.obs[\"organ\"].isin(['Ileum']), :].index\n",
    "adata_ileum = adata[obs_index,:]\n",
    "adata_ileum"
   ]
  },
  {
   "cell_type": "code",
   "execution_count": null,
   "id": "owned-median",
   "metadata": {},
   "outputs": [],
   "source": [
    "obs_index = adata.obs.loc[adata.obs[\"organ\"].isin(['Colon']), :].index\n",
    "adata_colon = adata[obs_index,:]\n",
    "adata_colon"
   ]
  },
  {
   "cell_type": "code",
   "execution_count": null,
   "id": "immediate-dutch",
   "metadata": {},
   "outputs": [],
   "source": [
    "sc.pl.umap(adata_ileum,color=['chr8_7055000_7060000','chr8_6920000_6925000','chr8_6925000_6930000','chr12_100490000_100495000','chr12_47940000_47945000'],frameon=False, size=5.0,color_map=mymap, use_raw=True)"
   ]
  },
  {
   "cell_type": "code",
   "execution_count": null,
   "id": "sound-minute",
   "metadata": {},
   "outputs": [],
   "source": [
    "sc.pl.umap(adata_ileum,color=['chr8_7055000_7060000'],frameon=False, size=5.0,color_map=mymap, use_raw=True,vmin=0,vmax=6)"
   ]
  },
  {
   "cell_type": "code",
   "execution_count": null,
   "id": "flexible-marker",
   "metadata": {},
   "outputs": [],
   "source": [
    "sc.pl.umap(adata_colon,color=['chr8_7055000_7060000','chr8_6920000_6925000','chr8_6925000_6930000','chr12_100490000_100495000','chr12_47940000_47945000'],frameon=False, size=5.0,color_map=mymap, use_raw=True)"
   ]
  },
  {
   "cell_type": "code",
   "execution_count": null,
   "id": "prescription-mounting",
   "metadata": {},
   "outputs": [],
   "source": [
    "sc.pl.umap(adata_colon,color=['chr8_7055000_7060000'],frameon=False, size=5.0,color_map=mymap, use_raw=True,vmin=0,vmax=6)"
   ]
  },
  {
   "cell_type": "code",
   "execution_count": null,
   "id": "biological-philip",
   "metadata": {},
   "outputs": [],
   "source": [
    "epi.tl.rank_features(adata, 'leiden-epi-1', omic='ATAC')"
   ]
  },
  {
   "cell_type": "code",
   "execution_count": null,
   "id": "meaning-controversy",
   "metadata": {},
   "outputs": [],
   "source": [
    "epi.pl.rank_feat_groups(adata, feature_symbols='transcript_annotation')"
   ]
  },
  {
   "cell_type": "code",
   "execution_count": null,
   "id": "ultimate-silicon",
   "metadata": {},
   "outputs": [],
   "source": [
    "adata.write('/mnt/data2/Datasets/ATAC_data/Cell2021_human_adult_multiple_organs_scATAC/dataset_output/adata_epi_umap_20211229.h5ad')"
   ]
  },
  {
   "cell_type": "code",
   "execution_count": null,
   "id": "renewable-radius",
   "metadata": {},
   "outputs": [],
   "source": [
    "adata = sc.read('/mnt/data2/Datasets/ATAC_data/Cell2021_human_adult_multiple_organs_scATAC/dataset_output/adata_epi_umap_20211229.h5ad')\n",
    "adata"
   ]
  },
  {
   "cell_type": "code",
   "execution_count": null,
   "id": "automotive-sense",
   "metadata": {},
   "outputs": [],
   "source": [
    "sc.settings.set_figure_params(dpi=150, figsize = (4, 4), fontsize=10)\n",
    "sc.pl.umap(adata, color=['leiden-epi-1'], add_outline=True,\n",
    "           palette=sc.pl.palettes.vega_20_scanpy, outline_width = (0.2, 0.05), frameon=False, legend_loc='on data',title='')\n",
    "sc.pl.umap(adata, color=['organ'], add_outline=True,\n",
    "           palette=sc.pl.palettes.vega_20_scanpy, outline_width = (0.2, 0.05), frameon=False,title='')"
   ]
  },
  {
   "cell_type": "code",
   "execution_count": null,
   "id": "physical-insertion",
   "metadata": {},
   "outputs": [],
   "source": [
    "new_colors = np.array(adata.uns['organ_colors'])\n",
    "\n",
    "new_colors[[0]] = '#31bf73' \n",
    "new_colors[[1]] = '#fa56a3' \n",
    "\n",
    "adata.uns['organ_colors'] = new_colors\n",
    "sc.settings.set_figure_params(dpi=400, figsize = (4, 4), fontsize=10)\n",
    "sc.pl.umap(adata, color=['organ'],frameon=False,title='',size=5)"
   ]
  },
  {
   "cell_type": "markdown",
   "id": "criminal-communications",
   "metadata": {},
   "source": [
    "**SI**"
   ]
  },
  {
   "cell_type": "code",
   "execution_count": null,
   "id": "precise-butterfly",
   "metadata": {},
   "outputs": [],
   "source": [
    "obs_index = adata.obs.loc[adata.obs[\"organ\"].isin(['Ileum']), :].index\n",
    "adata_ileum = adata[obs_index,:]\n",
    "adata_ileum"
   ]
  },
  {
   "cell_type": "code",
   "execution_count": null,
   "id": "expressed-tsunami",
   "metadata": {},
   "outputs": [],
   "source": [
    "from matplotlib import cm, colors\n",
    "colors2 = plt.cm.plasma(np.linspace(0, 1, 128))\n",
    "colors3 = plt.cm.Greys_r(np.linspace(0.7,0.8,1))\n",
    "colorsComb = np.vstack([colors3, colors2])\n",
    "mymap = colors.LinearSegmentedColormap.from_list('my_colormap', colorsComb)"
   ]
  },
  {
   "cell_type": "code",
   "execution_count": null,
   "id": "homeless-potential",
   "metadata": {},
   "outputs": [],
   "source": [
    "SI_var_list = ['chr7_75810000_75815000','chr7_75815000_75820000','chr7_75820000_75825000','chr7_75825000_75830000', # CCL24\n",
    "            'chr12_69345000_69350000','chr12_69350000_69355000',  # LYZ\n",
    "            'chr8_7055000_7060000', # DEFA5\n",
    "            'chr8_6920000_6925000','chr8_6925000_6930000', # DEFA6\n",
    "            'chr7_142765000_142770000','chr7_142770000_142775000', # PRSS2\n",
    "            'chr2_79155000_79160000','chr2_79160000_79165000', # REG3A\n",
    "            'chr2_79020000_79025000','chr2_79025000_79030000', # REG3G\n",
    "            # DMBT1\n",
    "            'chr10_122555000_122560000','chr10_122560000_122565000','chr10_122565000_122570000','chr10_122570000_122575000','chr10_122575000_122580000','chr10_122585000_122590000','chr10_122590000_122595000','chr10_122595000_122600000','chr10_122615000_122620000','chr10_122620000_122625000','chr10_122625000_122630000','chr10_122630000_122635000','chr10_122635000_122640000','chr10_122640000_122645000',\n",
    "            # GBP1\n",
    "            'chr1_89050000_89055000','chr1_89055000_89060000','chr1_89060000_89065000','chr1_89065000_89070000',\n",
    "            # LEAP2\n",
    "            'chr5_132870000_132875000']"
   ]
  },
  {
   "cell_type": "code",
   "execution_count": null,
   "id": "unnecessary-strike",
   "metadata": {
    "scrolled": false
   },
   "outputs": [],
   "source": [
    "sc.settings.set_figure_params(dpi=150, figsize = (4, 4), fontsize=10)\n",
    "sc.pl.umap(adata_ileum,color=SI_var_list,frameon=False, size=15,color_map=mymap, use_raw=True,vmin=0)"
   ]
  },
  {
   "cell_type": "code",
   "execution_count": null,
   "id": "homeless-swing",
   "metadata": {},
   "outputs": [],
   "source": [
    "# LI\n",
    "LI_var_list = [# WFDC2\n",
    "            'chr20_45465000_45470000','chr20_45470000_45475000','chr20_45475000_45480000','chr20_45480000_45485000',\n",
    "            # LYPD8\n",
    "            'chr1_248735000_248740000','chr1_248740000_248745000','chr1_248745000_248750000','chr1_248750000_248755000','chr1_248755000_248760000',\n",
    "            # ADM\n",
    "            'chr11_10300000_10305000','chr11_10305000_10310000',\n",
    "            # DEFB1\n",
    "            'chr8_6870000_6875000','chr8_6875000_6880000',\n",
    "            # PI3\n",
    "            'chr20_45170000_45175000','chr20_45175000_45180000',\n",
    "            # CCL20\n",
    "            'chr2_227800000_227805000','chr2_227805000_227810000','chr2_227810000_227815000','chr2_227815000_227820000',\n",
    "            # CXCL2\n",
    "            'chr4_74095000_74100000','chr4_74100000_74105000']"
   ]
  },
  {
   "cell_type": "code",
   "execution_count": null,
   "id": "changing-rating",
   "metadata": {},
   "outputs": [],
   "source": [
    "sc.settings.set_figure_params(dpi=150, figsize = (4, 4), fontsize=10)\n",
    "sc.pl.umap(adata_ileum,color=LI_var_list,frameon=False, size=15,color_map=mymap, use_raw=True,vmin=0)"
   ]
  },
  {
   "cell_type": "markdown",
   "id": "hairy-tenant",
   "metadata": {},
   "source": [
    "**LI**"
   ]
  },
  {
   "cell_type": "code",
   "execution_count": null,
   "id": "graphic-handy",
   "metadata": {},
   "outputs": [],
   "source": [
    "obs_index = adata.obs.loc[adata.obs[\"organ\"].isin(['Colon']), :].index\n",
    "adata_colon = adata[obs_index,:]\n",
    "adata_colon"
   ]
  },
  {
   "cell_type": "code",
   "execution_count": null,
   "id": "suspected-kentucky",
   "metadata": {},
   "outputs": [],
   "source": [
    "SI_var_list = ['chr7_75810000_75815000','chr7_75815000_75820000','chr7_75820000_75825000','chr7_75825000_75830000', # CCL24\n",
    "            'chr12_69345000_69350000','chr12_69350000_69355000',  # LYZ\n",
    "            'chr8_7055000_7060000', # DEFA5\n",
    "            'chr8_6920000_6925000','chr8_6925000_6930000', # DEFA6\n",
    "            'chr7_142765000_142770000','chr7_142770000_142775000', # PRSS2\n",
    "            'chr2_79155000_79160000','chr2_79160000_79165000', # REG3A\n",
    "            'chr2_79020000_79025000','chr2_79025000_79030000', # REG3G\n",
    "            # DMBT1\n",
    "            'chr10_122555000_122560000','chr10_122560000_122565000','chr10_122565000_122570000','chr10_122570000_122575000','chr10_122575000_122580000','chr10_122585000_122590000','chr10_122590000_122595000','chr10_122595000_122600000','chr10_122615000_122620000','chr10_122620000_122625000','chr10_122625000_122630000','chr10_122630000_122635000','chr10_122635000_122640000','chr10_122640000_122645000',\n",
    "            # GBP1\n",
    "            'chr1_89050000_89055000','chr1_89055000_89060000','chr1_89060000_89065000','chr1_89065000_89070000',\n",
    "            # LEAP2\n",
    "            'chr5_132870000_132875000']"
   ]
  },
  {
   "cell_type": "code",
   "execution_count": null,
   "id": "developed-shore",
   "metadata": {
    "scrolled": false
   },
   "outputs": [],
   "source": [
    "sc.settings.set_figure_params(dpi=150, figsize = (4, 4), fontsize=10)\n",
    "sc.pl.umap(adata_colon,color=SI_var_list,frameon=False, size=10,color_map=mymap, use_raw=True,vmin=0)"
   ]
  },
  {
   "cell_type": "code",
   "execution_count": null,
   "id": "integral-relay",
   "metadata": {},
   "outputs": [],
   "source": [
    "# LI\n",
    "LI_var_list = [# WFDC2\n",
    "            'chr20_45465000_45470000','chr20_45470000_45475000','chr20_45475000_45480000','chr20_45480000_45485000',\n",
    "            # LYPD8\n",
    "            'chr1_248735000_248740000','chr1_248740000_248745000','chr1_248745000_248750000','chr1_248750000_248755000','chr1_248755000_248760000',\n",
    "            # ADM\n",
    "            'chr11_10300000_10305000','chr11_10305000_10310000',\n",
    "            # DEFB1\n",
    "            'chr8_6870000_6875000','chr8_6875000_6880000',\n",
    "            # PI3\n",
    "            'chr20_45170000_45175000','chr20_45175000_45180000',\n",
    "            # CCL20\n",
    "            'chr2_227800000_227805000','chr2_227805000_227810000','chr2_227810000_227815000','chr2_227815000_227820000',\n",
    "            # CXCL2\n",
    "            'chr4_74095000_74100000','chr4_74100000_74105000']"
   ]
  },
  {
   "cell_type": "code",
   "execution_count": null,
   "id": "vocal-hollow",
   "metadata": {},
   "outputs": [],
   "source": [
    "sc.settings.set_figure_params(dpi=150, figsize = (4, 4), fontsize=10)\n",
    "sc.pl.umap(adata_colon,color=LI_var_list,frameon=False, size=10,color_map=mymap, use_raw=True,vmin=0)"
   ]
  },
  {
   "cell_type": "markdown",
   "id": "aerial-scheduling",
   "metadata": {},
   "source": [
    "# Figure4D"
   ]
  },
  {
   "cell_type": "markdown",
   "id": "nervous-library",
   "metadata": {},
   "source": [
    "**SI**: DEFA5/6: 'chr8_7055000_7060000', # DEFA5 // 'chr8_6920000_6925000','chr8_6925000_6930000', # DEFA6\n",
    "\n",
    "**LI**: WFDC2/ADM: 'chr20_45465000_45470000','chr20_45470000_45475000','chr20_45475000_45480000','chr20_45480000_45485000',# WFDC2 // 'chr11_10300000_10305000','chr11_10305000_10310000', # ADM"
   ]
  },
  {
   "cell_type": "code",
   "execution_count": null,
   "id": "prerequisite-presence",
   "metadata": {
    "scrolled": false
   },
   "outputs": [],
   "source": [
    "sc.settings.set_figure_params(dpi=400, figsize = (4, 4), fontsize=10)\n",
    "# DEFA5\n",
    "sc.pl.umap(adata_ileum,color=['chr8_7055000_7060000'],frameon=False, size=15.0,color_map=mymap, use_raw=True,vmin=0,vmax=6,title='')\n",
    "sc.pl.umap(adata_colon,color=['chr8_7055000_7060000'],frameon=False, size=15.0,color_map=mymap, use_raw=True,vmin=0,vmax=6,title='')"
   ]
  },
  {
   "cell_type": "code",
   "execution_count": null,
   "id": "institutional-beijing",
   "metadata": {},
   "outputs": [],
   "source": [
    "from matplotlib import cm, colors\n",
    "colors2 = plt.cm.plasma(np.linspace(0, 1, 128))\n",
    "colors3 = plt.cm.Greys_r(np.linspace(0.7,0.8,1))\n",
    "colorsComb = np.vstack([colors3, colors2])\n",
    "mymap = colors.LinearSegmentedColormap.from_list('my_colormap', colorsComb)"
   ]
  },
  {
   "cell_type": "code",
   "execution_count": null,
   "id": "mexican-recall",
   "metadata": {},
   "outputs": [],
   "source": [
    "# DEFA6\n",
    "sc.pl.umap(adata_ileum,color=['chr8_6920000_6925000','chr8_6925000_6930000'],frameon=False, size=15.0,color_map=mymap, use_raw=True,vmin=0,vmax=6,title=['',''])\n",
    "sc.pl.umap(adata_colon,color=['chr8_6920000_6925000','chr8_6925000_6930000'],frameon=False, size=15.0,color_map=mymap, use_raw=True,vmin=0,vmax=6,title=['',''])"
   ]
  },
  {
   "cell_type": "code",
   "execution_count": null,
   "id": "social-trader",
   "metadata": {},
   "outputs": [],
   "source": [
    "# WFDC2\n",
    "sc.pl.umap(adata_ileum,color=['chr20_45465000_45470000','chr20_45470000_45475000','chr20_45475000_45480000','chr20_45480000_45485000'],frameon=False, size=15.0,color_map=mymap, use_raw=True,vmin=0,vmax=6)\n",
    "sc.pl.umap(adata_colon,color=['chr20_45465000_45470000','chr20_45470000_45475000','chr20_45475000_45480000','chr20_45480000_45485000'],frameon=False, size=15.0,color_map=mymap, use_raw=True,vmin=0,vmax=6)"
   ]
  },
  {
   "cell_type": "code",
   "execution_count": null,
   "id": "healthy-property",
   "metadata": {},
   "outputs": [],
   "source": [
    "# Stem\n",
    "E01_index = adata.obs.loc[adata.obs[\"leiden-all-1\"].isin(['10']), :].index\n",
    "# TA\n",
    "E02_index = adata.obs.loc[adata.obs[\"leiden-all-1\"].isin(['6','12','18']), :].index"
   ]
  },
  {
   "cell_type": "code",
   "execution_count": null,
   "id": "accessory-photograph",
   "metadata": {},
   "outputs": [],
   "source": [
    "adata.obs['cluster_figure1A'] = 'C01-E01-Stem cells'\n",
    "adata.obs.at[E02_index,'cluster_figure1A']='C01-E02-TA'\n",
    "adata.obs.at[E03_index,'cluster_figure1A']='C01-E03-Immature enterocytes'"
   ]
  },
  {
   "cell_type": "code",
   "execution_count": null,
   "id": "forbidden-croatia",
   "metadata": {},
   "outputs": [],
   "source": [
    "adata = sc.read_10x_h5('/mnt/data2/Datasets/Test_datasets/Signac/PBMC/atac_v1_pbmc_10k_filtered_peak_bc_matrix.h5')\n",
    "adata"
   ]
  },
  {
   "cell_type": "code",
   "execution_count": null,
   "id": "compatible-valentine",
   "metadata": {},
   "outputs": [],
   "source": [
    "/mnt/data2/Datasets/Test_datasets/Signac/PBMC/atac_v1_pbmc_10k_singlecell.csv"
   ]
  }
 ],
 "metadata": {
  "kernelspec": {
   "display_name": "Python [conda env:singlecell] *",
   "language": "python",
   "name": "conda-env-singlecell-py"
  },
  "language_info": {
   "codemirror_mode": {
    "name": "ipython",
    "version": 3
   },
   "file_extension": ".py",
   "mimetype": "text/x-python",
   "name": "python",
   "nbconvert_exporter": "python",
   "pygments_lexer": "ipython3",
   "version": "3.7.10"
  },
  "toc": {
   "base_numbering": 1,
   "nav_menu": {},
   "number_sections": true,
   "sideBar": true,
   "skip_h1_title": false,
   "title_cell": "Table of Contents",
   "title_sidebar": "Contents",
   "toc_cell": false,
   "toc_position": {
    "height": "calc(100% - 180px)",
    "left": "10px",
    "top": "150px",
    "width": "165px"
   },
   "toc_section_display": true,
   "toc_window_display": true
  }
 },
 "nbformat": 4,
 "nbformat_minor": 5
}
